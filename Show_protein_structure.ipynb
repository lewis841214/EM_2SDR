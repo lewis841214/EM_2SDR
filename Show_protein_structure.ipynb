{
 "cells": [
  {
   "cell_type": "code",
   "execution_count": 3,
   "metadata": {},
   "outputs": [],
   "source": [
    "import torch\n",
    "import numpy as np\n",
    "import pickle\n",
    "U1 = torch.load('/home/users/lewis841214/Desktop/1project/CryoEMCode/GPU_CryoEM/tomosipo_structureed/snap_shot/20220309_3DVA_data_mean_by_EM_PCA_after_subtract_senior_mean_EM_2SDR_n_20_18_is_pretrained_1th_4_U1.pt')\n",
    "U2 = torch.load('/home/users/lewis841214/Desktop/1project/CryoEMCode/GPU_CryoEM/tomosipo_structureed/snap_shot/20220309_3DVA_data_mean_by_EM_PCA_after_subtract_senior_mean_EM_2SDR_n_20_18_is_pretrained_1th_4_U2.pt')\n",
    "U3 = torch.load('/home/users/lewis841214/Desktop/1project/CryoEMCode/GPU_CryoEM/tomosipo_structureed/snap_shot/20220309_3DVA_data_mean_by_EM_PCA_after_subtract_senior_mean_EM_2SDR_n_20_18_is_pretrained_1th_4_U3.pt')\n",
    "\n",
    "pca_file= '/home/users/lewis841214/Desktop/1project/CryoEMCode/GPU_CryoEM/tomosipo_structureed/snap_shot/20220309_3DVA_data_mean_by_EM_PCA_after_subtract_senior_mean_EM_2SDR_n_20_18_is_pretrained_PCA_W_iter_14.pkl'\n",
    "with open(pca_file, 'rb') as f:\n",
    "    PCA_coef = pickle.load(f)"
   ]
  },
  {
   "cell_type": "code",
   "execution_count": 45,
   "metadata": {},
   "outputs": [],
   "source": [
    "import numpy\n",
    "import mrcfile\n",
    "ProjSize = 34\n",
    "def save_density(data, grid_spacing, outfilename, origin=None):\n",
    "    \"\"\"\n",
    "    Save the density to an mrc file. The origin of the grid will be (0,0,0)\n",
    "    • outfilename: the mrc file name for the output\n",
    "    \"\"\"\n",
    "    print(\"Saving mrc file ...\") \n",
    "    data = data.astype('float32')\n",
    "    with mrcfile.new(outfilename, overwrite=True) as mrc:\n",
    "        mrc.set_data(data.T)\n",
    "        mrc.voxel_size = grid_spacing\n",
    "        if origin is not None:\n",
    "            mrc.header['origin']['x'] = origin[0]\n",
    "            mrc.header['origin']['y'] = origin[1]\n",
    "            mrc.header['origin']['z'] = origin[2]\n",
    "        mrc.update_header_from_data()\n",
    "        mrc.update_header_stats()\n",
    "    print(\"done\") \n",
    "def reshape_fortran(x, shape):\n",
    "    if len(x.shape) > 0:\n",
    "        x = x.permute(*reversed(range(len(x.shape))))\n",
    "    return x.reshape(*reversed(shape)).permute(*reversed(range(len(shape))))\n",
    "All_U= torch.kron(U1, torch.kron(U2, U3))\n",
    "PCs = torch.permute(torch.tensor(PCA_coef), (1, 0)).float()\n",
    "two_SDR_PCs = All_U @ PCs\n",
    "two_SDR_PCs_struct = reshape_fortran(two_SDR_PCs, (5, ProjSize, ProjSize, ProjSize)).float().detach().numpy()"
   ]
  },
  {
   "cell_type": "code",
   "execution_count": 46,
   "metadata": {},
   "outputs": [
    {
     "name": "stdout",
     "output_type": "stream",
     "text": [
      "(5, 34, 34, 34)\n",
      "Saving mrc file ...\n",
      "done\n"
     ]
    },
    {
     "data": {
      "application/vnd.jupyter.widget-view+json": {
       "model_id": "83a4adeab2a343b3b7abbda66ded83b2",
       "version_major": 2,
       "version_minor": 0
      },
      "text/plain": [
       "NGLWidget()"
      ]
     },
     "metadata": {},
     "output_type": "display_data"
    }
   ],
   "source": [
    "print(two_SDR_PCs_struct.shape)\n",
    "two_SDR_PCs_struct = torch.load('/home/users/lewis841214/Desktop/1project/CryoEMCode/GPU_CryoEM/tomosipo_structureed/snap_shot/20220309_3DVA_data_mean_by_EM_PCA_after_subtract_senior_mean_EM_2SDR_n_20_18_is_pretrained_lr0.01_1th_2SDR_PCs.pt')\n",
    "two_SDR_PCs_struct= reshape_fortran(two_SDR_PCs_struct, (5, ProjSize, ProjSize, ProjSize)).float().detach().numpy()\n",
    "first_struct = two_SDR_PCs_struct[2]\n",
    "save_density(first_struct, (68,68,68), 'test.mrc' )\n",
    "import nglview as nv\n",
    "view_density_map = nv.show_file(f\"test.mrc\")\n",
    "view_density_map"
   ]
  },
  {
   "cell_type": "code",
   "execution_count": 34,
   "metadata": {},
   "outputs": [
    {
     "name": "stdout",
     "output_type": "stream",
     "text": [
      "(34, 34, 34)\n",
      "<class 'tuple'>\n",
      "(5, 8000)\n"
     ]
    }
   ],
   "source": [
    "print(first_struct.shape)\n",
    "print(type(first_struct.shape))\n",
    "mu_file= '/home/users/lewis841214/Desktop/1project/CryoEMCode/GPU_CryoEM/tomosipo_structureed/snap_shot/20220309_3DVA_data_mean_by_EM_PCA_after_subtract_senior_mean_EM_2SDR_n_20_18_is_pretrained_all_mu_14.pkl'\n",
    "with open(pca_file, 'rb') as f:\n",
    "    all_mu = pickle.load(f)\n",
    "print(all_mu.shape)"
   ]
  },
  {
   "cell_type": "code",
   "execution_count": 42,
   "metadata": {},
   "outputs": [
    {
     "name": "stdout",
     "output_type": "stream",
     "text": [
      "(5, 34, 34, 34)\n",
      "(34, 34, 34)\n",
      "Saving mrc file ...\n",
      "done\n"
     ]
    },
    {
     "data": {
      "application/vnd.jupyter.widget-view+json": {
       "model_id": "58d37b1068b8452aa6fe98ebfad298cc",
       "version_major": 2,
       "version_minor": 0
      },
      "text/plain": [
       "NGLWidget()"
      ]
     },
     "metadata": {},
     "output_type": "display_data"
    }
   ],
   "source": [
    "print(two_SDR_PCs_struct.shape)\n",
    "for i in range(5):\n",
    "    if i ==0:\n",
    "        f_struct = two_SDR_PCs_struct[0] * all_mu[:,0][0]\n",
    "    else:\n",
    "        f_struct = f_struct + two_SDR_PCs_struct[i] * all_mu[:,0][i]\n",
    "        \n",
    "print(f_struct.shape)\n",
    "save_density(f_struct, (68,68,68), 'test.mrc' )\n",
    "import nglview as nv\n",
    "view_density_map = nv.show_file(f\"test.mrc\")\n",
    "view_density_map"
   ]
  },
  {
   "cell_type": "code",
   "execution_count": 59,
   "metadata": {},
   "outputs": [
    {
     "name": "stdout",
     "output_type": "stream",
     "text": [
      "<class 'numpy.ndarray'>\n",
      "torch.Size([8000, 5])\n",
      "torch.Size([39304, 5])\n",
      "Saving mrc file ...\n",
      "done\n"
     ]
    },
    {
     "data": {
      "application/vnd.jupyter.widget-view+json": {
       "model_id": "3367687c46f54072bc8e7b1c6e30bb6b",
       "version_major": 2,
       "version_minor": 0
      },
      "text/plain": [
       "NGLWidget()"
      ]
     },
     "metadata": {},
     "output_type": "display_data"
    }
   ],
   "source": [
    "mu_file= '/home/users/lewis841214/Desktop/1project/CryoEMCode/GPU_CryoEM/tomosipo_structureed/snap_shot/20220309_3DVA_data_mean_by_EM_PCA_after_subtract_senior_mean_EM_2SDR_n_20_18_is_pretrained_all_mu_14.pkl'\n",
    "with open(pca_file, 'rb') as f:\n",
    "    all_mu = pickle.load(f)\n",
    "print(type(all_mu))\n",
    "print(torch.tensor(all_mu).float().T.shape)\n",
    "sll_struct = All_U @ torch.tensor(all_mu).float().T\n",
    "print(sll_struct.shape)\n",
    "f_struct = sll_struct[:, 0]\n",
    "f_struct = reshape_fortran(f_struct, (ProjSize, ProjSize, ProjSize)).float().detach().numpy()\n",
    "save_density(f_struct, (68,68,68), 'test.mrc' )\n",
    "import nglview as nv\n",
    "view_density_map = nv.show_file(f\"test.mrc\")\n",
    "view_density_map"
   ]
  },
  {
   "cell_type": "code",
   "execution_count": 65,
   "metadata": {},
   "outputs": [
    {
     "name": "stdout",
     "output_type": "stream",
     "text": [
      "torch.Size([8000, 5])\n",
      "Saving mrc file ...\n",
      "done\n"
     ]
    },
    {
     "name": "stderr",
     "output_type": "stream",
     "text": [
      "/home/users/lewis841214/.conda/envs/protein_reconstruction/lib/python3.6/site-packages/ipykernel_launcher.py:2: UserWarning: To copy construct from a tensor, it is recommended to use sourceTensor.clone().detach() or sourceTensor.clone().detach().requires_grad_(True), rather than torch.tensor(sourceTensor).\n",
      "  \n"
     ]
    },
    {
     "data": {
      "application/vnd.jupyter.widget-view+json": {
       "model_id": "614212b5ecee4fd483484b53868df4d7",
       "version_major": 2,
       "version_minor": 0
      },
      "text/plain": [
       "NGLWidget()"
      ]
     },
     "metadata": {},
     "output_type": "display_data"
    }
   ],
   "source": [
    "print(PCs.shape)\n",
    "pc_struct = All_U @ torch.tensor(PCs).float()\n",
    "f_pc_struct = pc_struct[:, 0]\n",
    "f_pc_struct = reshape_fortran(f_pc_struct, (ProjSize, ProjSize, ProjSize)).float().detach().numpy()\n",
    "save_density(f_pc_struct, (68,68,68), 'test.mrc' )\n",
    "import nglview as nv\n",
    "view_density_map = nv.show_file(f\"test.mrc\")\n",
    "view_density_map"
   ]
  },
  {
   "cell_type": "code",
   "execution_count": null,
   "metadata": {},
   "outputs": [],
   "source": []
  }
 ],
 "metadata": {
  "kernelspec": {
   "display_name": "Python 3",
   "language": "python",
   "name": "python3"
  },
  "language_info": {
   "codemirror_mode": {
    "name": "ipython",
    "version": 3
   },
   "file_extension": ".py",
   "mimetype": "text/x-python",
   "name": "python",
   "nbconvert_exporter": "python",
   "pygments_lexer": "ipython3",
   "version": "3.6.9"
  }
 },
 "nbformat": 4,
 "nbformat_minor": 2
}
