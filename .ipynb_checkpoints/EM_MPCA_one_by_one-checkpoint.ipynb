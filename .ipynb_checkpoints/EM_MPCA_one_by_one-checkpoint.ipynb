{
 "cells": [
  {
   "cell_type": "code",
   "execution_count": 1,
   "metadata": {},
   "outputs": [],
   "source": [
    "import tomosipo as ts\n",
    "import numpy as np"
   ]
  },
  {
   "cell_type": "code",
   "execution_count": 2,
   "metadata": {},
   "outputs": [],
   "source": [
    "vg = ts.volume(shape=(32, 32, 32), size=(1, 1, 1))\n",
    "pg = ts.parallel(angles=32, shape=(48, 48), size=(1.5, 1.5))"
   ]
  },
  {
   "cell_type": "code",
   "execution_count": 3,
   "metadata": {},
   "outputs": [],
   "source": [
    "svg = ts.svg(vg, pg)\n",
    "svg.save(\"./doc/img/intro_forward_projection_geometries.svg\")"
   ]
  },
  {
   "cell_type": "code",
   "execution_count": 4,
   "metadata": {},
   "outputs": [],
   "source": [
    "A = ts.operator(vg, pg)\n"
   ]
  },
  {
   "cell_type": "code",
   "execution_count": 5,
   "metadata": {},
   "outputs": [],
   "source": [
    "x = np.ones(A.domain_shape, dtype=np.float32)"
   ]
  },
  {
   "cell_type": "code",
   "execution_count": 6,
   "metadata": {},
   "outputs": [],
   "source": [
    "y = A(x)"
   ]
  },
  {
   "cell_type": "code",
   "execution_count": 7,
   "metadata": {},
   "outputs": [
    {
     "data": {
      "text/plain": [
       "<Figure size 640x480 with 1 Axes>"
      ]
     },
     "metadata": {},
     "output_type": "display_data"
    },
    {
     "data": {
      "text/plain": [
       "<Figure size 640x480 with 1 Axes>"
      ]
     },
     "metadata": {},
     "output_type": "display_data"
    }
   ],
   "source": [
    "import matplotlib.pyplot as plt\n",
    "plt.imshow(y[:, 0, :]) # first projection\n",
    "plt.show()\n",
    "plt.imshow(y[:, 8, :]) # quarter rotation\n",
    "plt.show()"
   ]
  },
  {
   "cell_type": "code",
   "execution_count": 8,
   "metadata": {},
   "outputs": [
    {
     "name": "stdout",
     "output_type": "stream",
     "text": [
      "(69, 57, 75)\n"
     ]
    }
   ],
   "source": [
    "import mrcfile\n",
    "import numpy as np\n",
    "import matplotlib.pyplot as plt\n",
    "file_name = './data/5j0n.mrc'\n",
    "with mrcfile.open(file_name) as mrcVol:\n",
    "    Vol1      = np.array(mrcVol.data) \n",
    "    ProjSize1 = int(np.sqrt(np.sum(np.square(Vol1.shape))))\n",
    "print(Vol1.shape)\n"
   ]
  },
  {
   "cell_type": "code",
   "execution_count": 9,
   "metadata": {},
   "outputs": [
    {
     "data": {
      "image/png": "[encoded data removed]",
      "text/plain": [
       "<Figure size 432x288 with 1 Axes>"
      ]
     },
     "metadata": {
      "needs_background": "light"
     },
     "output_type": "display_data"
    },
    {
     "data": {
      "image/png": "[encoded data removed]",
      "text/plain": [
       "<Figure size 432x288 with 1 Axes>"
      ]
     },
     "metadata": {
      "needs_background": "light"
     },
     "output_type": "display_data"
    }
   ],
   "source": [
    "vg = ts.volume(shape=(32, 32, 32), size=(1, 1, 1))\n",
    "pg = ts.parallel(angles=50, shape=(43, 43), size=(1.5, 1.5))\n",
    "svg = ts.svg(vg, pg)\n",
    "svg.save(\"./doc/img/intro_forward_projection_geometries.svg\")\n",
    "A = ts.operator(vg, pg)\n",
    "from scipy.ndimage import zoom\n",
    "x = zoom(Vol1, (32/69, 32/57, 32/75))\n",
    "y = A(x)\n",
    "plt.imshow(y[:, 0, :]) # first projection\n",
    "plt.show()\n",
    "plt.imshow(y[:, 8, :]) # quarter rotation\n",
    "plt.show()"
   ]
  },
  {
   "cell_type": "code",
   "execution_count": 10,
   "metadata": {},
   "outputs": [
    {
     "name": "stdout",
     "output_type": "stream",
     "text": [
      "[[ 0.         -1.          0.        ]\n",
      " [ 0.         -0.99802673  0.06279052]\n",
      " [ 0.         -0.9921147   0.12533323]\n",
      " [ 0.         -0.98228725  0.18738131]\n",
      " [ 0.         -0.96858316  0.24868989]]\n"
     ]
    }
   ],
   "source": [
    "print(pg.ray_dir[:5])\n",
    "#print(pg._det_vec)\n"
   ]
  },
  {
   "cell_type": "code",
   "execution_count": 11,
   "metadata": {},
   "outputs": [
    {
     "name": "stdout",
     "output_type": "stream",
     "text": [
      "[[0.        0.        0.       ]\n",
      " [1.8860662 2.0739784 3.6501303]\n",
      " [3.948796  1.4204998 2.6239626]\n",
      " [1.0760686 0.9697671 3.369385 ]]\n"
     ]
    }
   ],
   "source": [
    "#Then load the angle data:\n",
    "import pickle\n",
    "file_angle = './data/angle_data.pkl'\n",
    "with open(file_angle, 'rb') as f:\n",
    "    angles2 = pickle.load(f)\n",
    "print(angles2[:4])"
   ]
  },
  {
   "cell_type": "code",
   "execution_count": 12,
   "metadata": {},
   "outputs": [
    {
     "name": "stdout",
     "output_type": "stream",
     "text": [
      "(5000, 12)\n"
     ]
    }
   ],
   "source": [
    "import astra\n",
    "ProjSize = 43\n",
    "with open('/home/users/lewis841214/Desktop/1project/CryoEMCode/protein-reconstruction/cryoem/Orientation_Vectors.pkl', 'rb') as handle:\n",
    "    Orientation_Vectors = pickle.load(handle  )\n",
    "Orientation_Vectors = Orientation_Vectors\n",
    "print(Orientation_Vectors.shape)\n",
    "Proj_geom = astra.create_proj_geom('parallel3d_vec', ProjSize, ProjSize, Orientation_Vectors)\n"
   ]
  },
  {
   "cell_type": "code",
   "execution_count": 13,
   "metadata": {},
   "outputs": [],
   "source": [
    "from tomosipo.geometry.parallel_vec import *\n",
    "#pg = ParallelVectorGeometry.from_astra(Proj_geom)\n",
    "pg = ts.from_astra(Proj_geom)"
   ]
  },
  {
   "cell_type": "code",
   "execution_count": 14,
   "metadata": {},
   "outputs": [
    {
     "name": "stdout",
     "output_type": "stream",
     "text": [
      "(32, 32, 32)\n"
     ]
    },
    {
     "data": {
      "image/png": "[encoded data removed]",
      "text/plain": [
       "<Figure size 432x288 with 1 Axes>"
      ]
     },
     "metadata": {
      "needs_background": "light"
     },
     "output_type": "display_data"
    },
    {
     "data": {
      "image/png": "[encoded data removed]",
      "text/plain": [
       "<Figure size 432x288 with 1 Axes>"
      ]
     },
     "metadata": {
      "needs_background": "light"
     },
     "output_type": "display_data"
    }
   ],
   "source": [
    "#vg = ts.volume(shape=(32, 32, 32), size=(1, 1, 1))\n",
    "#pg = ts.parallel(angles=50, shape=(48, 48), size=(1.5, 1.5))\n",
    "Vol_geom = astra.create_vol_geom(32, 32, 32)\n",
    "vg = ts.from_astra(Vol_geom)\n",
    "pg = ts.from_astra(Proj_geom)\n",
    "A = ts.operator(vg, pg)\n",
    "from scipy.ndimage import zoom\n",
    "x = zoom(Vol1, (32/69, 32/57, 32/75))\n",
    "print(x.shape)\n",
    "y = A(x)\n",
    "plt.imshow(y[:, 0, :]) # first projection\n",
    "plt.show()\n",
    "plt.imshow(y[:, 1, :]) # quarter rotation\n",
    "plt.show()"
   ]
  },
  {
   "cell_type": "code",
   "execution_count": 15,
   "metadata": {},
   "outputs": [
    {
     "name": "stdout",
     "output_type": "stream",
     "text": [
      "(5000, 43, 43)\n"
     ]
    },
    {
     "data": {
      "image/png": "[encoded data removed]",
      "text/plain": [
       "<Figure size 432x288 with 1 Axes>"
      ]
     },
     "metadata": {
      "needs_background": "light"
     },
     "output_type": "display_data"
    }
   ],
   "source": [
    "with open('Long_sep.pkl', 'rb') as f:\n",
    "    Images = pickle.load(f)\n",
    "#Images = y\n",
    "print(Images.shape)\n",
    "plt.imshow(Images[0, :, :]) # quarter rotation\n",
    "plt.show()\n"
   ]
  },
  {
   "cell_type": "code",
   "execution_count": 16,
   "metadata": {},
   "outputs": [
    {
     "name": "stdout",
     "output_type": "stream",
     "text": [
      "[[-0.59650447 -0.48173293  0.64196246]\n",
      " [ 0.25872594 -0.76535396  0.58931673]\n",
      " [-0.92641711 -0.08634023 -0.36646515]\n",
      " [-0.76794977 -0.11458671  0.63017699]\n",
      " [-0.96064009  0.11985684 -0.25060917]]\n",
      "[[-0.24098466  0.87043718  0.42926159]\n",
      " [-0.26720006  0.52957799  0.80507843]\n",
      " [ 0.14437403 -0.98040985 -0.13398753]\n",
      " [ 0.42884264  0.63881513  0.638756  ]\n",
      " [-0.11472507 -0.99277904 -0.03504201]]\n",
      "[[-0.76557744  0.10135335 -0.63530991]\n",
      " [-0.92825913 -0.36576014 -0.06748706]\n",
      " [-0.34771753 -0.17703639  0.92073375]\n",
      " [-0.47575954  0.76077928 -0.44143826]\n",
      " [-0.25299956 -0.00491161  0.96745393]]\n"
     ]
    }
   ],
   "source": [
    "print(pg.ray_dir[:5])\n",
    "print(pg.det_v[:5])\n",
    "print(pg.det_u[:5])\n"
   ]
  },
  {
   "cell_type": "code",
   "execution_count": 17,
   "metadata": {},
   "outputs": [
    {
     "name": "stdout",
     "output_type": "stream",
     "text": [
      "[[ 0.64196246 -0.48173293 -0.59650447  0.          0.          0.\n",
      "  -0.63530991  0.10135335 -0.76557744  0.42926159  0.87043718 -0.24098466]\n",
      " [ 0.58931673 -0.76535396  0.25872594  0.          0.          0.\n",
      "  -0.06748706 -0.36576014 -0.92825913  0.80507843  0.52957799 -0.26720006]\n",
      " [-0.36646515 -0.08634023 -0.92641711  0.          0.          0.\n",
      "   0.92073375 -0.17703639 -0.34771753 -0.13398753 -0.98040985  0.14437403]\n",
      " [ 0.63017699 -0.11458671 -0.76794977  0.          0.          0.\n",
      "  -0.44143826  0.76077928 -0.47575954  0.638756    0.63881513  0.42884264]\n",
      " [-0.25060917  0.11985684 -0.96064009  0.          0.          0.\n",
      "   0.96745393 -0.00491161 -0.25299956 -0.03504201 -0.99277904 -0.11472507]]\n",
      "ts.parallel_vec(\n",
      "    shape=(43, 43),\n",
      "    ray_dir=array([[-0.59650447, -0.48173293,  0.64196246],\n",
      "       [ 0.25872594, -0.76535396,  0.58931673],\n",
      "       [-0.92641711, -0.08634023, -0.36646515],\n",
      "       [-0.76794977, -0.11458671,  0.63017699],\n",
      "       [-0.96064009,  0.11985684, -0.25060917]]),\n",
      "    det_pos=array([[ 1.77635684e-15, -1.77635684e-15,  8.88178420e-16],\n",
      "       [-1.77635684e-15,  0.00000000e+00, -8.88178420e-16],\n",
      "       [ 0.00000000e+00,  0.00000000e+00,  0.00000000e+00],\n",
      "       [ 0.00000000e+00,  0.00000000e+00, -8.88178420e-16],\n",
      "       [ 4.44089210e-16,  0.00000000e+00, -1.77635684e-15]]),\n",
      "    det_v=array([[-0.24098466,  0.87043718,  0.42926159],\n",
      "       [-0.26720006,  0.52957799,  0.80507843],\n",
      "       [ 0.14437403, -0.98040985, -0.13398753],\n",
      "       [ 0.42884264,  0.63881513,  0.638756  ],\n",
      "       [-0.11472507, -0.99277904, -0.03504201]]),\n",
      "    det_u=array([[-0.76557744,  0.10135335, -0.63530991],\n",
      "       [-0.92825913, -0.36576014, -0.06748706],\n",
      "       [-0.34771753, -0.17703639,  0.92073375],\n",
      "       [-0.47575954,  0.76077928, -0.44143826],\n",
      "       [-0.25299956, -0.00491161,  0.96745393]]),\n",
      ")\n"
     ]
    }
   ],
   "source": [
    "print(Orientation_Vectors[:5])\n",
    "print(pg[:5])"
   ]
  },
  {
   "cell_type": "code",
   "execution_count": 19,
   "metadata": {},
   "outputs": [],
   "source": [
    "from tomosipo.torch_support import to_autograd\n",
    "import time\n",
    "\"\"\"\n",
    "First step. write out the\n",
    "1. Expectation\n",
    "2. likelihood\n",
    "Then use .backward solve it\n",
    "\n",
    "\n",
    "For AU with U with batch n^3, to_autograd take batch input, which is actually what I want!!!!, so no need for one by one concatenate!!!\n",
    "\n",
    "\"\"\"\n",
    "def reshape_fortran(x, shape):\n",
    "    if len(x.shape) > 0:\n",
    "        x = x.permute(*reversed(range(len(x.shape))))\n",
    "    return x.reshape(*reversed(shape)).permute(*reversed(range(len(shape))))\n",
    "def Trace_bradcast(a):\n",
    "    b = torch.einsum('bii->b', a)\n",
    "    return b\n",
    "import torch\n",
    "class MPCA_3d_recon_mode():\n",
    "    def __init__(self, ProjSize, num_image, n_component, op, Images, exp_name, mode):\n",
    "        #init\n",
    "        self.exp_name = exp_name\n",
    "        self.mode = mode\n",
    "        self.ProjSize  = ProjSize\n",
    "        self.z_size = n_component # First set 1 for simplicity\n",
    "        self.num_image = num_image\n",
    "        self.n_component = n_component\n",
    "        \n",
    "        \"\"\"\n",
    "        projection operator and images\n",
    "        \"\"\"\n",
    "        self.op = to_autograd(op)\n",
    "        Images = torch.tensor(Images)\n",
    "        self.I = reshape_fortran(Images, (self.num_image, self.ProjSize*self.ProjSize , 1)).float() # N x D^2 x 1\n",
    "        \"\"\"\n",
    "        paramters we want to find\n",
    "        \"\"\"\n",
    "        \n",
    "        self.U1 = torch.eye(self.ProjSize)[:, :self.z_size] +1\n",
    "        self.U2 = torch.eye(self.ProjSize)[:, :self.z_size] +1 \n",
    "        self.U3 = torch.eye(self.ProjSize)[:, :self.z_size] +1\n",
    "        if self.mode == 1:\n",
    "            self.U2 = torch.eye(self.ProjSize)[:, :1]* 0  +1 \n",
    "            self.U3 = torch.eye(self.ProjSize)[:, :1]* 0 +1\n",
    "        if self.mode == 2:\n",
    "            self.U1 = torch.eye(self.ProjSize)[:, :1]* 0  +1 \n",
    "            self.U3 = torch.eye(self.ProjSize)[:, :1]* 0 +1\n",
    "        if self.mode == 3:\n",
    "            self.U2 = torch.eye(self.ProjSize)[:, :1]* 0  +1 \n",
    "            self.U1 = torch.eye(self.ProjSize)[:, :1]* 0 +1\n",
    "       \n",
    "        #print('self.U1',self.U1.shape)\n",
    "        self.U1.data = torch.qr(self.U1.data)[0]\n",
    "        self.U2.data = torch.qr(self.U2.data)[0]\n",
    "        self.U3.data = torch.qr(self.U3.data)[0]\n",
    "        #print('ortho_U1',ortho_U1.shape)\n",
    "        #print(ortho_U1.T@ortho_U1)\n",
    "        \n",
    "        self.U1.requires_grad =False\n",
    "        self.U2.requires_grad =False\n",
    "        self.U3.requires_grad =False\n",
    "        \n",
    "        if self.mode == 1:\n",
    "            self.U1.requires_grad = True\n",
    "        if self.mode == 2:\n",
    "            self.U2.requires_grad = True\n",
    "        if self.mode == 3:\n",
    "            self.U3.requires_grad = True\n",
    "        \n",
    "        self.All_U = torch.kron(self.U1, torch.kron(self.U2, self.U3))\n",
    "        self.Sigma_Z_inv = torch.eye(self.n_component * 1 * 1) # size: p1 x p2 x p3 \n",
    "        self.sigma = torch.ones(self.num_image).reshape(-1, 1 ,1) * 1\n",
    "        \n",
    "        \"\"\"\n",
    "        Expectation term\n",
    "        or so called missing data\n",
    "        \"\"\"\n",
    "        self.mu = torch.abs(torch.ones((num_image, n_component *1 *1 ,1)))\n",
    "        self.BigSigma_I = torch.abs(torch.ones((self.num_image, self.n_component *1 *1, self.n_component *1 *1 )))\n",
    "\n",
    "       \n",
    "\n",
    "    def A_pro_All_U(self):\n",
    "        #self.All_U # shape = Ps ^3 x n  ^3: which we should make it Ps x Ps x Ps x n ^3 to process\n",
    "        #A: Ps x Ps x Ps x 1 ->  Ps x Ps x 1\n",
    "        \n",
    "        #So overal, we have Mu = N x D^3 x n^3\n",
    "        #AMu = N x D^2 x n^3\n",
    "        \"\"\"\n",
    "        for i in range(self.n_component**3):\n",
    "            Vol_i = self.All_U[:, i].reshape(self.ProjSize, self.ProjSize,self.ProjSize)\n",
    "            Proj_i = self.op(Vol_i).permute(1, 0, 2)\n",
    "            Proj_i = reshape_fortran(Proj_i, (self.num_image, self.ProjSize*self.ProjSize ,1))\n",
    "            \n",
    "            #print(Proj_i.shape)\n",
    "            if i == 0:\n",
    "                self.AU = Proj_i\n",
    "            else:\n",
    "                self.AU = torch.cat((self.AU, Proj_i), 2)\n",
    "        #print('self.AU',self.AU.shape)\n",
    "        \n",
    "        #Broad cast: torch.matmul\n",
    "        # (AU).T(AU) = torch.matmul(self.AU.permute(0,2,1), self.AU.permute(0,2,1))\n",
    "        #torch.matmul(self.AU.permute(0,2,1), self.AU)\n",
    "        \"\"\"\n",
    "        self.All_U = torch.kron(self.U1, torch.kron(self.U2, self.U3))\n",
    "        self.All_U = reshape_fortran(self.All_U, (self.ProjSize, self.ProjSize, self.ProjSize, self.n_component * 1 * 1)) #D^3 x n^3 -> D xD x D x n^3\n",
    "        self.All_U = self.All_U.permute(3, 0, 1, 2) # make it n x Dx Dx D\n",
    "        #print(self.All_U.shape)\n",
    "        self.AU = self.op( self.All_U) # n x Dx Dx D -> n x D x N x D\n",
    "        #print('self.AU',self.AU.shape)\n",
    "        self.AU = self.AU.permute(2, 0, 1, 3) # N x n x D x D\n",
    "        self.AU = reshape_fortran(self.AU, (self.num_image, self.n_component * 1 * 1, self.ProjSize**2))\n",
    "        self.AU = self.AU.permute(0, 2, 1) # N x n x D x D\n",
    "        \n",
    "        #print('self.AU',self.AU.shape)\n",
    "        \n",
    "    def Expectation(self):\n",
    "        \n",
    "        \"\"\"\n",
    "        First, get all projection information\n",
    "        \n",
    "        ro_j = 1/sigma^2 * (Sigmz_Z_inv + 1/sigma^2 * (Au)^TAu)^(-1)(Au)^TI\n",
    "        \n",
    "        #We expect to get a n_image x n_component matrix for ro\n",
    "        \n",
    "        BigSigma = I - 1 / sigma^2 * (I + 1/sigma^2 * (Au)^TAu)^(-1) (Au)^TAu9htu\n",
    "        \n",
    "        Here, the shape of All_U is PS^3 x n_component^3, but A can only process a 3d volume PS^3 at once\n",
    "        \n",
    "        \"\"\"\n",
    "        #print(torch.unsqueeze(self.Sigma_Z_inv,0  ).shape)\n",
    "        #print((1 / self.sigma **2).shape)\n",
    "        \n",
    "        UTATAU = torch.matmul(self.AU.permute(0,2,1), self.AU)\n",
    "        #print(UTAAU.shape)\n",
    "        #print((1 / self.sigma **2 * UTAAU ).shape)\n",
    "        self.mu = torch.inverse(torch.unsqueeze(self.Sigma_Z_inv,0  ) + 1 / self.sigma **2 * UTATAU ) * 1 / self.sigma **2 \n",
    "        self.mu = torch.matmul(self.mu , self.AU.permute(0,2,1))\n",
    "        self.mu = torch.matmul(self.mu, self.I)\n",
    "        #print('self.mu.shape',self.mu.shape)\n",
    "        \n",
    "        \n",
    "        \"\"\"\n",
    "        So we found Mu\n",
    "        Then we found Sigma_I\n",
    "        torch.inverse can broadcast through batch, so just use it\n",
    "        \"\"\"\n",
    "        self.BigSigma_I = torch.inverse((torch.unsqueeze(self.Sigma_Z_inv,0  ) + 1 / self.sigma **2 * UTATAU )) + torch.matmul(self.mu, self.mu.permute(0,2,1))\n",
    "        #print('self.BigSigma_I', self.BigSigma_I.shape)\n",
    "        \n",
    "    def Q_Function(self, ):\n",
    "        \"\"\"\n",
    "        #left term\n",
    "        #print('self.AU', torch.mean(self.AU))\n",
    "        print('in Q')\n",
    "        print('self.mu ', torch.mean(self.mu ))\n",
    "        print('self.BigSigma_I', torch.mean(self.BigSigma_I))\n",
    "        #print('self.sigma', torch.mean(self.sigma))\n",
    "        print('self.Sigma_Z_inv',torch.mean(self.Sigma_Z_inv))\n",
    "        print('self.U1', torch.mean(self.U1))\n",
    "        print('self.U2', torch.mean(self.U2))\n",
    "        print('self.U3', torch.mean(self.U3))\n",
    "        \n",
    "        try:\n",
    "            print('self.U1.grad.data',torch.mean(self.U1.grad.data))\n",
    "            print('self.U2.grad.data',torch.mean(self.U2.grad.data))\n",
    "            print('self.U3.grad.data',torch.mean(self.U3.grad.data))\n",
    "        \n",
    "        except:\n",
    "            pass\n",
    "        \"\"\"\n",
    "        \n",
    "        left = -2 * self.I.permute(0, 2, 1) @ self.AU @ self.mu \n",
    "        #UTATAU = torch.matmul(self.AU.permute(0,2,1), self.AU)\n",
    "        #print('self.AU', self.AU.shape)\n",
    "        #print('self.BigSigma_I', self.BigSigma_I.shape)\n",
    "        #print('self.AU.permute(0,2,1)', self.AU.permute(0,2,1).shape)\n",
    "        left = left + Trace_bradcast(self.AU @ self.BigSigma_I @ self.AU.permute(0,2,1))   #self.mu.permute(0, 2, 1) @  UTATAU @ self.mu\n",
    "        left = 1 / self.sigma **2 *left\n",
    "        \n",
    "        #middle term\n",
    "        #print('self.mu', self.mu.shape)\n",
    "        #print('torch.unsqueeze(self.Sigma_Z_inv,0  )', torch.unsqueeze(self.Sigma_Z_inv,0  ).shape)\n",
    "        #middle = self.mu.permute(0, 2, 1)  @torch.unsqueeze(self.Sigma_Z_inv,0  ) @self.mu\n",
    "        middle = Trace_bradcast( torch.unsqueeze(self.Sigma_Z_inv,0  ) @ self.BigSigma_I )\n",
    "        \n",
    "        \n",
    "        right = torch.log(torch.det(torch.inverse(self.Sigma_Z_inv)))\n",
    "        self.Q = -1/2 * torch.sum(left + middle + right)/100000000\n",
    "        print('self.Q',self.Q.shape,self.Q)\n",
    "        #print(self.Q)\n",
    "    def Maximization(self, ratio):\n",
    "        \"\"\"\n",
    "        Update U1, U2, U3 by gradient assent and use svd to make sure orthogonality\n",
    "        self.U1.grad.data.zero_() # conduct zero grad\n",
    "        self.Q.backward()\n",
    "        \n",
    "        \"\"\"\n",
    "        self.Sigma_Z_inv = torch.inverse(torch.mean(self.BigSigma_I, 0)).detach()\n",
    "        start = time.time()\n",
    "        self.Q_Function()\n",
    "        #print('q fun ction time', time.time()- start)\n",
    "        self.Q.backward()\n",
    "        #print('backward time', time.time()- start)\n",
    "        \n",
    "        lr = torch.mean(torch.abs(self.U1)) /  torch.mean(torch.abs(self.U1.grad)) * ratio# 0.01\n",
    "        self.U1.data +=  lr * self.U1.grad.data\n",
    "        self.U1.data = torch.qr(self.U1.data)[0]\n",
    "        \n",
    "        self.U1.grad.data.zero_()\n",
    "        self.U2.grad.data.zero_()\n",
    "        self.U3.grad.data.zero_()\n",
    "        #print('update time', time.time()- start)\n",
    "        \n",
    "        self.A_pro_All_U()\n",
    "        #print('AU time', time.time()- start)\n",
    "        self.Expectation()\n",
    "        #print('expectation time', time.time()- start)\n",
    "        \n",
    "        \n",
    "        \n",
    "        self.Q_Function()\n",
    "        self.Q.backward()\n",
    "        lr = torch.mean(torch.abs(self.U2)) /  torch.mean(torch.abs(self.U2.grad))* ratio#0.01\n",
    "        self.U2.data += lr * self.U2.grad.data\n",
    "        self.U2.data = torch.qr(self.U2.data)[0]\n",
    "        \n",
    "        self.U1.grad.data.zero_()\n",
    "        self.U2.grad.data.zero_()\n",
    "        self.U3.grad.data.zero_()\n",
    "        self.A_pro_All_U()\n",
    "        self.Expectation()\n",
    "        \n",
    "        \n",
    "        \n",
    "        self.Q_Function()\n",
    "        self.Q.backward()\n",
    "        \n",
    "        lr = torch.mean(torch.abs(self.U3)) /  torch.mean(torch.abs(self.U3.grad))* ratio#0.01\n",
    "        self.U3.data += lr * self.U3.grad.data\n",
    "        self.U3.data = torch.qr(self.U3.data)[0]\n",
    "        \n",
    "        self.U1.grad.data.zero_()\n",
    "        self.U2.grad.data.zero_()\n",
    "        self.U3.grad.data.zero_()\n",
    "        self.A_pro_All_U()\n",
    "        self.Expectation()\n",
    "        \n",
    "        \n",
    "    def Plot_temp(self):\n",
    "        c = 0\n",
    "        print('generated')\n",
    "        est_I = self.AU @ self.mu\n",
    "        AU = est_I.detach().numpy()\n",
    "        #print(AU.shape)\n",
    "        image = AU[c].reshape(self.ProjSize,self.ProjSize, order = 'F')\n",
    "        plt.imshow(image) # quarter rotation\n",
    "        plt.show()\n",
    "        #MP3.Q_Function()\n",
    "\n",
    "        #MP3.Maximization()\n",
    "        print('real')\n",
    "        plt.imshow(Images[c])\n",
    "        plt.show()\n",
    "        \n",
    "        c = 11\n",
    "        print('generated')\n",
    "        #AU = self.AU.detach().numpy()\n",
    "        #print(AU.shape)\n",
    "        image = AU[c].reshape(self.ProjSize,self.ProjSize, order = 'F')\n",
    "        plt.imshow(image) # quarter rotation\n",
    "        plt.show()\n",
    "        #MP3.Q_Function()\n",
    "\n",
    "        #MP3.Maximization()\n",
    "        print('real')\n",
    "        plt.imshow(Images[c])\n",
    "        plt.show()\n",
    "        \n",
    "        \n",
    "    def fit(self, start_ratio):\n",
    "        ratio = start_ratio\n",
    "        self.A_pro_All_U()\n",
    "        print('oritinal')\n",
    "        self.Plot_temp()\n",
    "        for i in range(100000):\n",
    "            self.A_pro_All_U()\n",
    "            #self.Q_Function()\n",
    "            #self.Plot_temp()\n",
    "            #self.Q_Function()\n",
    "            self.Expectation()\n",
    "            self.Q_Function()\n",
    "            self.Maximization(ratio)\n",
    "            if i % 100 == 99:\n",
    "                ratio = ratio /5\n",
    "            if i % 30 ==0:\n",
    "                print(f'the {i} th iter')\n",
    "                self.Plot_temp()\n",
    "                \n",
    "                with open(f'./snap_shot/{self.exp_name}_{self.mode}_th_PC.pkl', 'wb') as f:\n",
    "                    pickle.dump(self, f)\n",
    "            "
   ]
  },
  {
   "cell_type": "code",
   "execution_count": 23,
   "metadata": {},
   "outputs": [
    {
     "name": "stderr",
     "output_type": "stream",
     "text": [
      "/home/users/lewis841214/.conda/envs/protein_reconstruction/lib/python3.6/site-packages/ipykernel_launcher.py:44: UserWarning: torch.qr is deprecated in favor of torch.linalg.qr and will be removed in a future PyTorch release.\n",
      "The boolean parameter 'some' has been replaced with a string parameter 'mode'.\n",
      "Q, R = torch.qr(A, some)\n",
      "should be replaced with\n",
      "Q, R = torch.linalg.qr(A, 'reduced' if some else 'complete') (Triggered internally at  /opt/conda/conda-bld/pytorch_1634272097173/work/aten/src/ATen/native/BatchLinearAlgebra.cpp:1937.)\n",
      "/home/users/lewis841214/Desktop/1project/CryoEMCode/GPU_CryoEM/tomosipo/tomosipo/links/torch.py:64: UserWarning: The parameter initial_value should be contiguous. It has been automatically made contiguous. Use `ts.link(x.contiguous())' to inhibit this warning. \n",
      "  f\"The parameter initial_value should be contiguous. \"\n"
     ]
    },
    {
     "name": "stdout",
     "output_type": "stream",
     "text": [
      "oritinal\n",
      "generated\n"
     ]
    },
    {
     "data": {
      "image/png": "[encoded data removed]",
      "text/plain": [
       "<Figure size 432x288 with 1 Axes>"
      ]
     },
     "metadata": {
      "needs_background": "light"
     },
     "output_type": "display_data"
    },
    {
     "name": "stdout",
     "output_type": "stream",
     "text": [
      "real\n"
     ]
    },
    {
     "data": {
      "image/png": "[encoded data removed]",
      "text/plain": [
       "<Figure size 432x288 with 1 Axes>"
      ]
     },
     "metadata": {
      "needs_background": "light"
     },
     "output_type": "display_data"
    },
    {
     "name": "stdout",
     "output_type": "stream",
     "text": [
      "generated\n"
     ]
    },
    {
     "data": {
      "image/png": "[encoded data removed]",
      "text/plain": [
       "<Figure size 432x288 with 1 Axes>"
      ]
     },
     "metadata": {
      "needs_background": "light"
     },
     "output_type": "display_data"
    },
    {
     "name": "stdout",
     "output_type": "stream",
     "text": [
      "real\n"
     ]
    },
    {
     "data": {
      "image/png": "[encoded data removed]",
      "text/plain": [
       "<Figure size 432x288 with 1 Axes>"
      ]
     },
     "metadata": {
      "needs_background": "light"
     },
     "output_type": "display_data"
    },
    {
     "ename": "KeyboardInterrupt",
     "evalue": "",
     "output_type": "error",
     "traceback": [
      "\u001b[0;31m---------------------------------------------------------------------------\u001b[0m",
      "\u001b[0;31mKeyboardInterrupt\u001b[0m                         Traceback (most recent call last)",
      "\u001b[0;32m<ipython-input-23-e1cd525dba6f>\u001b[0m in \u001b[0;36m<module>\u001b[0;34m\u001b[0m\n\u001b[1;32m      7\u001b[0m \u001b[0mop\u001b[0m \u001b[0;34m=\u001b[0m \u001b[0mts\u001b[0m\u001b[0;34m.\u001b[0m\u001b[0moperator\u001b[0m\u001b[0;34m(\u001b[0m\u001b[0mvg\u001b[0m\u001b[0;34m,\u001b[0m \u001b[0mpg\u001b[0m\u001b[0;34m)\u001b[0m\u001b[0;34m\u001b[0m\u001b[0;34m\u001b[0m\u001b[0m\n\u001b[1;32m      8\u001b[0m \u001b[0mMP3\u001b[0m \u001b[0;34m=\u001b[0m \u001b[0mMPCA_3d_recon\u001b[0m\u001b[0;34m(\u001b[0m\u001b[0mProjSize\u001b[0m\u001b[0;34m,\u001b[0m \u001b[0mnum_image\u001b[0m\u001b[0;34m,\u001b[0m \u001b[0mn_component\u001b[0m\u001b[0;34m,\u001b[0m \u001b[0mop\u001b[0m \u001b[0;34m,\u001b[0m \u001b[0mImages\u001b[0m\u001b[0;34m,\u001b[0m \u001b[0mexp_name\u001b[0m\u001b[0;34m,\u001b[0m \u001b[0mmode\u001b[0m \u001b[0;34m)\u001b[0m\u001b[0;34m\u001b[0m\u001b[0;34m\u001b[0m\u001b[0m\n\u001b[0;32m----> 9\u001b[0;31m \u001b[0mMP3\u001b[0m\u001b[0;34m.\u001b[0m\u001b[0mfit\u001b[0m\u001b[0;34m(\u001b[0m\u001b[0mstart_ratio\u001b[0m \u001b[0;34m=\u001b[0m \u001b[0;36m0.1\u001b[0m\u001b[0;34m)\u001b[0m\u001b[0;34m\u001b[0m\u001b[0;34m\u001b[0m\u001b[0m\n\u001b[0m\u001b[1;32m     10\u001b[0m \"\"\"\n\u001b[1;32m     11\u001b[0m \u001b[0mMP3\u001b[0m\u001b[0;34m.\u001b[0m\u001b[0mA_pro_All_U\u001b[0m\u001b[0;34m(\u001b[0m\u001b[0;34m)\u001b[0m\u001b[0;34m\u001b[0m\u001b[0;34m\u001b[0m\u001b[0m\n",
      "\u001b[0;32m<ipython-input-19-a5e0508c61a4>\u001b[0m in \u001b[0;36mfit\u001b[0;34m(self, start_ratio)\u001b[0m\n\u001b[1;32m    293\u001b[0m         \u001b[0mself\u001b[0m\u001b[0;34m.\u001b[0m\u001b[0mPlot_temp\u001b[0m\u001b[0;34m(\u001b[0m\u001b[0;34m)\u001b[0m\u001b[0;34m\u001b[0m\u001b[0;34m\u001b[0m\u001b[0m\n\u001b[1;32m    294\u001b[0m         \u001b[0;32mfor\u001b[0m \u001b[0mi\u001b[0m \u001b[0;32min\u001b[0m \u001b[0mrange\u001b[0m\u001b[0;34m(\u001b[0m\u001b[0;36m100000\u001b[0m\u001b[0;34m)\u001b[0m\u001b[0;34m:\u001b[0m\u001b[0;34m\u001b[0m\u001b[0;34m\u001b[0m\u001b[0m\n\u001b[0;32m--> 295\u001b[0;31m             \u001b[0mself\u001b[0m\u001b[0;34m.\u001b[0m\u001b[0mA_pro_All_U\u001b[0m\u001b[0;34m(\u001b[0m\u001b[0;34m)\u001b[0m\u001b[0;34m\u001b[0m\u001b[0;34m\u001b[0m\u001b[0m\n\u001b[0m\u001b[1;32m    296\u001b[0m             \u001b[0;31m#self.Q_Function()\u001b[0m\u001b[0;34m\u001b[0m\u001b[0;34m\u001b[0m\u001b[0;34m\u001b[0m\u001b[0m\n\u001b[1;32m    297\u001b[0m             \u001b[0;31m#self.Plot_temp()\u001b[0m\u001b[0;34m\u001b[0m\u001b[0;34m\u001b[0m\u001b[0;34m\u001b[0m\u001b[0m\n",
      "\u001b[0;32m<ipython-input-19-a5e0508c61a4>\u001b[0m in \u001b[0;36mA_pro_All_U\u001b[0;34m(self)\u001b[0m\n\u001b[1;32m     91\u001b[0m         \u001b[0mself\u001b[0m\u001b[0;34m.\u001b[0m\u001b[0mAll_U\u001b[0m \u001b[0;34m=\u001b[0m \u001b[0mself\u001b[0m\u001b[0;34m.\u001b[0m\u001b[0mAll_U\u001b[0m\u001b[0;34m.\u001b[0m\u001b[0mpermute\u001b[0m\u001b[0;34m(\u001b[0m\u001b[0;36m3\u001b[0m\u001b[0;34m,\u001b[0m \u001b[0;36m0\u001b[0m\u001b[0;34m,\u001b[0m \u001b[0;36m1\u001b[0m\u001b[0;34m,\u001b[0m \u001b[0;36m2\u001b[0m\u001b[0;34m)\u001b[0m \u001b[0;31m# make it n x Dx Dx D\u001b[0m\u001b[0;34m\u001b[0m\u001b[0;34m\u001b[0m\u001b[0m\n\u001b[1;32m     92\u001b[0m         \u001b[0;31m#print(self.All_U.shape)\u001b[0m\u001b[0;34m\u001b[0m\u001b[0;34m\u001b[0m\u001b[0;34m\u001b[0m\u001b[0m\n\u001b[0;32m---> 93\u001b[0;31m         \u001b[0mself\u001b[0m\u001b[0;34m.\u001b[0m\u001b[0mAU\u001b[0m \u001b[0;34m=\u001b[0m \u001b[0mself\u001b[0m\u001b[0;34m.\u001b[0m\u001b[0mop\u001b[0m\u001b[0;34m(\u001b[0m \u001b[0mself\u001b[0m\u001b[0;34m.\u001b[0m\u001b[0mAll_U\u001b[0m\u001b[0;34m)\u001b[0m \u001b[0;31m# n x Dx Dx D -> n x D x N x D\u001b[0m\u001b[0;34m\u001b[0m\u001b[0;34m\u001b[0m\u001b[0m\n\u001b[0m\u001b[1;32m     94\u001b[0m         \u001b[0;31m#print('self.AU',self.AU.shape)\u001b[0m\u001b[0;34m\u001b[0m\u001b[0;34m\u001b[0m\u001b[0;34m\u001b[0m\u001b[0m\n\u001b[1;32m     95\u001b[0m         \u001b[0mself\u001b[0m\u001b[0;34m.\u001b[0m\u001b[0mAU\u001b[0m \u001b[0;34m=\u001b[0m \u001b[0mself\u001b[0m\u001b[0;34m.\u001b[0m\u001b[0mAU\u001b[0m\u001b[0;34m.\u001b[0m\u001b[0mpermute\u001b[0m\u001b[0;34m(\u001b[0m\u001b[0;36m2\u001b[0m\u001b[0;34m,\u001b[0m \u001b[0;36m0\u001b[0m\u001b[0;34m,\u001b[0m \u001b[0;36m1\u001b[0m\u001b[0;34m,\u001b[0m \u001b[0;36m3\u001b[0m\u001b[0;34m)\u001b[0m \u001b[0;31m# N x n x D x D\u001b[0m\u001b[0;34m\u001b[0m\u001b[0;34m\u001b[0m\u001b[0m\n",
      "\u001b[0;32m~/Desktop/1project/CryoEMCode/GPU_CryoEM/tomosipo/tomosipo/torch_support.py\u001b[0m in \u001b[0;36mf\u001b[0;34m(x)\u001b[0m\n\u001b[1;32m     83\u001b[0m \u001b[0;34m\u001b[0m\u001b[0m\n\u001b[1;32m     84\u001b[0m     \u001b[0;32mdef\u001b[0m \u001b[0mf\u001b[0m\u001b[0;34m(\u001b[0m\u001b[0mx\u001b[0m\u001b[0;34m)\u001b[0m\u001b[0;34m:\u001b[0m\u001b[0;34m\u001b[0m\u001b[0;34m\u001b[0m\u001b[0m\n\u001b[0;32m---> 85\u001b[0;31m         \u001b[0;32mreturn\u001b[0m \u001b[0mOperatorFunction\u001b[0m\u001b[0;34m.\u001b[0m\u001b[0mapply\u001b[0m\u001b[0;34m(\u001b[0m\u001b[0mx\u001b[0m\u001b[0;34m,\u001b[0m \u001b[0moperator\u001b[0m\u001b[0;34m)\u001b[0m\u001b[0;34m\u001b[0m\u001b[0;34m\u001b[0m\u001b[0m\n\u001b[0m\u001b[1;32m     86\u001b[0m \u001b[0;34m\u001b[0m\u001b[0m\n\u001b[1;32m     87\u001b[0m     \u001b[0;32mreturn\u001b[0m \u001b[0mf\u001b[0m\u001b[0;34m\u001b[0m\u001b[0;34m\u001b[0m\u001b[0m\n",
      "\u001b[0;32m~/Desktop/1project/CryoEMCode/GPU_CryoEM/tomosipo/tomosipo/torch_support.py\u001b[0m in \u001b[0;36mforward\u001b[0;34m(ctx, input, operator)\u001b[0m\n\u001b[1;32m     33\u001b[0m \u001b[0;34m\u001b[0m\u001b[0m\n\u001b[1;32m     34\u001b[0m         \u001b[0;32mfor\u001b[0m \u001b[0mi\u001b[0m \u001b[0;32min\u001b[0m \u001b[0mrange\u001b[0m\u001b[0;34m(\u001b[0m\u001b[0mB\u001b[0m\u001b[0;34m)\u001b[0m\u001b[0;34m:\u001b[0m\u001b[0;34m\u001b[0m\u001b[0;34m\u001b[0m\u001b[0m\n\u001b[0;32m---> 35\u001b[0;31m             \u001b[0moperator\u001b[0m\u001b[0;34m(\u001b[0m\u001b[0minput\u001b[0m\u001b[0;34m[\u001b[0m\u001b[0mi\u001b[0m\u001b[0;34m]\u001b[0m\u001b[0;34m,\u001b[0m \u001b[0mout\u001b[0m\u001b[0;34m=\u001b[0m\u001b[0mout\u001b[0m\u001b[0;34m[\u001b[0m\u001b[0mi\u001b[0m\u001b[0;34m]\u001b[0m\u001b[0;34m)\u001b[0m\u001b[0;34m\u001b[0m\u001b[0;34m\u001b[0m\u001b[0m\n\u001b[0m\u001b[1;32m     36\u001b[0m \u001b[0;34m\u001b[0m\u001b[0m\n\u001b[1;32m     37\u001b[0m         \u001b[0;32mreturn\u001b[0m \u001b[0mout\u001b[0m\u001b[0;34m\u001b[0m\u001b[0;34m\u001b[0m\u001b[0m\n",
      "\u001b[0;32m~/Desktop/1project/CryoEMCode/GPU_CryoEM/tomosipo/tomosipo/Operator.py\u001b[0m in \u001b[0;36m__call__\u001b[0;34m(self, volume, out)\u001b[0m\n\u001b[1;32m    251\u001b[0m \u001b[0;34m\u001b[0m\u001b[0m\n\u001b[1;32m    252\u001b[0m         \"\"\"\n\u001b[0;32m--> 253\u001b[0;31m         \u001b[0;32mreturn\u001b[0m \u001b[0mself\u001b[0m\u001b[0;34m.\u001b[0m\u001b[0m_fp\u001b[0m\u001b[0;34m(\u001b[0m\u001b[0mvolume\u001b[0m\u001b[0;34m,\u001b[0m \u001b[0mout\u001b[0m\u001b[0;34m)\u001b[0m\u001b[0;34m\u001b[0m\u001b[0;34m\u001b[0m\u001b[0m\n\u001b[0m\u001b[1;32m    254\u001b[0m \u001b[0;34m\u001b[0m\u001b[0m\n\u001b[1;32m    255\u001b[0m     \u001b[0;32mdef\u001b[0m \u001b[0mtranspose\u001b[0m\u001b[0;34m(\u001b[0m\u001b[0mself\u001b[0m\u001b[0;34m)\u001b[0m\u001b[0;34m:\u001b[0m\u001b[0;34m\u001b[0m\u001b[0;34m\u001b[0m\u001b[0m\n",
      "\u001b[0;32m~/Desktop/1project/CryoEMCode/GPU_CryoEM/tomosipo/tomosipo/Operator.py\u001b[0m in \u001b[0;36m_fp\u001b[0;34m(self, volume, out)\u001b[0m\n\u001b[1;32m    185\u001b[0m                 \u001b[0mplink\u001b[0m \u001b[0;34m=\u001b[0m \u001b[0mvlink\u001b[0m\u001b[0;34m.\u001b[0m\u001b[0mnew_empty\u001b[0m\u001b[0;34m(\u001b[0m\u001b[0mself\u001b[0m\u001b[0;34m.\u001b[0m\u001b[0mrange_shape\u001b[0m\u001b[0;34m)\u001b[0m\u001b[0;34m\u001b[0m\u001b[0;34m\u001b[0m\u001b[0m\n\u001b[1;32m    186\u001b[0m \u001b[0;34m\u001b[0m\u001b[0m\n\u001b[0;32m--> 187\u001b[0;31m         \u001b[0mdirect_fp\u001b[0m\u001b[0;34m(\u001b[0m\u001b[0mself\u001b[0m\u001b[0;34m.\u001b[0m\u001b[0mastra_projector\u001b[0m\u001b[0;34m,\u001b[0m \u001b[0mvlink\u001b[0m\u001b[0;34m,\u001b[0m \u001b[0mplink\u001b[0m\u001b[0;34m,\u001b[0m \u001b[0madditive\u001b[0m\u001b[0;34m=\u001b[0m\u001b[0mself\u001b[0m\u001b[0;34m.\u001b[0m\u001b[0madditive\u001b[0m\u001b[0;34m)\u001b[0m\u001b[0;34m\u001b[0m\u001b[0;34m\u001b[0m\u001b[0m\n\u001b[0m\u001b[1;32m    188\u001b[0m \u001b[0;34m\u001b[0m\u001b[0m\n\u001b[1;32m    189\u001b[0m         \u001b[0;32mif\u001b[0m \u001b[0misinstance\u001b[0m\u001b[0;34m(\u001b[0m\u001b[0mvolume\u001b[0m\u001b[0;34m,\u001b[0m \u001b[0mData\u001b[0m\u001b[0;34m)\u001b[0m\u001b[0;34m:\u001b[0m\u001b[0;34m\u001b[0m\u001b[0;34m\u001b[0m\u001b[0m\n",
      "\u001b[0;32m~/Desktop/1project/CryoEMCode/GPU_CryoEM/tomosipo/tomosipo/astra.py\u001b[0m in \u001b[0;36mdirect_fp\u001b[0;34m(projector, vol_data, proj_data, additive)\u001b[0m\n\u001b[1;32m    181\u001b[0m         \u001b[0mproj_data\u001b[0m\u001b[0;34m,\u001b[0m\u001b[0;34m\u001b[0m\u001b[0;34m\u001b[0m\u001b[0m\n\u001b[1;32m    182\u001b[0m         \u001b[0mforward\u001b[0m\u001b[0;34m=\u001b[0m\u001b[0;32mTrue\u001b[0m\u001b[0;34m,\u001b[0m\u001b[0;34m\u001b[0m\u001b[0;34m\u001b[0m\u001b[0m\n\u001b[0;32m--> 183\u001b[0;31m         \u001b[0madditive\u001b[0m\u001b[0;34m=\u001b[0m\u001b[0madditive\u001b[0m\u001b[0;34m,\u001b[0m\u001b[0;34m\u001b[0m\u001b[0;34m\u001b[0m\u001b[0m\n\u001b[0m\u001b[1;32m    184\u001b[0m     )\n\u001b[1;32m    185\u001b[0m \u001b[0;34m\u001b[0m\u001b[0m\n",
      "\u001b[0;32m~/Desktop/1project/CryoEMCode/GPU_CryoEM/tomosipo/tomosipo/astra.py\u001b[0m in \u001b[0;36mdirect_project\u001b[0;34m(projector, vol_link, proj_link, forward, additive)\u001b[0m\n\u001b[1;32m    150\u001b[0m             \u001b[0mproj_link\u001b[0m\u001b[0;34m.\u001b[0m\u001b[0mlinked_data\u001b[0m\u001b[0;34m,\u001b[0m\u001b[0;34m\u001b[0m\u001b[0;34m\u001b[0m\u001b[0m\n\u001b[1;32m    151\u001b[0m             \u001b[0mMODE_ADD\u001b[0m \u001b[0;32mif\u001b[0m \u001b[0madditive\u001b[0m \u001b[0;32melse\u001b[0m \u001b[0mMODE_SET\u001b[0m\u001b[0;34m,\u001b[0m\u001b[0;34m\u001b[0m\u001b[0;34m\u001b[0m\u001b[0m\n\u001b[0;32m--> 152\u001b[0;31m             \u001b[0;34m\"FP\"\u001b[0m \u001b[0;32mif\u001b[0m \u001b[0mforward\u001b[0m \u001b[0;32melse\u001b[0m \u001b[0;34m\"BP\"\u001b[0m\u001b[0;34m,\u001b[0m\u001b[0;34m\u001b[0m\u001b[0;34m\u001b[0m\u001b[0m\n\u001b[0m\u001b[1;32m    153\u001b[0m         )\n\u001b[1;32m    154\u001b[0m \u001b[0;34m\u001b[0m\u001b[0m\n",
      "\u001b[0;31mKeyboardInterrupt\u001b[0m: "
     ]
    }
   ],
   "source": [
    "\n",
    "\n",
    "ProjSize, num_image, n_component = 43, 5000, 4\n",
    "exp_name, mode = '2021_12_13_MPCA_onebone',  1\n",
    "Vol_geom = astra.create_vol_geom(43, 43, 43)\n",
    "#Images = torch.ones(num_image, 48, 48) # fake images for computing purpose\n",
    "vg = ts.from_astra(Vol_geom)\n",
    "pg = ts.from_astra(Proj_geom)\n",
    "op = ts.operator(vg, pg)\n",
    "MP3 = MPCA_3d_recon(ProjSize, num_image, n_component, op , Images, exp_name, mode )\n",
    "MP3.fit(start_ratio = 0.1)\n",
    "\"\"\"\n",
    "MP3.A_pro_All_U()\n",
    "\n",
    "MP3.Plot_temp()\n",
    "MP3.Q_Function()\n",
    "\n",
    "MP3.Expectation()\n",
    "MP3.Q_Function()\n",
    "MP3.Maximization()\n",
    "MP3.Plot_temp()\n",
    "MP3.Q_Function()\n",
    "print(MP3.All_U.shape)\n",
    "\"\"\"\n"
   ]
  },
  {
   "cell_type": "code",
   "execution_count": null,
   "metadata": {},
   "outputs": [],
   "source": [
    "c = 0\n",
    "im_cs = [i for i in range(10)]\n",
    "\n",
    "for c in im_cs:\n",
    "    fig = plt.figure()\n",
    "    gs = fig.add_gridspec(1, 2, hspace=0, wspace=0)\n",
    "    (ax1, ax2) = gs.subplots(sharex='col', sharey='row')\n",
    "    \n",
    "    \n",
    "    print('generated')\n",
    "    est_I = MP3.AU @ MP3.mu\n",
    "    AU = est_I.detach().numpy()\n",
    "    #print(AU.shape)\n",
    "    image = AU[c].reshape(MP3.ProjSize,MP3.ProjSize, order = 'F')\n",
    "    ax1.imshow(image)\n",
    "    #plt.imshow(image) # quarter rotation\n",
    "    #plt.show()\n",
    "    #MP3.Q_Function()\n",
    "\n",
    "    #MP3.Maximization()\n",
    "    print('real')\n",
    "    #plt.imshow(Images[c])\n",
    "    ax2.imshow(Images[c])\n",
    "    plt.show()"
   ]
  },
  {
   "cell_type": "code",
   "execution_count": null,
   "metadata": {},
   "outputs": [],
   "source": []
  },
  {
   "cell_type": "code",
   "execution_count": null,
   "metadata": {},
   "outputs": [],
   "source": [
    "MP3.fit()\n"
   ]
  },
  {
   "cell_type": "code",
   "execution_count": null,
   "metadata": {},
   "outputs": [],
   "source": [
    "c =250\n",
    "AU = MP3.AU.detach().numpy()\n",
    "print(AU.shape)\n",
    "image = AU[c].reshape(48,48, order = 'F')\n",
    "plt.imshow(image) # quarter rotation\n",
    "plt.show()\n",
    "#MP3.Q_Function()\n",
    "\n",
    "#MP3.Maximization()\n",
    "plt.imshow(Images[c])\n",
    "plt.show()"
   ]
  },
  {
   "cell_type": "code",
   "execution_count": null,
   "metadata": {},
   "outputs": [],
   "source": [
    "MP3.Q.backward()"
   ]
  },
  {
   "cell_type": "code",
   "execution_count": null,
   "metadata": {},
   "outputs": [],
   "source": [
    "MP3.U1.grad\n",
    "lr = torch.mean(torch.abs(MP3.U1)) /  torch.mean(torch.abs(MP3.U1.grad))\n",
    "print(lr)\n",
    "MP3.U1 = MP3.U1 + lr * MP3.U1.grad\n",
    "\n",
    "MP3.U1.grad.data.zero_()"
   ]
  },
  {
   "cell_type": "code",
   "execution_count": null,
   "metadata": {},
   "outputs": [],
   "source": [
    "#print(MP3.U1.grad)\n",
    "#MP3.U1.grad.data.zero_()"
   ]
  },
  {
   "cell_type": "code",
   "execution_count": null,
   "metadata": {},
   "outputs": [],
   "source": []
  },
  {
   "cell_type": "code",
   "execution_count": null,
   "metadata": {},
   "outputs": [],
   "source": [
    "t_list = [] \n",
    "for i in range(5):\n",
    "    t_list.append(torch.eye(ProjSize, requires_grad = True))\n",
    "loss = 0\n",
    "for i in range(5):\n",
    "    loss = loss + t_list[i]\n",
    "\n",
    "loss = torch.sum(loss)\n",
    "print(loss)\n",
    "loss.backward()"
   ]
  },
  {
   "cell_type": "code",
   "execution_count": null,
   "metadata": {},
   "outputs": [],
   "source": [
    "t_list[0].grad"
   ]
  },
  {
   "cell_type": "code",
   "execution_count": null,
   "metadata": {},
   "outputs": [],
   "source": []
  }
 ],
 "metadata": {
  "kernelspec": {
   "display_name": "Python 3",
   "language": "python",
   "name": "python3"
  },
  "language_info": {
   "codemirror_mode": {
    "name": "ipython",
    "version": 3
   },
   "file_extension": ".py",
   "mimetype": "text/x-python",
   "name": "python",
   "nbconvert_exporter": "python",
   "pygments_lexer": "ipython3",
   "version": "3.6.9"
  }
 },
 "nbformat": 4,
 "nbformat_minor": 5
}
