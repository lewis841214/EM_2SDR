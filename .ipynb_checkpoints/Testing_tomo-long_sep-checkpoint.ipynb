{
 "cells": [
  {
   "cell_type": "code",
   "execution_count": 1,
   "metadata": {},
   "outputs": [],
   "source": [
    "import tomosipo as ts\n",
    "import numpy as np"
   ]
  },
  {
   "cell_type": "code",
   "execution_count": 2,
   "metadata": {},
   "outputs": [],
   "source": [
    "vg = ts.volume(shape=(32, 32, 32), size=(1, 1, 1))\n",
    "pg = ts.parallel(angles=32, shape=(48, 48), size=(1.5, 1.5))"
   ]
  },
  {
   "cell_type": "code",
   "execution_count": 3,
   "metadata": {},
   "outputs": [],
   "source": [
    "svg = ts.svg(vg, pg)\n",
    "svg.save(\"./doc/img/intro_forward_projection_geometries.svg\")"
   ]
  },
  {
   "cell_type": "code",
   "execution_count": 4,
   "metadata": {},
   "outputs": [],
   "source": [
    "A = ts.operator(vg, pg)\n"
   ]
  },
  {
   "cell_type": "code",
   "execution_count": 5,
   "metadata": {},
   "outputs": [],
   "source": [
    "x = np.ones(A.domain_shape, dtype=np.float32)"
   ]
  },
  {
   "cell_type": "code",
   "execution_count": 6,
   "metadata": {},
   "outputs": [],
   "source": [
    "y = A(x)"
   ]
  },
  {
   "cell_type": "code",
   "execution_count": 7,
   "metadata": {},
   "outputs": [
    {
     "data": {
      "text/plain": [
       "<Figure size 640x480 with 1 Axes>"
      ]
     },
     "metadata": {},
     "output_type": "display_data"
    },
    {
     "data": {
      "text/plain": [
       "<Figure size 640x480 with 1 Axes>"
      ]
     },
     "metadata": {},
     "output_type": "display_data"
    }
   ],
   "source": [
    "import matplotlib.pyplot as plt\n",
    "plt.imshow(y[:, 0, :]) # first projection\n",
    "plt.show()\n",
    "plt.imshow(y[:, 8, :]) # quarter rotation\n",
    "plt.show()"
   ]
  },
  {
   "cell_type": "code",
   "execution_count": 8,
   "metadata": {},
   "outputs": [
    {
     "name": "stdout",
     "output_type": "stream",
     "text": [
      "(69, 57, 75)\n"
     ]
    }
   ],
   "source": [
    "import mrcfile\n",
    "import numpy as np\n",
    "import matplotlib.pyplot as plt\n",
    "file_name = './data/5j0n.mrc'\n",
    "with mrcfile.open(file_name) as mrcVol:\n",
    "    Vol1      = np.array(mrcVol.data) \n",
    "    ProjSize1 = int(np.sqrt(np.sum(np.square(Vol1.shape))))\n",
    "print(Vol1.shape)\n"
   ]
  },
  {
   "cell_type": "code",
   "execution_count": 9,
   "metadata": {},
   "outputs": [
    {
     "data": {
      "image/png": "[encoded data removed]",
      "text/plain": [
       "<Figure size 432x288 with 1 Axes>"
      ]
     },
     "metadata": {
      "needs_background": "light"
     },
     "output_type": "display_data"
    },
    {
     "data": {
      "image/png": "[encoded data removed]",
      "text/plain": [
       "<Figure size 432x288 with 1 Axes>"
      ]
     },
     "metadata": {
      "needs_background": "light"
     },
     "output_type": "display_data"
    }
   ],
   "source": [
    "vg = ts.volume(shape=(32, 32, 32), size=(1, 1, 1))\n",
    "pg = ts.parallel(angles=50, shape=(43, 43), size=(1.5, 1.5))\n",
    "svg = ts.svg(vg, pg)\n",
    "svg.save(\"./doc/img/intro_forward_projection_geometries.svg\")\n",
    "A = ts.operator(vg, pg)\n",
    "from scipy.ndimage import zoom\n",
    "x = zoom(Vol1, (32/69, 32/57, 32/75))\n",
    "y = A(x)\n",
    "plt.imshow(y[:, 0, :]) # first projection\n",
    "plt.show()\n",
    "plt.imshow(y[:, 8, :]) # quarter rotation\n",
    "plt.show()"
   ]
  },
  {
   "cell_type": "code",
   "execution_count": 10,
   "metadata": {},
   "outputs": [
    {
     "name": "stdout",
     "output_type": "stream",
     "text": [
      "[[ 0.         -1.          0.        ]\n",
      " [ 0.         -0.99802673  0.06279052]\n",
      " [ 0.         -0.9921147   0.12533323]\n",
      " [ 0.         -0.98228725  0.18738131]\n",
      " [ 0.         -0.96858316  0.24868989]]\n"
     ]
    }
   ],
   "source": [
    "print(pg.ray_dir[:5])\n",
    "#print(pg._det_vec)\n"
   ]
  },
  {
   "cell_type": "code",
   "execution_count": 11,
   "metadata": {},
   "outputs": [
    {
     "name": "stdout",
     "output_type": "stream",
     "text": [
      "[[0.        0.        0.       ]\n",
      " [1.8860662 2.0739784 3.6501303]\n",
      " [3.948796  1.4204998 2.6239626]\n",
      " [1.0760686 0.9697671 3.369385 ]]\n"
     ]
    }
   ],
   "source": [
    "#Then load the angle data:\n",
    "import pickle\n",
    "file_angle = './data/angle_data.pkl'\n",
    "with open(file_angle, 'rb') as f:\n",
    "    angles2 = pickle.load(f)\n",
    "print(angles2[:4])"
   ]
  },
  {
   "cell_type": "code",
   "execution_count": 12,
   "metadata": {},
   "outputs": [
    {
     "name": "stdout",
     "output_type": "stream",
     "text": [
      "(5000, 12)\n"
     ]
    }
   ],
   "source": [
    "import astra\n",
    "ProjSize = 43\n",
    "with open('/home/users/lewis841214/Desktop/1project/CryoEMCode/protein-reconstruction/cryoem/Orientation_Vectors.pkl', 'rb') as handle:\n",
    "    Orientation_Vectors = pickle.load(handle  )\n",
    "Orientation_Vectors = Orientation_Vectors\n",
    "print(Orientation_Vectors.shape)\n",
    "Proj_geom = astra.create_proj_geom('parallel3d_vec', ProjSize, ProjSize, Orientation_Vectors)\n"
   ]
  },
  {
   "cell_type": "code",
   "execution_count": 13,
   "metadata": {},
   "outputs": [],
   "source": [
    "from tomosipo.geometry.parallel_vec import *\n",
    "#pg = ParallelVectorGeometry.from_astra(Proj_geom)\n",
    "pg = ts.from_astra(Proj_geom)"
   ]
  },
  {
   "cell_type": "code",
   "execution_count": 14,
   "metadata": {},
   "outputs": [
    {
     "name": "stdout",
     "output_type": "stream",
     "text": [
      "(32, 32, 32)\n"
     ]
    },
    {
     "data": {
      "image/png": "[encoded data removed]",
      "text/plain": [
       "<Figure size 432x288 with 1 Axes>"
      ]
     },
     "metadata": {
      "needs_background": "light"
     },
     "output_type": "display_data"
    },
    {
     "data": {
      "image/png": "[encoded data removed]",
      "text/plain": [
       "<Figure size 432x288 with 1 Axes>"
      ]
     },
     "metadata": {
      "needs_background": "light"
     },
     "output_type": "display_data"
    }
   ],
   "source": [
    "#vg = ts.volume(shape=(32, 32, 32), size=(1, 1, 1))\n",
    "#pg = ts.parallel(angles=50, shape=(48, 48), size=(1.5, 1.5))\n",
    "Vol_geom = astra.create_vol_geom(32, 32, 32)\n",
    "vg = ts.from_astra(Vol_geom)\n",
    "pg = ts.from_astra(Proj_geom)\n",
    "A = ts.operator(vg, pg)\n",
    "from scipy.ndimage import zoom\n",
    "x = zoom(Vol1, (32/69, 32/57, 32/75))\n",
    "print(x.shape)\n",
    "y = A(x)\n",
    "plt.imshow(y[:, 0, :]) # first projection\n",
    "plt.show()\n",
    "plt.imshow(y[:, 1, :]) # quarter rotation\n",
    "plt.show()"
   ]
  },
  {
   "cell_type": "code",
   "execution_count": 15,
   "metadata": {},
   "outputs": [
    {
     "name": "stdout",
     "output_type": "stream",
     "text": [
      "(5000, 43, 43)\n"
     ]
    },
    {
     "data": {
      "image/png": "[encoded data removed]",
      "text/plain": [
       "<Figure size 432x288 with 1 Axes>"
      ]
     },
     "metadata": {
      "needs_background": "light"
     },
     "output_type": "display_data"
    }
   ],
   "source": [
    "with open('Long_sep.pkl', 'rb') as f:\n",
    "    Images = pickle.load(f)\n",
    "#Images = y\n",
    "print(Images.shape)\n",
    "plt.imshow(Images[0, :, :]) # quarter rotation\n",
    "plt.show()\n"
   ]
  },
  {
   "cell_type": "code",
   "execution_count": 16,
   "metadata": {},
   "outputs": [
    {
     "name": "stdout",
     "output_type": "stream",
     "text": [
      "[[-0.59650447 -0.48173293  0.64196246]\n",
      " [ 0.25872594 -0.76535396  0.58931673]\n",
      " [-0.92641711 -0.08634023 -0.36646515]\n",
      " [-0.76794977 -0.11458671  0.63017699]\n",
      " [-0.96064009  0.11985684 -0.25060917]]\n",
      "[[-0.24098466  0.87043718  0.42926159]\n",
      " [-0.26720006  0.52957799  0.80507843]\n",
      " [ 0.14437403 -0.98040985 -0.13398753]\n",
      " [ 0.42884264  0.63881513  0.638756  ]\n",
      " [-0.11472507 -0.99277904 -0.03504201]]\n",
      "[[-0.76557744  0.10135335 -0.63530991]\n",
      " [-0.92825913 -0.36576014 -0.06748706]\n",
      " [-0.34771753 -0.17703639  0.92073375]\n",
      " [-0.47575954  0.76077928 -0.44143826]\n",
      " [-0.25299956 -0.00491161  0.96745393]]\n"
     ]
    }
   ],
   "source": [
    "print(pg.ray_dir[:5])\n",
    "print(pg.det_v[:5])\n",
    "print(pg.det_u[:5])\n"
   ]
  },
  {
   "cell_type": "code",
   "execution_count": 17,
   "metadata": {},
   "outputs": [
    {
     "name": "stdout",
     "output_type": "stream",
     "text": [
      "[[ 0.64196246 -0.48173293 -0.59650447  0.          0.          0.\n",
      "  -0.63530991  0.10135335 -0.76557744  0.42926159  0.87043718 -0.24098466]\n",
      " [ 0.58931673 -0.76535396  0.25872594  0.          0.          0.\n",
      "  -0.06748706 -0.36576014 -0.92825913  0.80507843  0.52957799 -0.26720006]\n",
      " [-0.36646515 -0.08634023 -0.92641711  0.          0.          0.\n",
      "   0.92073375 -0.17703639 -0.34771753 -0.13398753 -0.98040985  0.14437403]\n",
      " [ 0.63017699 -0.11458671 -0.76794977  0.          0.          0.\n",
      "  -0.44143826  0.76077928 -0.47575954  0.638756    0.63881513  0.42884264]\n",
      " [-0.25060917  0.11985684 -0.96064009  0.          0.          0.\n",
      "   0.96745393 -0.00491161 -0.25299956 -0.03504201 -0.99277904 -0.11472507]]\n",
      "ts.parallel_vec(\n",
      "    shape=(43, 43),\n",
      "    ray_dir=array([[-0.59650447, -0.48173293,  0.64196246],\n",
      "       [ 0.25872594, -0.76535396,  0.58931673],\n",
      "       [-0.92641711, -0.08634023, -0.36646515],\n",
      "       [-0.76794977, -0.11458671,  0.63017699],\n",
      "       [-0.96064009,  0.11985684, -0.25060917]]),\n",
      "    det_pos=array([[ 1.77635684e-15, -1.77635684e-15,  8.88178420e-16],\n",
      "       [-1.77635684e-15,  0.00000000e+00, -8.88178420e-16],\n",
      "       [ 0.00000000e+00,  0.00000000e+00,  0.00000000e+00],\n",
      "       [ 0.00000000e+00,  0.00000000e+00, -8.88178420e-16],\n",
      "       [ 4.44089210e-16,  0.00000000e+00, -1.77635684e-15]]),\n",
      "    det_v=array([[-0.24098466,  0.87043718,  0.42926159],\n",
      "       [-0.26720006,  0.52957799,  0.80507843],\n",
      "       [ 0.14437403, -0.98040985, -0.13398753],\n",
      "       [ 0.42884264,  0.63881513,  0.638756  ],\n",
      "       [-0.11472507, -0.99277904, -0.03504201]]),\n",
      "    det_u=array([[-0.76557744,  0.10135335, -0.63530991],\n",
      "       [-0.92825913, -0.36576014, -0.06748706],\n",
      "       [-0.34771753, -0.17703639,  0.92073375],\n",
      "       [-0.47575954,  0.76077928, -0.44143826],\n",
      "       [-0.25299956, -0.00491161,  0.96745393]]),\n",
      ")\n"
     ]
    }
   ],
   "source": [
    "print(Orientation_Vectors[:5])\n",
    "print(pg[:5])"
   ]
  },
  {
   "cell_type": "code",
   "execution_count": 20,
   "metadata": {},
   "outputs": [],
   "source": [
    "from tomosipo.torch_support import to_autograd\n",
    "import time\n",
    "\"\"\"\n",
    "First step. write out the\n",
    "1. Expectation\n",
    "2. likelihood\n",
    "Then use .backward solve it\n",
    "\n",
    "\n",
    "For AU with U with batch n^3, to_autograd take batch input, which is actually what I want!!!!, so no need for one by one concatenate!!!\n",
    "\n",
    "\"\"\"\n",
    "def reshape_fortran(x, shape):\n",
    "    if len(x.shape) > 0:\n",
    "        x = x.permute(*reversed(range(len(x.shape))))\n",
    "    return x.reshape(*reversed(shape)).permute(*reversed(range(len(shape))))\n",
    "def Trace_bradcast(a):\n",
    "    b = torch.einsum('bii->b', a)\n",
    "    return b\n",
    "import torch\n",
    "class MPCA_3d_recon():\n",
    "    def __init__(self, ProjSize, num_image, n_component, op, Images):\n",
    "        #init\n",
    "        self.ProjSize  = ProjSize\n",
    "        self.z_size = n_component # First set 1 for simplicity\n",
    "        self.num_image = num_image\n",
    "        self.n_component = n_component\n",
    "        \n",
    "        \"\"\"\n",
    "        projection operator and images\n",
    "        \"\"\"\n",
    "        self.op = to_autograd(op)\n",
    "        Images = torch.tensor(Images)\n",
    "        self.I = reshape_fortran(Images, (self.num_image, self.ProjSize*self.ProjSize , 1)).float() # N x D^2 x 1\n",
    "        \"\"\"\n",
    "        paramters we want to find\n",
    "        \"\"\"\n",
    "        self.U1 = torch.eye(self.ProjSize)[:, :self.z_size] +1\n",
    "        self.U2 = torch.eye(self.ProjSize)[:, :self.z_size] +1 \n",
    "        self.U3 = torch.eye(self.ProjSize)[:, :self.z_size] +1\n",
    "        #print('self.U1',self.U1.shape)\n",
    "        self.U1.data = torch.qr(self.U1.data)[0]\n",
    "        self.U2.data = torch.qr(self.U2.data)[0]\n",
    "        self.U3.data = torch.qr(self.U3.data)[0]\n",
    "        #print('ortho_U1',ortho_U1.shape)\n",
    "        #print(ortho_U1.T@ortho_U1)\n",
    "        \n",
    "        self.U1.requires_grad =True\n",
    "        self.U2.requires_grad =True\n",
    "        self.U3.requires_grad =True\n",
    "        self.All_U = torch.kron(self.U1, torch.kron(self.U2, self.U3))\n",
    "        self.Sigma_Z_inv = torch.eye(self.n_component ** 3) # size: p1 x p2 x p3 \n",
    "        self.sigma = torch.ones(self.num_image).reshape(-1, 1 ,1) * 1\n",
    "        \n",
    "        \"\"\"\n",
    "        Expectation term\n",
    "        or so called missing data\n",
    "        \"\"\"\n",
    "        self.mu = torch.abs(torch.ones((num_image, n_component **3,1)))\n",
    "        self.BigSigma_I = torch.abs(torch.ones((self.num_image, self.n_component**3, self.n_component**3 )))\n",
    "\n",
    "       \n",
    "\n",
    "    def A_pro_All_U(self):\n",
    "        #self.All_U # shape = Ps ^3 x n  ^3: which we should make it Ps x Ps x Ps x n ^3 to process\n",
    "        #A: Ps x Ps x Ps x 1 ->  Ps x Ps x 1\n",
    "        \n",
    "        #So overal, we have Mu = N x D^3 x n^3\n",
    "        #AMu = N x D^2 x n^3\n",
    "        \"\"\"\n",
    "        for i in range(self.n_component**3):\n",
    "            Vol_i = self.All_U[:, i].reshape(self.ProjSize, self.ProjSize,self.ProjSize)\n",
    "            Proj_i = self.op(Vol_i).permute(1, 0, 2)\n",
    "            Proj_i = reshape_fortran(Proj_i, (self.num_image, self.ProjSize*self.ProjSize ,1))\n",
    "            \n",
    "            #print(Proj_i.shape)\n",
    "            if i == 0:\n",
    "                self.AU = Proj_i\n",
    "            else:\n",
    "                self.AU = torch.cat((self.AU, Proj_i), 2)\n",
    "        #print('self.AU',self.AU.shape)\n",
    "        \n",
    "        #Broad cast: torch.matmul\n",
    "        # (AU).T(AU) = torch.matmul(self.AU.permute(0,2,1), self.AU.permute(0,2,1))\n",
    "        #torch.matmul(self.AU.permute(0,2,1), self.AU)\n",
    "        \"\"\"\n",
    "        self.All_U = torch.kron(self.U1, torch.kron(self.U2, self.U3))\n",
    "        self.All_U = reshape_fortran(self.All_U, (self.ProjSize, self.ProjSize, self.ProjSize, self.n_component**3)) #D^3 x n^3 -> D xD x D x n^3\n",
    "        self.All_U = self.All_U.permute(3, 0, 1, 2) # make it n x Dx Dx D\n",
    "        #print(self.All_U.shape)\n",
    "        self.AU = self.op( self.All_U) # n x Dx Dx D -> n x D x N x D\n",
    "        #print('self.AU',self.AU.shape)\n",
    "        self.AU = self.AU.permute(2, 0, 1, 3) # N x n x D x D\n",
    "        self.AU = reshape_fortran(self.AU, (self.num_image, self.n_component**3, self.ProjSize**2))\n",
    "        self.AU = self.AU.permute(0, 2, 1) # N x n x D x D\n",
    "        \n",
    "        #print('self.AU',self.AU.shape)\n",
    "        \n",
    "    def Expectation(self):\n",
    "        \n",
    "        \"\"\"\n",
    "        First, get all projection information\n",
    "        \n",
    "        ro_j = 1/sigma^2 * (Sigmz_Z_inv + 1/sigma^2 * (Au)^TAu)^(-1)(Au)^TI\n",
    "        \n",
    "        #We expect to get a n_image x n_component matrix for ro\n",
    "        \n",
    "        BigSigma = I - 1 / sigma^2 * (I + 1/sigma^2 * (Au)^TAu)^(-1) (Au)^TAu9htu\n",
    "        \n",
    "        Here, the shape of All_U is PS^3 x n_component^3, but A can only process a 3d volume PS^3 at once\n",
    "        \n",
    "        \"\"\"\n",
    "        #print(torch.unsqueeze(self.Sigma_Z_inv,0  ).shape)\n",
    "        #print((1 / self.sigma **2).shape)\n",
    "        \n",
    "        UTATAU = torch.matmul(self.AU.permute(0,2,1), self.AU)\n",
    "        #print(UTAAU.shape)\n",
    "        #print((1 / self.sigma **2 * UTAAU ).shape)\n",
    "        self.mu = torch.inverse(torch.unsqueeze(self.Sigma_Z_inv,0  ) + 1 / self.sigma **2 * UTATAU ) * 1 / self.sigma **2 \n",
    "        self.mu = torch.matmul(self.mu , self.AU.permute(0,2,1))\n",
    "        self.mu = torch.matmul(self.mu, self.I)\n",
    "        #print('self.mu.shape',self.mu.shape)\n",
    "        \n",
    "        \n",
    "        \"\"\"\n",
    "        So we found Mu\n",
    "        Then we found Sigma_I\n",
    "        torch.inverse can broadcast through batch, so just use it\n",
    "        \"\"\"\n",
    "        self.BigSigma_I = torch.inverse((torch.unsqueeze(self.Sigma_Z_inv,0  ) + 1 / self.sigma **2 * UTATAU )) + torch.matmul(self.mu, self.mu.permute(0,2,1))\n",
    "        #print('self.BigSigma_I', self.BigSigma_I.shape)\n",
    "        \n",
    "    def Q_Function(self, ):\n",
    "        \"\"\"\n",
    "        #left term\n",
    "        #print('self.AU', torch.mean(self.AU))\n",
    "        print('in Q')\n",
    "        print('self.mu ', torch.mean(self.mu ))\n",
    "        print('self.BigSigma_I', torch.mean(self.BigSigma_I))\n",
    "        #print('self.sigma', torch.mean(self.sigma))\n",
    "        print('self.Sigma_Z_inv',torch.mean(self.Sigma_Z_inv))\n",
    "        print('self.U1', torch.mean(self.U1))\n",
    "        print('self.U2', torch.mean(self.U2))\n",
    "        print('self.U3', torch.mean(self.U3))\n",
    "        \n",
    "        try:\n",
    "            print('self.U1.grad.data',torch.mean(self.U1.grad.data))\n",
    "            print('self.U2.grad.data',torch.mean(self.U2.grad.data))\n",
    "            print('self.U3.grad.data',torch.mean(self.U3.grad.data))\n",
    "        \n",
    "        except:\n",
    "            pass\n",
    "        \"\"\"\n",
    "        \n",
    "        left = -2 * self.I.permute(0, 2, 1) @ self.AU @ self.mu \n",
    "        #UTATAU = torch.matmul(self.AU.permute(0,2,1), self.AU)\n",
    "        #print('self.AU', self.AU.shape)\n",
    "        #print('self.BigSigma_I', self.BigSigma_I.shape)\n",
    "        #print('self.AU.permute(0,2,1)', self.AU.permute(0,2,1).shape)\n",
    "        left = left + Trace_bradcast(self.AU @ self.BigSigma_I @ self.AU.permute(0,2,1))   #self.mu.permute(0, 2, 1) @  UTATAU @ self.mu\n",
    "        left = 1 / self.sigma **2 *left\n",
    "        \n",
    "        #middle term\n",
    "        #print('self.mu', self.mu.shape)\n",
    "        #print('torch.unsqueeze(self.Sigma_Z_inv,0  )', torch.unsqueeze(self.Sigma_Z_inv,0  ).shape)\n",
    "        #middle = self.mu.permute(0, 2, 1)  @torch.unsqueeze(self.Sigma_Z_inv,0  ) @self.mu\n",
    "        middle = Trace_bradcast( torch.unsqueeze(self.Sigma_Z_inv,0  ) @ self.BigSigma_I )\n",
    "        \n",
    "        \n",
    "        right = torch.log(torch.det(torch.inverse(self.Sigma_Z_inv)))\n",
    "        self.Q = -1/2 * torch.sum(left + middle + right)/100000000\n",
    "        print('self.Q',self.Q.shape,self.Q)\n",
    "        #print(self.Q)\n",
    "    def Maximization(self, ratio):\n",
    "        \"\"\"\n",
    "        Update U1, U2, U3 by gradient assent and use svd to make sure orthogonality\n",
    "        self.U1.grad.data.zero_() # conduct zero grad\n",
    "        self.Q.backward()\n",
    "        \n",
    "        \"\"\"\n",
    "        self.Sigma_Z_inv = torch.inverse(torch.mean(self.BigSigma_I, 0)).detach()\n",
    "        start = time.time()\n",
    "        self.Q_Function()\n",
    "        print('q fun ction time', time.time()- start)\n",
    "        self.Q.backward()\n",
    "        print('backward time', time.time()- start)\n",
    "        \n",
    "        lr = torch.mean(torch.abs(self.U1)) /  torch.mean(torch.abs(self.U1.grad)) * ratio# 0.01\n",
    "        self.U1.data +=  lr * self.U1.grad.data\n",
    "        self.U1.data = torch.qr(self.U1.data)[0]\n",
    "        \n",
    "        self.U1.grad.data.zero_()\n",
    "        self.U2.grad.data.zero_()\n",
    "        self.U3.grad.data.zero_()\n",
    "        print('update time', time.time()- start)\n",
    "        \n",
    "        self.A_pro_All_U()\n",
    "        print('AU time', time.time()- start)\n",
    "        self.Expectation()\n",
    "        print('AU + expectation time', time.time()- start)\n",
    "        \n",
    "        \n",
    "        \n",
    "        self.Q_Function()\n",
    "        self.Q.backward()\n",
    "        lr = torch.mean(torch.abs(self.U2)) /  torch.mean(torch.abs(self.U2.grad))* ratio#0.01\n",
    "        self.U2.data += lr * self.U2.grad.data\n",
    "        self.U2.data = torch.qr(self.U2.data)[0]\n",
    "        \n",
    "        self.U1.grad.data.zero_()\n",
    "        self.U2.grad.data.zero_()\n",
    "        self.U3.grad.data.zero_()\n",
    "        self.A_pro_All_U()\n",
    "        self.Expectation()\n",
    "        \n",
    "        \n",
    "        \n",
    "        self.Q_Function()\n",
    "        self.Q.backward()\n",
    "        \n",
    "        lr = torch.mean(torch.abs(self.U3)) /  torch.mean(torch.abs(self.U3.grad))* ratio#0.01\n",
    "        self.U3.data += lr * self.U3.grad.data\n",
    "        self.U3.data = torch.qr(self.U3.data)[0]\n",
    "        \n",
    "        self.U1.grad.data.zero_()\n",
    "        self.U2.grad.data.zero_()\n",
    "        self.U3.grad.data.zero_()\n",
    "        self.A_pro_All_U()\n",
    "        self.Expectation()\n",
    "        print(time.time()-start, 'sec')\n",
    "        #lr = np.abs(np.mean(self.mu) / np.mean(DeltaMu) )*0.001\n",
    "        #self.mu = self.mu + lr * DeltaMu\n",
    "        \"\"\"\n",
    "        lr = torch.mean(torch.abs(self.U1)) /  torch.mean(torch.abs(self.U1.grad)) * ratio# 0.01\n",
    "        self.U1.data +=  lr * self.U1.grad.data\n",
    "        \n",
    "        lr = torch.mean(torch.abs(self.U2)) /  torch.mean(torch.abs(self.U2.grad))* ratio#0.01\n",
    "        self.U2.data += lr * self.U2.grad.data\n",
    "        \n",
    "        lr = torch.mean(torch.abs(self.U3)) /  torch.mean(torch.abs(self.U3.grad))* ratio#0.01\n",
    "        self.U3.data += lr * self.U3.grad.data\n",
    "        \n",
    "        self.U1.data = torch.qr(self.U1.data)[0]\n",
    "        self.U2.data = torch.qr(self.U2.data)[0]\n",
    "        self.U3.data = torch.qr(self.U3.data)[0]\n",
    "        #print('self.U1.grad.data',torch.mean(self.U1.grad.data))\n",
    "        ##print('self.U2.grad.data',torch.mean(self.U2.grad.data))\n",
    "        #print('self.U3.grad.data',torch.mean(self.U3.grad.data))\n",
    "        \n",
    "        self.U1.grad.data.zero_()\n",
    "        self.U2.grad.data.zero_()\n",
    "        self.U3.grad.data.zero_()\n",
    "        self.A_pro_All_U()\n",
    "        \"\"\"\n",
    "        \n",
    "    def Plot_temp(self):\n",
    "        c = 0\n",
    "        print('generated')\n",
    "        est_I = self.AU @ self.mu\n",
    "        AU = est_I.detach().numpy()\n",
    "        #print(AU.shape)\n",
    "        image = AU[c].reshape(self.ProjSize,self.ProjSize, order = 'F')\n",
    "        plt.imshow(image) # quarter rotation\n",
    "        plt.show()\n",
    "        #MP3.Q_Function()\n",
    "\n",
    "        #MP3.Maximization()\n",
    "        print('real')\n",
    "        plt.imshow(Images[c])\n",
    "        plt.show()\n",
    "        \n",
    "        c = 11\n",
    "        print('generated')\n",
    "        #AU = self.AU.detach().numpy()\n",
    "        #print(AU.shape)\n",
    "        image = AU[c].reshape(self.ProjSize,self.ProjSize, order = 'F')\n",
    "        plt.imshow(image) # quarter rotation\n",
    "        plt.show()\n",
    "        #MP3.Q_Function()\n",
    "\n",
    "        #MP3.Maximization()\n",
    "        print('real')\n",
    "        plt.imshow(Images[c])\n",
    "        plt.show()\n",
    "        \n",
    "        \n",
    "    def fit(self, start_ratio):\n",
    "        ratio = start_ratio\n",
    "        self.A_pro_All_U()\n",
    "        print('oritinal')\n",
    "        self.Plot_temp()\n",
    "        for i in range(100000):\n",
    "            self.A_pro_All_U()\n",
    "            #self.Q_Function()\n",
    "            #self.Plot_temp()\n",
    "            #self.Q_Function()\n",
    "            self.Expectation()\n",
    "            self.Q_Function()\n",
    "            self.Maximization(ratio)\n",
    "            if i % 100 == 99:\n",
    "                ratio = ratio /5\n",
    "            if i % 30 ==0:\n",
    "                print(f'the {i} th iter')\n",
    "                self.Plot_temp()\n",
    "            "
   ]
  },
  {
   "cell_type": "code",
   "execution_count": null,
   "metadata": {},
   "outputs": [
    {
     "name": "stdout",
     "output_type": "stream",
     "text": [
      "oritinal\n",
      "generated\n"
     ]
    },
    {
     "data": {
      "image/png": "[encoded data removed]",
      "text/plain": [
       "<Figure size 432x288 with 1 Axes>"
      ]
     },
     "metadata": {
      "needs_background": "light"
     },
     "output_type": "display_data"
    },
    {
     "name": "stdout",
     "output_type": "stream",
     "text": [
      "real\n"
     ]
    },
    {
     "data": {
      "image/png": "[encoded data removed]",
      "text/plain": [
       "<Figure size 432x288 with 1 Axes>"
      ]
     },
     "metadata": {
      "needs_background": "light"
     },
     "output_type": "display_data"
    },
    {
     "name": "stdout",
     "output_type": "stream",
     "text": [
      "generated\n"
     ]
    },
    {
     "data": {
      "image/png": "[encoded data removed]",
      "text/plain": [
       "<Figure size 432x288 with 1 Axes>"
      ]
     },
     "metadata": {
      "needs_background": "light"
     },
     "output_type": "display_data"
    },
    {
     "name": "stdout",
     "output_type": "stream",
     "text": [
      "real\n"
     ]
    },
    {
     "data": {
      "image/png": "[encoded data removed]",
      "text/plain": [
       "<Figure size 432x288 with 1 Axes>"
      ]
     },
     "metadata": {
      "needs_background": "light"
     },
     "output_type": "display_data"
    },
    {
     "name": "stdout",
     "output_type": "stream",
     "text": [
      "self.Q torch.Size([]) tensor(-6.0216, grad_fn=<DivBackward0>)\n",
      "self.Q torch.Size([]) tensor(-5.9539, grad_fn=<DivBackward0>)\n",
      "q fun ction time 24.73695683479309\n",
      "backward time 64.13405919075012\n",
      "update time 64.1355504989624\n",
      "AU + expectation time 90.58220314979553\n",
      "self.Q torch.Size([]) tensor(-5.1599, grad_fn=<DivBackward0>)\n",
      "self.Q torch.Size([]) tensor(-4.9344, grad_fn=<DivBackward0>)\n",
      "282.3421230316162 sec\n",
      "the 0 th iter\n",
      "generated\n"
     ]
    },
    {
     "data": {
      "image/png": "[encoded data removed]",
      "text/plain": [
       "<Figure size 432x288 with 1 Axes>"
      ]
     },
     "metadata": {
      "needs_background": "light"
     },
     "output_type": "display_data"
    },
    {
     "name": "stdout",
     "output_type": "stream",
     "text": [
      "real\n"
     ]
    },
    {
     "data": {
      "image/png": "[encoded data removed]",
      "text/plain": [
       "<Figure size 432x288 with 1 Axes>"
      ]
     },
     "metadata": {
      "needs_background": "light"
     },
     "output_type": "display_data"
    },
    {
     "name": "stdout",
     "output_type": "stream",
     "text": [
      "generated\n"
     ]
    },
    {
     "data": {
      "image/png": "[encoded data removed]",
      "text/plain": [
       "<Figure size 432x288 with 1 Axes>"
      ]
     },
     "metadata": {
      "needs_background": "light"
     },
     "output_type": "display_data"
    },
    {
     "name": "stdout",
     "output_type": "stream",
     "text": [
      "real\n"
     ]
    },
    {
     "data": {
      "image/png": "[encoded data removed]",
      "text/plain": [
       "<Figure size 432x288 with 1 Axes>"
      ]
     },
     "metadata": {
      "needs_background": "light"
     },
     "output_type": "display_data"
    },
    {
     "name": "stdout",
     "output_type": "stream",
     "text": [
      "self.Q torch.Size([]) tensor(-4.7884, grad_fn=<DivBackward0>)\n",
      "self.Q torch.Size([]) tensor(-4.7172, grad_fn=<DivBackward0>)\n",
      "q fun ction time 26.74989938735962\n",
      "backward time 64.86309432983398\n",
      "update time 64.8648681640625\n",
      "AU + expectation time 90.7566089630127\n",
      "self.Q torch.Size([]) tensor(-3.8600, grad_fn=<DivBackward0>)\n",
      "self.Q torch.Size([]) tensor(-3.4809, grad_fn=<DivBackward0>)\n",
      "284.0678918361664 sec\n",
      "self.Q torch.Size([]) tensor(-3.2233, grad_fn=<DivBackward0>)\n",
      "self.Q torch.Size([]) tensor(-3.1049, grad_fn=<DivBackward0>)\n",
      "q fun ction time 24.448029041290283\n",
      "backward time 67.40362048149109\n",
      "update time 67.40547704696655\n",
      "AU + expectation time 93.29600191116333\n",
      "self.Q torch.Size([]) tensor(-2.2938, grad_fn=<DivBackward0>)\n",
      "self.Q torch.Size([]) tensor(-1.8718, grad_fn=<DivBackward0>)\n",
      "270.5765595436096 sec\n",
      "self.Q torch.Size([]) tensor(-1.5947, grad_fn=<DivBackward0>)\n",
      "self.Q torch.Size([]) tensor(-1.5472, grad_fn=<DivBackward0>)\n",
      "q fun ction time 24.34955334663391\n",
      "backward time 63.47783851623535\n",
      "update time 63.48004770278931\n",
      "AU + expectation time 91.14157462120056\n",
      "self.Q torch.Size([]) tensor(-0.7630, grad_fn=<DivBackward0>)\n",
      "self.Q torch.Size([]) tensor(-0.2557, grad_fn=<DivBackward0>)\n",
      "273.6650359630585 sec\n",
      "self.Q torch.Size([]) tensor(0.0700, grad_fn=<DivBackward0>)\n",
      "self.Q torch.Size([]) tensor(0.1523, grad_fn=<DivBackward0>)\n",
      "q fun ction time 27.602662324905396\n",
      "backward time 70.48509979248047\n",
      "update time 70.48696064949036\n",
      "AU + expectation time 97.9588565826416\n",
      "self.Q torch.Size([]) tensor(0.9742, grad_fn=<DivBackward0>)\n",
      "self.Q torch.Size([]) tensor(1.5575, grad_fn=<DivBackward0>)\n",
      "289.18063974380493 sec\n",
      "self.Q torch.Size([]) tensor(1.9699, grad_fn=<DivBackward0>)\n",
      "self.Q torch.Size([]) tensor(2.0917, grad_fn=<DivBackward0>)\n",
      "q fun ction time 24.98592495918274\n",
      "backward time 68.26784777641296\n",
      "update time 68.26946663856506\n",
      "AU + expectation time 93.98038411140442\n",
      "self.Q torch.Size([]) tensor(2.9116, grad_fn=<DivBackward0>)\n",
      "self.Q torch.Size([]) tensor(3.5277, grad_fn=<DivBackward0>)\n",
      "288.2301092147827 sec\n",
      "self.Q torch.Size([]) tensor(3.9937, grad_fn=<DivBackward0>)\n",
      "self.Q torch.Size([]) tensor(4.0954, grad_fn=<DivBackward0>)\n",
      "q fun ction time 27.677180767059326\n",
      "backward time 69.46650338172913\n",
      "update time 69.46811175346375\n",
      "AU + expectation time 93.50253534317017\n",
      "self.Q torch.Size([]) tensor(4.8744, grad_fn=<DivBackward0>)\n",
      "self.Q torch.Size([]) tensor(5.5145, grad_fn=<DivBackward0>)\n",
      "278.4060482978821 sec\n",
      "self.Q torch.Size([]) tensor(6.0173, grad_fn=<DivBackward0>)\n",
      "self.Q torch.Size([]) tensor(6.1264, grad_fn=<DivBackward0>)\n",
      "q fun ction time 28.441805362701416\n",
      "backward time 68.44888424873352\n",
      "update time 68.45035028457642\n",
      "AU + expectation time 95.23446774482727\n",
      "self.Q torch.Size([]) tensor(6.8626, grad_fn=<DivBackward0>)\n",
      "self.Q torch.Size([]) tensor(7.5364, grad_fn=<DivBackward0>)\n",
      "291.86932373046875 sec\n",
      "self.Q torch.Size([]) tensor(8.0769, grad_fn=<DivBackward0>)\n",
      "self.Q torch.Size([]) tensor(8.1920, grad_fn=<DivBackward0>)\n",
      "q fun ction time 27.02060842514038\n",
      "backward time 67.40679383277893\n",
      "update time 67.4092288017273\n",
      "AU + expectation time 92.5797028541565\n",
      "self.Q torch.Size([]) tensor(8.8796, grad_fn=<DivBackward0>)\n",
      "self.Q torch.Size([]) tensor(9.5653, grad_fn=<DivBackward0>)\n",
      "299.8912329673767 sec\n",
      "self.Q torch.Size([]) tensor(10.1293, grad_fn=<DivBackward0>)\n",
      "self.Q torch.Size([]) tensor(10.2354, grad_fn=<DivBackward0>)\n",
      "q fun ction time 27.272380828857422\n",
      "backward time 64.30654740333557\n",
      "update time 64.30791544914246\n",
      "AU + expectation time 94.47111392021179\n",
      "self.Q torch.Size([]) tensor(10.8953, grad_fn=<DivBackward0>)\n",
      "self.Q torch.Size([]) tensor(11.5540, grad_fn=<DivBackward0>)\n",
      "280.55872893333435 sec\n",
      "self.Q torch.Size([]) tensor(12.1019, grad_fn=<DivBackward0>)\n",
      "self.Q torch.Size([]) tensor(12.1843, grad_fn=<DivBackward0>)\n",
      "q fun ction time 26.339786767959595\n",
      "backward time 67.69767379760742\n",
      "update time 67.69951915740967\n",
      "AU + expectation time 96.6617681980133\n",
      "self.Q torch.Size([]) tensor(12.8564, grad_fn=<DivBackward0>)\n",
      "self.Q torch.Size([]) tensor(13.4577, grad_fn=<DivBackward0>)\n",
      "285.4339334964752 sec\n",
      "self.Q torch.Size([]) tensor(13.9523, grad_fn=<DivBackward0>)\n",
      "self.Q torch.Size([]) tensor(14.0141, grad_fn=<DivBackward0>)\n",
      "q fun ction time 26.49784803390503\n",
      "backward time 71.70712971687317\n",
      "update time 71.70922493934631\n",
      "AU + expectation time 98.441486120224\n",
      "self.Q torch.Size([]) tensor(14.7376, grad_fn=<DivBackward0>)\n",
      "self.Q torch.Size([]) tensor(15.2696, grad_fn=<DivBackward0>)\n",
      "290.2211847305298 sec\n",
      "self.Q torch.Size([]) tensor(15.6937, grad_fn=<DivBackward0>)\n",
      "self.Q torch.Size([]) tensor(15.7474, grad_fn=<DivBackward0>)\n",
      "q fun ction time 25.728463411331177\n",
      "backward time 65.4685742855072\n",
      "update time 65.47025680541992\n",
      "AU + expectation time 92.70902848243713\n",
      "self.Q torch.Size([]) tensor(16.5356, grad_fn=<DivBackward0>)\n",
      "self.Q torch.Size([]) tensor(16.9990, grad_fn=<DivBackward0>)\n",
      "284.5980472564697 sec\n",
      "self.Q torch.Size([]) tensor(17.3516, grad_fn=<DivBackward0>)\n",
      "self.Q torch.Size([]) tensor(17.4054, grad_fn=<DivBackward0>)\n",
      "q fun ction time 26.92749285697937\n",
      "backward time 68.74141144752502\n",
      "update time 68.74279761314392\n",
      "AU + expectation time 94.39601850509644\n",
      "self.Q torch.Size([]) tensor(18.2398, grad_fn=<DivBackward0>)\n",
      "self.Q torch.Size([]) tensor(18.6384, grad_fn=<DivBackward0>)\n",
      "278.6414358615875 sec\n",
      "self.Q torch.Size([]) tensor(18.9286, grad_fn=<DivBackward0>)\n",
      "self.Q torch.Size([]) tensor(18.9846, grad_fn=<DivBackward0>)\n",
      "q fun ction time 28.256566524505615\n",
      "backward time 73.50523567199707\n",
      "update time 73.50681281089783\n",
      "AU + expectation time 101.30478143692017\n",
      "self.Q torch.Size([]) tensor(19.8304, grad_fn=<DivBackward0>)\n",
      "self.Q torch.Size([]) tensor(20.1688, grad_fn=<DivBackward0>)\n",
      "288.3754303455353 sec\n",
      "self.Q torch.Size([]) tensor(20.4075, grad_fn=<DivBackward0>)\n",
      "self.Q torch.Size([]) tensor(20.4637, grad_fn=<DivBackward0>)\n",
      "q fun ction time 25.644484996795654\n",
      "backward time 71.0124192237854\n",
      "update time 71.01381969451904\n",
      "AU + expectation time 99.56127691268921\n",
      "self.Q torch.Size([]) tensor(21.2883, grad_fn=<DivBackward0>)\n",
      "self.Q torch.Size([]) tensor(21.5711, grad_fn=<DivBackward0>)\n",
      "283.7719838619232 sec\n",
      "self.Q torch.Size([]) tensor(21.7677, grad_fn=<DivBackward0>)\n",
      "self.Q torch.Size([]) tensor(21.8212, grad_fn=<DivBackward0>)\n",
      "q fun ction time 27.328185081481934\n",
      "backward time 71.70647382736206\n",
      "update time 71.70800352096558\n",
      "AU + expectation time 96.27012944221497\n",
      "self.Q torch.Size([]) tensor(22.6023, grad_fn=<DivBackward0>)\n",
      "self.Q torch.Size([]) tensor(22.8370, grad_fn=<DivBackward0>)\n",
      "284.93668389320374 sec\n",
      "self.Q torch.Size([]) tensor(22.9996, grad_fn=<DivBackward0>)\n",
      "self.Q torch.Size([]) tensor(23.0479, grad_fn=<DivBackward0>)\n",
      "q fun ction time 27.767163038253784\n",
      "backward time 66.17165017127991\n",
      "update time 66.17586064338684\n",
      "AU + expectation time 93.04292750358582\n",
      "self.Q torch.Size([]) tensor(23.7717, grad_fn=<DivBackward0>)\n",
      "self.Q torch.Size([]) tensor(23.9655, grad_fn=<DivBackward0>)\n",
      "283.1899425983429 sec\n",
      "self.Q torch.Size([]) tensor(24.1002, grad_fn=<DivBackward0>)\n",
      "self.Q torch.Size([]) tensor(24.1423, grad_fn=<DivBackward0>)\n",
      "q fun ction time 25.810576915740967\n",
      "backward time 66.7742977142334\n",
      "update time 66.77560830116272\n",
      "AU + expectation time 93.65151977539062\n",
      "self.Q torch.Size([]) tensor(24.8017, grad_fn=<DivBackward0>)\n",
      "self.Q torch.Size([]) tensor(24.9617, grad_fn=<DivBackward0>)\n",
      "292.0668978691101 sec\n",
      "self.Q torch.Size([]) tensor(25.0739, grad_fn=<DivBackward0>)\n",
      "self.Q torch.Size([]) tensor(25.1094, grad_fn=<DivBackward0>)\n",
      "q fun ction time 25.73023557662964\n",
      "backward time 65.21419262886047\n",
      "update time 65.21635270118713\n",
      "AU + expectation time 92.16309428215027\n",
      "self.Q torch.Size([]) tensor(25.7025, grad_fn=<DivBackward0>)\n",
      "self.Q torch.Size([]) tensor(25.8344, grad_fn=<DivBackward0>)\n",
      "280.59760332107544 sec\n",
      "self.Q torch.Size([]) tensor(25.9284, grad_fn=<DivBackward0>)\n",
      "self.Q torch.Size([]) tensor(25.9579, grad_fn=<DivBackward0>)\n",
      "q fun ction time 26.252908945083618\n",
      "backward time 70.3375792503357\n",
      "update time 70.33990097045898\n",
      "AU + expectation time 96.75709128379822\n",
      "self.Q torch.Size([]) tensor(26.4860, grad_fn=<DivBackward0>)\n",
      "self.Q torch.Size([]) tensor(26.5946, grad_fn=<DivBackward0>)\n",
      "294.2849807739258 sec\n",
      "self.Q torch.Size([]) tensor(26.6737, grad_fn=<DivBackward0>)\n",
      "self.Q torch.Size([]) tensor(26.6981, grad_fn=<DivBackward0>)\n",
      "q fun ction time 26.21998620033264\n"
     ]
    },
    {
     "name": "stdout",
     "output_type": "stream",
     "text": [
      "backward time 64.09299325942993\n",
      "update time 64.09458184242249\n",
      "AU + expectation time 90.12583255767822\n",
      "self.Q torch.Size([]) tensor(27.1648, grad_fn=<DivBackward0>)\n",
      "self.Q torch.Size([]) tensor(27.2539, grad_fn=<DivBackward0>)\n",
      "288.32066535949707 sec\n",
      "self.Q torch.Size([]) tensor(27.3209, grad_fn=<DivBackward0>)\n",
      "self.Q torch.Size([]) tensor(27.3410, grad_fn=<DivBackward0>)\n",
      "q fun ction time 27.83552837371826\n",
      "backward time 65.03636503219604\n",
      "update time 65.03771114349365\n",
      "AU + expectation time 90.75758099555969\n",
      "self.Q torch.Size([]) tensor(27.7516, grad_fn=<DivBackward0>)\n",
      "self.Q torch.Size([]) tensor(27.8245, grad_fn=<DivBackward0>)\n",
      "274.38478994369507 sec\n",
      "self.Q torch.Size([]) tensor(27.8815, grad_fn=<DivBackward0>)\n",
      "self.Q torch.Size([]) tensor(27.8983, grad_fn=<DivBackward0>)\n",
      "q fun ction time 26.2052321434021\n",
      "backward time 61.55936622619629\n",
      "update time 61.560818910598755\n",
      "AU + expectation time 89.16694831848145\n",
      "self.Q torch.Size([]) tensor(28.2586, grad_fn=<DivBackward0>)\n",
      "self.Q torch.Size([]) tensor(28.3182, grad_fn=<DivBackward0>)\n",
      "297.34802627563477 sec\n",
      "self.Q torch.Size([]) tensor(28.3670, grad_fn=<DivBackward0>)\n",
      "self.Q torch.Size([]) tensor(28.3812, grad_fn=<DivBackward0>)\n",
      "q fun ction time 28.970057010650635\n",
      "backward time 66.94111227989197\n",
      "update time 66.94251251220703\n",
      "AU + expectation time 93.5393455028534\n",
      "self.Q torch.Size([]) tensor(28.6973, grad_fn=<DivBackward0>)\n",
      "self.Q torch.Size([]) tensor(28.7458, grad_fn=<DivBackward0>)\n",
      "280.24546122550964 sec\n",
      "self.Q torch.Size([]) tensor(28.7878, grad_fn=<DivBackward0>)\n",
      "self.Q torch.Size([]) tensor(28.7999, grad_fn=<DivBackward0>)\n",
      "q fun ction time 25.99533224105835\n",
      "backward time 64.44334626197815\n",
      "update time 64.44491195678711\n",
      "AU + expectation time 91.05054330825806\n",
      "self.Q torch.Size([]) tensor(29.0778, grad_fn=<DivBackward0>)\n",
      "self.Q torch.Size([]) tensor(29.1171, grad_fn=<DivBackward0>)\n",
      "282.4170460700989 sec\n",
      "self.Q torch.Size([]) tensor(29.1533, grad_fn=<DivBackward0>)\n",
      "self.Q torch.Size([]) tensor(29.1639, grad_fn=<DivBackward0>)\n",
      "q fun ction time 27.84641742706299\n",
      "backward time 69.04698538780212\n",
      "update time 69.05120158195496\n",
      "AU + expectation time 96.0239143371582\n",
      "self.Q torch.Size([]) tensor(29.4089, grad_fn=<DivBackward0>)\n",
      "self.Q torch.Size([]) tensor(29.4406, grad_fn=<DivBackward0>)\n",
      "292.35238695144653 sec\n",
      "self.Q torch.Size([]) tensor(29.4720, grad_fn=<DivBackward0>)\n",
      "self.Q torch.Size([]) tensor(29.4814, grad_fn=<DivBackward0>)\n",
      "q fun ction time 26.285109758377075\n",
      "backward time 68.05519533157349\n",
      "update time 68.05693888664246\n",
      "AU + expectation time 96.15638160705566\n",
      "self.Q torch.Size([]) tensor(29.6983, grad_fn=<DivBackward0>)\n",
      "self.Q torch.Size([]) tensor(29.7240, grad_fn=<DivBackward0>)\n",
      "288.12597918510437 sec\n",
      "self.Q torch.Size([]) tensor(29.7513, grad_fn=<DivBackward0>)\n",
      "self.Q torch.Size([]) tensor(29.7597, grad_fn=<DivBackward0>)\n",
      "q fun ction time 26.548698663711548\n",
      "backward time 67.80637383460999\n",
      "update time 67.8092143535614\n",
      "AU + expectation time 95.75671744346619\n",
      "self.Q torch.Size([]) tensor(29.9528, grad_fn=<DivBackward0>)\n",
      "self.Q torch.Size([]) tensor(29.9735, grad_fn=<DivBackward0>)\n",
      "285.0585844516754 sec\n",
      "self.Q torch.Size([]) tensor(29.9973, grad_fn=<DivBackward0>)\n",
      "self.Q torch.Size([]) tensor(30.0050, grad_fn=<DivBackward0>)\n",
      "q fun ction time 26.364912271499634\n",
      "backward time 76.52973318099976\n",
      "update time 76.53108239173889\n",
      "AU + expectation time 101.38555598258972\n",
      "self.Q torch.Size([]) tensor(30.1779, grad_fn=<DivBackward0>)\n",
      "self.Q torch.Size([]) tensor(30.1945, grad_fn=<DivBackward0>)\n",
      "298.1406397819519 sec\n",
      "self.Q torch.Size([]) tensor(30.2153, grad_fn=<DivBackward0>)\n",
      "self.Q torch.Size([]) tensor(30.2223, grad_fn=<DivBackward0>)\n",
      "q fun ction time 26.786134004592896\n",
      "backward time 66.59738039970398\n",
      "update time 66.59903168678284\n",
      "AU + expectation time 92.33908557891846\n",
      "self.Q torch.Size([]) tensor(30.3782, grad_fn=<DivBackward0>)\n",
      "self.Q torch.Size([]) tensor(30.3915, grad_fn=<DivBackward0>)\n",
      "287.12055683135986 sec\n",
      "the 30 th iter\n",
      "generated\n"
     ]
    },
    {
     "data": {
      "image/png": "[encoded data removed]",
      "text/plain": [
       "<Figure size 432x288 with 1 Axes>"
      ]
     },
     "metadata": {
      "needs_background": "light"
     },
     "output_type": "display_data"
    },
    {
     "name": "stdout",
     "output_type": "stream",
     "text": [
      "real\n"
     ]
    },
    {
     "data": {
      "image/png": "[encoded data removed]",
      "text/plain": [
       "<Figure size 432x288 with 1 Axes>"
      ]
     },
     "metadata": {
      "needs_background": "light"
     },
     "output_type": "display_data"
    },
    {
     "name": "stdout",
     "output_type": "stream",
     "text": [
      "generated\n"
     ]
    },
    {
     "data": {
      "image/png": "[encoded data removed]",
      "text/plain": [
       "<Figure size 432x288 with 1 Axes>"
      ]
     },
     "metadata": {
      "needs_background": "light"
     },
     "output_type": "display_data"
    },
    {
     "name": "stdout",
     "output_type": "stream",
     "text": [
      "real\n"
     ]
    },
    {
     "data": {
      "image/png": "[encoded data removed]",
      "text/plain": [
       "<Figure size 432x288 with 1 Axes>"
      ]
     },
     "metadata": {
      "needs_background": "light"
     },
     "output_type": "display_data"
    },
    {
     "name": "stdout",
     "output_type": "stream",
     "text": [
      "self.Q torch.Size([]) tensor(30.4098, grad_fn=<DivBackward0>)\n",
      "self.Q torch.Size([]) tensor(30.4163, grad_fn=<DivBackward0>)\n",
      "q fun ction time 28.039873838424683\n",
      "backward time 71.80394983291626\n",
      "update time 71.80617070198059\n",
      "AU + expectation time 99.93025064468384\n",
      "self.Q torch.Size([]) tensor(30.5577, grad_fn=<DivBackward0>)\n",
      "self.Q torch.Size([]) tensor(30.5683, grad_fn=<DivBackward0>)\n",
      "304.48533844947815 sec\n",
      "self.Q torch.Size([]) tensor(30.5843, grad_fn=<DivBackward0>)\n",
      "self.Q torch.Size([]) tensor(30.5904, grad_fn=<DivBackward0>)\n",
      "q fun ction time 28.94670009613037\n",
      "backward time 69.02295255661011\n",
      "update time 69.02470970153809\n",
      "AU + expectation time 94.0913987159729\n",
      "self.Q torch.Size([]) tensor(30.7195, grad_fn=<DivBackward0>)\n",
      "self.Q torch.Size([]) tensor(30.7280, grad_fn=<DivBackward0>)\n",
      "278.654159784317 sec\n",
      "self.Q torch.Size([]) tensor(30.7420, grad_fn=<DivBackward0>)\n",
      "self.Q torch.Size([]) tensor(30.7477, grad_fn=<DivBackward0>)\n",
      "q fun ction time 25.691590070724487\n",
      "backward time 67.08604025840759\n",
      "update time 67.08775997161865\n",
      "AU + expectation time 92.90086007118225\n",
      "self.Q torch.Size([]) tensor(30.8663, grad_fn=<DivBackward0>)\n",
      "self.Q torch.Size([]) tensor(30.8731, grad_fn=<DivBackward0>)\n",
      "273.00125002861023 sec\n",
      "self.Q torch.Size([]) tensor(30.8854, grad_fn=<DivBackward0>)\n",
      "self.Q torch.Size([]) tensor(30.8907, grad_fn=<DivBackward0>)\n",
      "q fun ction time 28.880800247192383\n",
      "backward time 68.67391800880432\n",
      "update time 68.67623949050903\n",
      "AU + expectation time 93.50876092910767\n",
      "self.Q torch.Size([]) tensor(31.0003, grad_fn=<DivBackward0>)\n",
      "self.Q torch.Size([]) tensor(31.0057, grad_fn=<DivBackward0>)\n",
      "289.0450665950775 sec\n",
      "self.Q torch.Size([]) tensor(31.0165, grad_fn=<DivBackward0>)\n",
      "self.Q torch.Size([]) tensor(31.0216, grad_fn=<DivBackward0>)\n",
      "q fun ction time 25.532671451568604\n",
      "backward time 63.810590505599976\n",
      "update time 63.81218075752258\n",
      "AU + expectation time 88.98796057701111\n",
      "self.Q torch.Size([]) tensor(31.1233, grad_fn=<DivBackward0>)\n",
      "self.Q torch.Size([]) tensor(31.1276, grad_fn=<DivBackward0>)\n",
      "287.3032081127167 sec\n",
      "self.Q torch.Size([]) tensor(31.1371, grad_fn=<DivBackward0>)\n",
      "self.Q torch.Size([]) tensor(31.1419, grad_fn=<DivBackward0>)\n",
      "q fun ction time 27.13854169845581\n",
      "backward time 66.35495209693909\n",
      "update time 66.3565502166748\n",
      "AU + expectation time 92.98342037200928\n",
      "self.Q torch.Size([]) tensor(31.2369, grad_fn=<DivBackward0>)\n",
      "self.Q torch.Size([]) tensor(31.2403, grad_fn=<DivBackward0>)\n",
      "284.65751457214355 sec\n",
      "self.Q torch.Size([]) tensor(31.2485, grad_fn=<DivBackward0>)\n",
      "self.Q torch.Size([]) tensor(31.2530, grad_fn=<DivBackward0>)\n",
      "q fun ction time 25.311890125274658\n",
      "backward time 65.96922469139099\n",
      "update time 65.97058773040771\n",
      "AU + expectation time 91.17405915260315\n",
      "self.Q torch.Size([]) tensor(31.3420, grad_fn=<DivBackward0>)\n",
      "self.Q torch.Size([]) tensor(31.3447, grad_fn=<DivBackward0>)\n",
      "283.0681097507477 sec\n",
      "self.Q torch.Size([]) tensor(31.3519, grad_fn=<DivBackward0>)\n",
      "self.Q torch.Size([]) tensor(31.3568, grad_fn=<DivBackward0>)\n",
      "q fun ction time 29.542298793792725\n",
      "backward time 71.63114929199219\n",
      "update time 71.63308095932007\n",
      "AU + expectation time 99.52913045883179\n",
      "self.Q torch.Size([]) tensor(31.4406, grad_fn=<DivBackward0>)\n",
      "self.Q torch.Size([]) tensor(31.4427, grad_fn=<DivBackward0>)\n",
      "294.3139865398407 sec\n",
      "self.Q torch.Size([]) tensor(31.4490, grad_fn=<DivBackward0>)\n",
      "self.Q torch.Size([]) tensor(31.4536, grad_fn=<DivBackward0>)\n",
      "q fun ction time 26.445350646972656\n",
      "backward time 61.80749177932739\n",
      "update time 61.80934762954712\n",
      "AU + expectation time 87.9515106678009\n",
      "self.Q torch.Size([]) tensor(31.5328, grad_fn=<DivBackward0>)\n",
      "self.Q torch.Size([]) tensor(31.5344, grad_fn=<DivBackward0>)\n",
      "291.1975724697113 sec\n",
      "self.Q torch.Size([]) tensor(31.5399, grad_fn=<DivBackward0>)\n",
      "self.Q torch.Size([]) tensor(31.5437, grad_fn=<DivBackward0>)\n",
      "q fun ction time 25.163529872894287\n",
      "backward time 69.9354248046875\n",
      "update time 69.93694424629211\n",
      "AU + expectation time 98.92071270942688\n",
      "self.Q torch.Size([]) tensor(31.6187, grad_fn=<DivBackward0>)\n",
      "self.Q torch.Size([]) tensor(31.6200, grad_fn=<DivBackward0>)\n",
      "290.6217656135559 sec\n",
      "self.Q torch.Size([]) tensor(31.6247, grad_fn=<DivBackward0>)\n",
      "self.Q torch.Size([]) tensor(31.6270, grad_fn=<DivBackward0>)\n",
      "q fun ction time 27.36738419532776\n",
      "backward time 71.7361352443695\n",
      "update time 71.74011421203613\n",
      "AU + expectation time 98.40256857872009\n",
      "self.Q torch.Size([]) tensor(31.6984, grad_fn=<DivBackward0>)\n",
      "self.Q torch.Size([]) tensor(30.9154, grad_fn=<DivBackward0>)\n",
      "290.27200293540955 sec\n",
      "self.Q torch.Size([]) tensor(30.9233, grad_fn=<DivBackward0>)\n",
      "self.Q torch.Size([]) tensor(31.0704, grad_fn=<DivBackward0>)\n",
      "q fun ction time 26.74655842781067\n",
      "backward time 65.1611156463623\n",
      "update time 65.16263675689697\n",
      "AU + expectation time 92.88389229774475\n",
      "self.Q torch.Size([]) tensor(31.0929, grad_fn=<DivBackward0>)\n",
      "self.Q torch.Size([]) tensor(31.6033, grad_fn=<DivBackward0>)\n",
      "290.4084620475769 sec\n",
      "self.Q torch.Size([]) tensor(31.6068, grad_fn=<DivBackward0>)\n",
      "self.Q torch.Size([]) tensor(31.6159, grad_fn=<DivBackward0>)\n",
      "q fun ction time 28.307607650756836\n",
      "backward time 76.612802028656\n",
      "update time 76.61419367790222\n",
      "AU + expectation time 102.17536354064941\n",
      "self.Q torch.Size([]) tensor(31.6762, grad_fn=<DivBackward0>)\n",
      "self.Q torch.Size([]) tensor(31.1351, grad_fn=<DivBackward0>)\n",
      "292.7908594608307 sec\n",
      "self.Q torch.Size([]) tensor(31.1401, grad_fn=<DivBackward0>)\n",
      "self.Q torch.Size([]) tensor(31.2380, grad_fn=<DivBackward0>)\n",
      "q fun ction time 27.612675189971924\n",
      "backward time 67.2356116771698\n",
      "update time 67.23736548423767\n",
      "AU + expectation time 93.74464654922485\n",
      "self.Q torch.Size([]) tensor(31.2704, grad_fn=<DivBackward0>)\n",
      "self.Q torch.Size([]) tensor(30.9723, grad_fn=<DivBackward0>)\n",
      "279.6049761772156 sec\n",
      "self.Q torch.Size([]) tensor(30.9769, grad_fn=<DivBackward0>)\n",
      "self.Q torch.Size([]) tensor(31.1265, grad_fn=<DivBackward0>)\n",
      "q fun ction time 27.411956071853638\n",
      "backward time 67.59397888183594\n",
      "update time 67.59541273117065\n",
      "AU + expectation time 93.28783941268921\n",
      "self.Q torch.Size([]) tensor(31.1350, grad_fn=<DivBackward0>)\n",
      "self.Q torch.Size([]) tensor(30.7669, grad_fn=<DivBackward0>)\n",
      "277.5086941719055 sec\n",
      "self.Q torch.Size([]) tensor(30.7719, grad_fn=<DivBackward0>)\n",
      "self.Q torch.Size([]) tensor(30.9097, grad_fn=<DivBackward0>)\n",
      "q fun ction time 27.27590250968933\n",
      "backward time 65.58708810806274\n",
      "update time 65.58891320228577\n",
      "AU + expectation time 93.02351927757263\n",
      "self.Q torch.Size([]) tensor(30.9197, grad_fn=<DivBackward0>)\n",
      "self.Q torch.Size([]) tensor(31.1050, grad_fn=<DivBackward0>)\n",
      "290.84684586524963 sec\n",
      "self.Q torch.Size([]) tensor(31.1079, grad_fn=<DivBackward0>)\n",
      "self.Q torch.Size([]) tensor(31.1797, grad_fn=<DivBackward0>)\n",
      "q fun ction time 25.69305968284607\n",
      "backward time 70.15524506568909\n",
      "update time 70.15746641159058\n",
      "AU + expectation time 94.71632623672485\n",
      "self.Q torch.Size([]) tensor(31.2100, grad_fn=<DivBackward0>)\n",
      "self.Q torch.Size([]) tensor(31.2128, grad_fn=<DivBackward0>)\n",
      "292.73603105545044 sec\n",
      "self.Q torch.Size([]) tensor(31.2153, grad_fn=<DivBackward0>)\n",
      "self.Q torch.Size([]) tensor(31.2591, grad_fn=<DivBackward0>)\n",
      "q fun ction time 26.30611801147461\n",
      "backward time 69.97541904449463\n",
      "update time 69.97695326805115\n",
      "AU + expectation time 98.66991710662842\n",
      "self.Q torch.Size([]) tensor(31.3045, grad_fn=<DivBackward0>)\n",
      "self.Q torch.Size([]) tensor(30.9509, grad_fn=<DivBackward0>)\n",
      "289.5577030181885 sec\n",
      "self.Q torch.Size([]) tensor(30.9541, grad_fn=<DivBackward0>)\n",
      "self.Q torch.Size([]) tensor(31.0457, grad_fn=<DivBackward0>)\n",
      "q fun ction time 25.444809675216675\n",
      "backward time 63.875048875808716\n",
      "update time 63.87681865692139\n",
      "AU + expectation time 91.35457062721252\n",
      "self.Q torch.Size([]) tensor(31.0855, grad_fn=<DivBackward0>)\n",
      "self.Q torch.Size([]) tensor(31.2675, grad_fn=<DivBackward0>)\n",
      "288.32868814468384 sec\n",
      "self.Q torch.Size([]) tensor(31.2695, grad_fn=<DivBackward0>)\n",
      "self.Q torch.Size([]) tensor(31.3096, grad_fn=<DivBackward0>)\n",
      "q fun ction time 27.03531575202942\n",
      "backward time 65.895343542099\n",
      "update time 65.89697575569153\n",
      "AU + expectation time 93.94886040687561\n",
      "self.Q torch.Size([]) tensor(31.3652, grad_fn=<DivBackward0>)\n",
      "self.Q torch.Size([]) tensor(31.3668, grad_fn=<DivBackward0>)\n",
      "282.25074458122253 sec\n",
      "self.Q torch.Size([]) tensor(31.3684, grad_fn=<DivBackward0>)\n"
     ]
    },
    {
     "name": "stdout",
     "output_type": "stream",
     "text": [
      "self.Q torch.Size([]) tensor(31.3931, grad_fn=<DivBackward0>)\n",
      "q fun ction time 24.96195650100708\n",
      "backward time 63.34135961532593\n",
      "update time 63.34275221824646\n",
      "AU + expectation time 93.54333353042603\n",
      "self.Q torch.Size([]) tensor(31.4556, grad_fn=<DivBackward0>)\n",
      "self.Q torch.Size([]) tensor(31.4565, grad_fn=<DivBackward0>)\n",
      "286.1810185909271 sec\n",
      "self.Q torch.Size([]) tensor(31.4579, grad_fn=<DivBackward0>)\n",
      "self.Q torch.Size([]) tensor(31.4752, grad_fn=<DivBackward0>)\n",
      "q fun ction time 25.512636423110962\n",
      "backward time 68.71803903579712\n",
      "update time 68.72059607505798\n",
      "AU + expectation time 98.56303262710571\n",
      "self.Q torch.Size([]) tensor(31.5410, grad_fn=<DivBackward0>)\n",
      "self.Q torch.Size([]) tensor(31.1775, grad_fn=<DivBackward0>)\n",
      "299.9334440231323 sec\n",
      "self.Q torch.Size([]) tensor(31.1799, grad_fn=<DivBackward0>)\n",
      "self.Q torch.Size([]) tensor(31.2621, grad_fn=<DivBackward0>)\n",
      "q fun ction time 27.354483127593994\n",
      "backward time 65.93095827102661\n",
      "update time 65.93295574188232\n",
      "AU + expectation time 92.18526005744934\n",
      "self.Q torch.Size([]) tensor(31.3131, grad_fn=<DivBackward0>)\n",
      "self.Q torch.Size([]) tensor(31.5103, grad_fn=<DivBackward0>)\n",
      "283.05845952033997 sec\n",
      "self.Q torch.Size([]) tensor(31.5112, grad_fn=<DivBackward0>)\n",
      "self.Q torch.Size([]) tensor(31.5341, grad_fn=<DivBackward0>)\n",
      "q fun ction time 27.77792191505432\n",
      "backward time 64.2403974533081\n",
      "update time 64.24210119247437\n",
      "AU + expectation time 90.47175335884094\n",
      "self.Q torch.Size([]) tensor(31.5998, grad_fn=<DivBackward0>)\n",
      "self.Q torch.Size([]) tensor(31.6010, grad_fn=<DivBackward0>)\n",
      "277.78318762779236 sec\n",
      "self.Q torch.Size([]) tensor(31.6017, grad_fn=<DivBackward0>)\n",
      "self.Q torch.Size([]) tensor(31.6176, grad_fn=<DivBackward0>)\n",
      "q fun ction time 25.7630774974823\n",
      "backward time 67.02688217163086\n",
      "update time 67.02852892875671\n",
      "AU + expectation time 93.32364964485168\n",
      "self.Q torch.Size([]) tensor(31.6859, grad_fn=<DivBackward0>)\n",
      "self.Q torch.Size([]) tensor(31.6865, grad_fn=<DivBackward0>)\n",
      "301.8839693069458 sec\n",
      "self.Q torch.Size([]) tensor(31.6871, grad_fn=<DivBackward0>)\n",
      "self.Q torch.Size([]) tensor(31.6980, grad_fn=<DivBackward0>)\n",
      "q fun ction time 27.966697931289673\n",
      "backward time 68.57867455482483\n",
      "update time 68.58044672012329\n",
      "AU + expectation time 96.26390671730042\n",
      "self.Q torch.Size([]) tensor(31.7666, grad_fn=<DivBackward0>)\n",
      "self.Q torch.Size([]) tensor(31.7669, grad_fn=<DivBackward0>)\n",
      "291.25009202957153 sec\n",
      "self.Q torch.Size([]) tensor(31.7673, grad_fn=<DivBackward0>)\n",
      "self.Q torch.Size([]) tensor(31.7718, grad_fn=<DivBackward0>)\n",
      "q fun ction time 26.255516529083252\n",
      "backward time 64.2540237903595\n",
      "update time 64.25620245933533\n",
      "AU + expectation time 89.89940977096558\n",
      "self.Q torch.Size([]) tensor(31.0123, grad_fn=<DivBackward0>)\n",
      "self.Q torch.Size([]) tensor(31.0168, grad_fn=<DivBackward0>)\n",
      "280.83676314353943 sec\n",
      "self.Q torch.Size([]) tensor(31.0222, grad_fn=<DivBackward0>)\n",
      "self.Q torch.Size([]) tensor(31.1944, grad_fn=<DivBackward0>)\n",
      "q fun ction time 26.230321645736694\n",
      "backward time 66.44942879676819\n",
      "update time 66.45110654830933\n",
      "AU + expectation time 93.73890089988708\n",
      "self.Q torch.Size([]) tensor(31.7238, grad_fn=<DivBackward0>)\n",
      "self.Q torch.Size([]) tensor(31.7242, grad_fn=<DivBackward0>)\n",
      "280.3377585411072 sec\n",
      "self.Q torch.Size([]) tensor(31.7249, grad_fn=<DivBackward0>)\n",
      "self.Q torch.Size([]) tensor(31.7450, grad_fn=<DivBackward0>)\n",
      "q fun ction time 26.852669954299927\n",
      "backward time 69.85880184173584\n",
      "update time 69.86311554908752\n",
      "AU + expectation time 99.37411665916443\n",
      "self.Q torch.Size([]) tensor(31.7980, grad_fn=<DivBackward0>)\n",
      "self.Q torch.Size([]) tensor(31.7982, grad_fn=<DivBackward0>)\n",
      "286.4531342983246 sec\n",
      "self.Q torch.Size([]) tensor(31.7985, grad_fn=<DivBackward0>)\n",
      "self.Q torch.Size([]) tensor(31.8182, grad_fn=<DivBackward0>)\n",
      "q fun ction time 26.460074186325073\n",
      "backward time 64.58913159370422\n",
      "update time 64.59048438072205\n",
      "AU + expectation time 90.3988425731659\n",
      "self.Q torch.Size([]) tensor(31.2125, grad_fn=<DivBackward0>)\n",
      "self.Q torch.Size([]) tensor(31.2154, grad_fn=<DivBackward0>)\n",
      "276.0873992443085 sec\n",
      "the 60 th iter\n",
      "generated\n"
     ]
    },
    {
     "data": {
      "image/png": "[encoded data removed]",
      "text/plain": [
       "<Figure size 432x288 with 1 Axes>"
      ]
     },
     "metadata": {
      "needs_background": "light"
     },
     "output_type": "display_data"
    },
    {
     "name": "stdout",
     "output_type": "stream",
     "text": [
      "real\n"
     ]
    },
    {
     "data": {
      "image/png": "[encoded data removed]",
      "text/plain": [
       "<Figure size 432x288 with 1 Axes>"
      ]
     },
     "metadata": {
      "needs_background": "light"
     },
     "output_type": "display_data"
    },
    {
     "name": "stdout",
     "output_type": "stream",
     "text": [
      "generated\n"
     ]
    },
    {
     "data": {
      "image/png": "[encoded data removed]",
      "text/plain": [
       "<Figure size 432x288 with 1 Axes>"
      ]
     },
     "metadata": {
      "needs_background": "light"
     },
     "output_type": "display_data"
    },
    {
     "name": "stdout",
     "output_type": "stream",
     "text": [
      "real\n"
     ]
    },
    {
     "data": {
      "image/png": "[encoded data removed]",
      "text/plain": [
       "<Figure size 432x288 with 1 Axes>"
      ]
     },
     "metadata": {
      "needs_background": "light"
     },
     "output_type": "display_data"
    },
    {
     "name": "stdout",
     "output_type": "stream",
     "text": [
      "self.Q torch.Size([]) tensor(31.2190, grad_fn=<DivBackward0>)\n",
      "self.Q torch.Size([]) tensor(31.3382, grad_fn=<DivBackward0>)\n",
      "q fun ction time 27.004632234573364\n",
      "backward time 68.9227933883667\n",
      "update time 68.92435669898987\n",
      "AU + expectation time 96.87118077278137\n",
      "self.Q torch.Size([]) tensor(31.2027, grad_fn=<DivBackward0>)\n",
      "self.Q torch.Size([]) tensor(31.2046, grad_fn=<DivBackward0>)\n",
      "290.6573791503906 sec\n",
      "self.Q torch.Size([]) tensor(31.2058, grad_fn=<DivBackward0>)\n",
      "self.Q torch.Size([]) tensor(31.3404, grad_fn=<DivBackward0>)\n",
      "q fun ction time 26.473254680633545\n",
      "backward time 69.22900795936584\n",
      "update time 69.2314293384552\n",
      "AU + expectation time 96.11210036277771\n",
      "self.Q torch.Size([]) tensor(31.3248, grad_fn=<DivBackward0>)\n",
      "self.Q torch.Size([]) tensor(31.3253, grad_fn=<DivBackward0>)\n",
      "294.7526149749756 sec\n",
      "self.Q torch.Size([]) tensor(31.3286, grad_fn=<DivBackward0>)\n",
      "self.Q torch.Size([]) tensor(31.4142, grad_fn=<DivBackward0>)\n",
      "q fun ction time 28.196837902069092\n",
      "backward time 67.22133803367615\n",
      "update time 67.22273111343384\n",
      "AU + expectation time 92.55621862411499\n",
      "self.Q torch.Size([]) tensor(31.2543, grad_fn=<DivBackward0>)\n",
      "self.Q torch.Size([]) tensor(30.8685, grad_fn=<DivBackward0>)\n",
      "282.4029483795166 sec\n",
      "self.Q torch.Size([]) tensor(30.8697, grad_fn=<DivBackward0>)\n",
      "self.Q torch.Size([]) tensor(31.0551, grad_fn=<DivBackward0>)\n",
      "q fun ction time 27.488643646240234\n",
      "backward time 66.579270362854\n",
      "update time 66.5810329914093\n",
      "AU + expectation time 95.28609800338745\n",
      "self.Q torch.Size([]) tensor(31.0701, grad_fn=<DivBackward0>)\n",
      "self.Q torch.Size([]) tensor(31.2175, grad_fn=<DivBackward0>)\n",
      "281.01486706733704 sec\n",
      "self.Q torch.Size([]) tensor(31.2180, grad_fn=<DivBackward0>)\n",
      "self.Q torch.Size([]) tensor(31.3028, grad_fn=<DivBackward0>)\n",
      "q fun ction time 26.76424765586853\n",
      "backward time 65.9742112159729\n",
      "update time 65.9759910106659\n",
      "AU + expectation time 91.31408977508545\n",
      "self.Q torch.Size([]) tensor(31.1970, grad_fn=<DivBackward0>)\n",
      "self.Q torch.Size([]) tensor(31.1979, grad_fn=<DivBackward0>)\n",
      "276.38816118240356 sec\n",
      "self.Q torch.Size([]) tensor(31.2000, grad_fn=<DivBackward0>)\n",
      "self.Q torch.Size([]) tensor(31.2950, grad_fn=<DivBackward0>)\n",
      "q fun ction time 26.644295930862427\n",
      "backward time 67.66949987411499\n",
      "update time 67.67110133171082\n",
      "AU + expectation time 94.99999022483826\n",
      "self.Q torch.Size([]) tensor(31.2453, grad_fn=<DivBackward0>)\n",
      "self.Q torch.Size([]) tensor(30.9649, grad_fn=<DivBackward0>)\n",
      "285.5298686027527 sec\n",
      "self.Q torch.Size([]) tensor(30.9649, grad_fn=<DivBackward0>)\n",
      "self.Q torch.Size([]) tensor(31.0897, grad_fn=<DivBackward0>)\n",
      "q fun ction time 26.85534977912903\n",
      "backward time 69.48443698883057\n",
      "update time 69.49222922325134\n",
      "AU + expectation time 95.49101662635803\n",
      "self.Q torch.Size([]) tensor(30.7860, grad_fn=<DivBackward0>)\n",
      "self.Q torch.Size([]) tensor(30.7923, grad_fn=<DivBackward0>)\n",
      "284.67480659484863 sec\n",
      "self.Q torch.Size([]) tensor(30.7935, grad_fn=<DivBackward0>)\n",
      "self.Q torch.Size([]) tensor(30.9462, grad_fn=<DivBackward0>)\n",
      "q fun ction time 28.460225582122803\n",
      "backward time 65.55623292922974\n",
      "update time 65.55758905410767\n",
      "AU + expectation time 90.57407736778259\n",
      "self.Q torch.Size([]) tensor(30.9580, grad_fn=<DivBackward0>)\n",
      "self.Q torch.Size([]) tensor(30.9609, grad_fn=<DivBackward0>)\n",
      "282.17110538482666 sec\n",
      "self.Q torch.Size([]) tensor(30.9612, grad_fn=<DivBackward0>)\n",
      "self.Q torch.Size([]) tensor(31.0433, grad_fn=<DivBackward0>)\n",
      "q fun ction time 28.03883194923401\n",
      "backward time 66.63623404502869\n",
      "update time 66.63769149780273\n",
      "AU + expectation time 93.88925814628601\n",
      "self.Q torch.Size([]) tensor(31.0677, grad_fn=<DivBackward0>)\n",
      "self.Q torch.Size([]) tensor(31.0695, grad_fn=<DivBackward0>)\n",
      "308.9893867969513 sec\n",
      "self.Q torch.Size([]) tensor(31.0694, grad_fn=<DivBackward0>)\n",
      "self.Q torch.Size([]) tensor(31.1213, grad_fn=<DivBackward0>)\n",
      "q fun ction time 25.47526741027832\n",
      "backward time 64.39756488800049\n",
      "update time 64.40023255348206\n",
      "AU + expectation time 90.3590087890625\n",
      "self.Q torch.Size([]) tensor(31.1567, grad_fn=<DivBackward0>)\n",
      "self.Q torch.Size([]) tensor(31.1581, grad_fn=<DivBackward0>)\n",
      "279.8659858703613 sec\n",
      "self.Q torch.Size([]) tensor(31.1578, grad_fn=<DivBackward0>)\n",
      "self.Q torch.Size([]) tensor(31.1939, grad_fn=<DivBackward0>)\n",
      "q fun ction time 26.136375904083252\n",
      "backward time 64.64526772499084\n",
      "update time 64.64663410186768\n",
      "AU + expectation time 91.27910089492798\n",
      "self.Q torch.Size([]) tensor(31.2368, grad_fn=<DivBackward0>)\n",
      "self.Q torch.Size([]) tensor(31.2379, grad_fn=<DivBackward0>)\n",
      "275.0199191570282 sec\n",
      "self.Q torch.Size([]) tensor(31.2376, grad_fn=<DivBackward0>)\n",
      "self.Q torch.Size([]) tensor(31.2647, grad_fn=<DivBackward0>)\n",
      "q fun ction time 28.100630044937134\n",
      "backward time 70.6707124710083\n",
      "update time 70.67210173606873\n",
      "AU + expectation time 96.33132410049438\n",
      "self.Q torch.Size([]) tensor(31.3123, grad_fn=<DivBackward0>)\n",
      "self.Q torch.Size([]) tensor(31.3133, grad_fn=<DivBackward0>)\n",
      "279.2900059223175 sec\n",
      "self.Q torch.Size([]) tensor(31.3129, grad_fn=<DivBackward0>)\n",
      "self.Q torch.Size([]) tensor(31.3335, grad_fn=<DivBackward0>)\n",
      "q fun ction time 27.61524724960327\n",
      "backward time 66.82839059829712\n",
      "update time 66.83300447463989\n",
      "AU + expectation time 93.27549242973328\n",
      "self.Q torch.Size([]) tensor(31.3840, grad_fn=<DivBackward0>)\n",
      "self.Q torch.Size([]) tensor(31.3848, grad_fn=<DivBackward0>)\n",
      "278.6159837245941 sec\n",
      "self.Q torch.Size([]) tensor(31.3845, grad_fn=<DivBackward0>)\n",
      "self.Q torch.Size([]) tensor(31.4012, grad_fn=<DivBackward0>)\n",
      "q fun ction time 28.437491178512573\n",
      "backward time 69.16304397583008\n",
      "update time 69.16631364822388\n",
      "AU + expectation time 93.81094169616699\n",
      "self.Q torch.Size([]) tensor(31.4534, grad_fn=<DivBackward0>)\n",
      "self.Q torch.Size([]) tensor(31.4541, grad_fn=<DivBackward0>)\n",
      "277.8070695400238 sec\n",
      "self.Q torch.Size([]) tensor(31.4537, grad_fn=<DivBackward0>)\n",
      "self.Q torch.Size([]) tensor(31.4699, grad_fn=<DivBackward0>)\n",
      "q fun ction time 26.545090198516846\n",
      "backward time 64.87713813781738\n",
      "update time 64.8786883354187\n",
      "AU + expectation time 90.5178873538971\n",
      "self.Q torch.Size([]) tensor(31.5229, grad_fn=<DivBackward0>)\n",
      "self.Q torch.Size([]) tensor(31.5236, grad_fn=<DivBackward0>)\n",
      "275.6703083515167 sec\n",
      "self.Q torch.Size([]) tensor(31.5232, grad_fn=<DivBackward0>)\n",
      "self.Q torch.Size([]) tensor(31.5323, grad_fn=<DivBackward0>)\n",
      "q fun ction time 28.006083011627197\n",
      "backward time 71.75353193283081\n",
      "update time 71.75496029853821\n",
      "AU + expectation time 99.3668885231018\n",
      "self.Q torch.Size([]) tensor(31.5857, grad_fn=<DivBackward0>)\n",
      "self.Q torch.Size([]) tensor(31.5863, grad_fn=<DivBackward0>)\n",
      "289.079464673996 sec\n",
      "self.Q torch.Size([]) tensor(31.5860, grad_fn=<DivBackward0>)\n",
      "self.Q torch.Size([]) tensor(31.5984, grad_fn=<DivBackward0>)\n",
      "q fun ction time 28.099003076553345\n",
      "backward time 71.23280787467957\n",
      "update time 71.23430824279785\n",
      "AU + expectation time 98.24143600463867\n",
      "self.Q torch.Size([]) tensor(31.6518, grad_fn=<DivBackward0>)\n",
      "self.Q torch.Size([]) tensor(31.6523, grad_fn=<DivBackward0>)\n",
      "291.1829602718353 sec\n",
      "self.Q torch.Size([]) tensor(31.6521, grad_fn=<DivBackward0>)\n",
      "self.Q torch.Size([]) tensor(31.6569, grad_fn=<DivBackward0>)\n",
      "q fun ction time 25.52548599243164\n",
      "backward time 65.01645874977112\n",
      "update time 65.01784491539001\n",
      "AU + expectation time 91.66914963722229\n",
      "self.Q torch.Size([]) tensor(31.7101, grad_fn=<DivBackward0>)\n",
      "self.Q torch.Size([]) tensor(31.7106, grad_fn=<DivBackward0>)\n",
      "277.1612751483917 sec\n",
      "self.Q torch.Size([]) tensor(31.2309, grad_fn=<DivBackward0>)\n",
      "self.Q torch.Size([]) tensor(31.3287, grad_fn=<DivBackward0>)\n",
      "q fun ction time 26.867658853530884\n",
      "backward time 65.49076628684998\n",
      "update time 65.49233102798462\n",
      "AU + expectation time 92.88788199424744\n",
      "self.Q torch.Size([]) tensor(31.3389, grad_fn=<DivBackward0>)\n",
      "self.Q torch.Size([]) tensor(31.3396, grad_fn=<DivBackward0>)\n",
      "291.0253188610077 sec\n",
      "self.Q torch.Size([]) tensor(31.3557, grad_fn=<DivBackward0>)\n",
      "self.Q torch.Size([]) tensor(31.4159, grad_fn=<DivBackward0>)\n",
      "q fun ction time 27.808179140090942\n",
      "backward time 66.1724374294281\n",
      "update time 66.17425608634949\n",
      "AU + expectation time 93.58142018318176\n",
      "self.Q torch.Size([]) tensor(31.4267, grad_fn=<DivBackward0>)\n",
      "self.Q torch.Size([]) tensor(31.4271, grad_fn=<DivBackward0>)\n",
      "286.960985660553 sec\n",
      "self.Q torch.Size([]) tensor(31.4346, grad_fn=<DivBackward0>)\n"
     ]
    },
    {
     "name": "stdout",
     "output_type": "stream",
     "text": [
      "self.Q torch.Size([]) tensor(31.4701, grad_fn=<DivBackward0>)\n",
      "q fun ction time 26.354208946228027\n",
      "backward time 67.1106128692627\n",
      "update time 67.11201810836792\n",
      "AU + expectation time 92.05146884918213\n",
      "self.Q torch.Size([]) tensor(31.4888, grad_fn=<DivBackward0>)\n",
      "self.Q torch.Size([]) tensor(31.4891, grad_fn=<DivBackward0>)\n",
      "284.97047686576843 sec\n",
      "self.Q torch.Size([]) tensor(31.4925, grad_fn=<DivBackward0>)\n",
      "self.Q torch.Size([]) tensor(31.5197, grad_fn=<DivBackward0>)\n",
      "q fun ction time 27.961114406585693\n",
      "backward time 68.21915245056152\n",
      "update time 68.2209587097168\n",
      "AU + expectation time 94.36027717590332\n",
      "self.Q torch.Size([]) tensor(31.2701, grad_fn=<DivBackward0>)\n",
      "self.Q torch.Size([]) tensor(31.2709, grad_fn=<DivBackward0>)\n",
      "272.80043721199036 sec\n",
      "self.Q torch.Size([]) tensor(31.2727, grad_fn=<DivBackward0>)\n",
      "self.Q torch.Size([]) tensor(31.3428, grad_fn=<DivBackward0>)\n",
      "q fun ction time 25.680213689804077\n",
      "backward time 64.45017385482788\n",
      "update time 64.45165276527405\n",
      "AU + expectation time 91.48834037780762\n",
      "self.Q torch.Size([]) tensor(31.3644, grad_fn=<DivBackward0>)\n",
      "self.Q torch.Size([]) tensor(31.3651, grad_fn=<DivBackward0>)\n",
      "285.93919825553894 sec\n",
      "self.Q torch.Size([]) tensor(31.3657, grad_fn=<DivBackward0>)\n",
      "self.Q torch.Size([]) tensor(31.4103, grad_fn=<DivBackward0>)\n",
      "q fun ction time 26.46607208251953\n",
      "backward time 66.90676999092102\n",
      "update time 66.91123628616333\n",
      "AU + expectation time 96.95670294761658\n",
      "self.Q torch.Size([]) tensor(31.4436, grad_fn=<DivBackward0>)\n",
      "self.Q torch.Size([]) tensor(31.4441, grad_fn=<DivBackward0>)\n",
      "293.21553111076355 sec\n",
      "self.Q torch.Size([]) tensor(31.4443, grad_fn=<DivBackward0>)\n",
      "self.Q torch.Size([]) tensor(31.4728, grad_fn=<DivBackward0>)\n",
      "q fun ction time 27.212856769561768\n",
      "backward time 68.34137845039368\n",
      "update time 68.34953308105469\n",
      "AU + expectation time 96.32582020759583\n",
      "self.Q torch.Size([]) tensor(31.5134, grad_fn=<DivBackward0>)\n",
      "self.Q torch.Size([]) tensor(31.5139, grad_fn=<DivBackward0>)\n",
      "288.2666938304901 sec\n",
      "self.Q torch.Size([]) tensor(31.5138, grad_fn=<DivBackward0>)\n",
      "self.Q torch.Size([]) tensor(31.5335, grad_fn=<DivBackward0>)\n",
      "q fun ction time 25.960982084274292\n",
      "backward time 67.67723321914673\n",
      "update time 67.67891073226929\n",
      "AU + expectation time 92.78607773780823\n",
      "self.Q torch.Size([]) tensor(31.5784, grad_fn=<DivBackward0>)\n",
      "self.Q torch.Size([]) tensor(31.5788, grad_fn=<DivBackward0>)\n",
      "287.46864652633667 sec\n",
      "self.Q torch.Size([]) tensor(31.5787, grad_fn=<DivBackward0>)\n",
      "self.Q torch.Size([]) tensor(31.5944, grad_fn=<DivBackward0>)\n",
      "q fun ction time 28.979676246643066\n",
      "backward time 71.43251609802246\n",
      "update time 71.43395781517029\n",
      "AU + expectation time 97.46885395050049\n",
      "self.Q torch.Size([]) tensor(31.6420, grad_fn=<DivBackward0>)\n",
      "self.Q torch.Size([]) tensor(31.6423, grad_fn=<DivBackward0>)\n",
      "283.6018726825714 sec\n",
      "self.Q torch.Size([]) tensor(31.6422, grad_fn=<DivBackward0>)\n",
      "self.Q torch.Size([]) tensor(31.6647, grad_fn=<DivBackward0>)\n",
      "q fun ction time 28.165771961212158\n",
      "backward time 68.003826379776\n",
      "update time 68.00884461402893\n",
      "AU + expectation time 94.69412088394165\n",
      "self.Q torch.Size([]) tensor(31.7138, grad_fn=<DivBackward0>)\n",
      "self.Q torch.Size([]) tensor(31.7142, grad_fn=<DivBackward0>)\n",
      "276.5882978439331 sec\n",
      "self.Q torch.Size([]) tensor(31.7140, grad_fn=<DivBackward0>)\n",
      "self.Q torch.Size([]) tensor(31.7166, grad_fn=<DivBackward0>)\n",
      "q fun ction time 27.056022882461548\n",
      "backward time 72.04310035705566\n",
      "update time 72.04531812667847\n",
      "AU + expectation time 100.35656929016113\n",
      "self.Q torch.Size([]) tensor(31.7666, grad_fn=<DivBackward0>)\n",
      "self.Q torch.Size([]) tensor(31.7669, grad_fn=<DivBackward0>)\n",
      "288.0867118835449 sec\n",
      "self.Q torch.Size([]) tensor(31.7668, grad_fn=<DivBackward0>)\n",
      "self.Q torch.Size([]) tensor(31.7803, grad_fn=<DivBackward0>)\n",
      "q fun ction time 25.886160850524902\n",
      "backward time 65.14082789421082\n",
      "update time 65.14236354827881\n",
      "AU + expectation time 91.40912532806396\n",
      "self.Q torch.Size([]) tensor(31.8309, grad_fn=<DivBackward0>)\n",
      "self.Q torch.Size([]) tensor(31.8312, grad_fn=<DivBackward0>)\n",
      "281.25209307670593 sec\n",
      "the 90 th iter\n",
      "generated\n"
     ]
    },
    {
     "data": {
      "image/png": "[encoded data removed]",
      "text/plain": [
       "<Figure size 432x288 with 1 Axes>"
      ]
     },
     "metadata": {
      "needs_background": "light"
     },
     "output_type": "display_data"
    },
    {
     "name": "stdout",
     "output_type": "stream",
     "text": [
      "real\n"
     ]
    },
    {
     "data": {
      "image/png": "[encoded data removed]",
      "text/plain": [
       "<Figure size 432x288 with 1 Axes>"
      ]
     },
     "metadata": {
      "needs_background": "light"
     },
     "output_type": "display_data"
    },
    {
     "name": "stdout",
     "output_type": "stream",
     "text": [
      "generated\n"
     ]
    },
    {
     "data": {
      "image/png": "[encoded data removed]",
      "text/plain": [
       "<Figure size 432x288 with 1 Axes>"
      ]
     },
     "metadata": {
      "needs_background": "light"
     },
     "output_type": "display_data"
    },
    {
     "name": "stdout",
     "output_type": "stream",
     "text": [
      "real\n"
     ]
    },
    {
     "data": {
      "image/png": "[encoded data removed]",
      "text/plain": [
       "<Figure size 432x288 with 1 Axes>"
      ]
     },
     "metadata": {
      "needs_background": "light"
     },
     "output_type": "display_data"
    },
    {
     "name": "stdout",
     "output_type": "stream",
     "text": [
      "self.Q torch.Size([]) tensor(31.8311, grad_fn=<DivBackward0>)\n",
      "self.Q torch.Size([]) tensor(31.8273, grad_fn=<DivBackward0>)\n",
      "q fun ction time 25.879768133163452\n",
      "backward time 66.58936643600464\n",
      "update time 66.59142112731934\n",
      "AU + expectation time 91.07601428031921\n",
      "self.Q torch.Size([]) tensor(31.8780, grad_fn=<DivBackward0>)\n",
      "self.Q torch.Size([]) tensor(31.8783, grad_fn=<DivBackward0>)\n",
      "275.8975133895874 sec\n",
      "self.Q torch.Size([]) tensor(31.8782, grad_fn=<DivBackward0>)\n",
      "self.Q torch.Size([]) tensor(31.8872, grad_fn=<DivBackward0>)\n",
      "q fun ction time 26.404678344726562\n",
      "backward time 64.3679461479187\n",
      "update time 64.37029957771301\n",
      "AU + expectation time 91.12256836891174\n",
      "self.Q torch.Size([]) tensor(31.9380, grad_fn=<DivBackward0>)\n"
     ]
    },
    {
     "ename": "KeyboardInterrupt",
     "evalue": "",
     "output_type": "error",
     "traceback": [
      "\u001b[0;31m---------------------------------------------------------------------------\u001b[0m",
      "\u001b[0;31mKeyboardInterrupt\u001b[0m                         Traceback (most recent call last)",
      "\u001b[0;32m<ipython-input-21-4499a3740408>\u001b[0m in \u001b[0;36m<module>\u001b[0;34m\u001b[0m\n\u001b[1;32m      7\u001b[0m \u001b[0mop\u001b[0m \u001b[0;34m=\u001b[0m \u001b[0mts\u001b[0m\u001b[0;34m.\u001b[0m\u001b[0moperator\u001b[0m\u001b[0;34m(\u001b[0m\u001b[0mvg\u001b[0m\u001b[0;34m,\u001b[0m \u001b[0mpg\u001b[0m\u001b[0;34m)\u001b[0m\u001b[0;34m\u001b[0m\u001b[0;34m\u001b[0m\u001b[0m\n\u001b[1;32m      8\u001b[0m \u001b[0mMP3\u001b[0m \u001b[0;34m=\u001b[0m \u001b[0mMPCA_3d_recon\u001b[0m\u001b[0;34m(\u001b[0m\u001b[0mProjSize\u001b[0m\u001b[0;34m,\u001b[0m \u001b[0mnum_image\u001b[0m\u001b[0;34m,\u001b[0m \u001b[0mn_component\u001b[0m\u001b[0;34m,\u001b[0m \u001b[0mop\u001b[0m \u001b[0;34m,\u001b[0m \u001b[0mImages\u001b[0m\u001b[0;34m)\u001b[0m\u001b[0;34m\u001b[0m\u001b[0;34m\u001b[0m\u001b[0m\n\u001b[0;32m----> 9\u001b[0;31m \u001b[0mMP3\u001b[0m\u001b[0;34m.\u001b[0m\u001b[0mfit\u001b[0m\u001b[0;34m(\u001b[0m\u001b[0mstart_ratio\u001b[0m \u001b[0;34m=\u001b[0m \u001b[0;36m0.1\u001b[0m\u001b[0;34m)\u001b[0m\u001b[0;34m\u001b[0m\u001b[0;34m\u001b[0m\u001b[0m\n\u001b[0m\u001b[1;32m     10\u001b[0m \"\"\"\n\u001b[1;32m     11\u001b[0m \u001b[0mMP3\u001b[0m\u001b[0;34m.\u001b[0m\u001b[0mA_pro_All_U\u001b[0m\u001b[0;34m(\u001b[0m\u001b[0;34m)\u001b[0m\u001b[0;34m\u001b[0m\u001b[0;34m\u001b[0m\u001b[0m\n",
      "\u001b[0;32m<ipython-input-20-444c393fad6a>\u001b[0m in \u001b[0;36mfit\u001b[0;34m(self, start_ratio)\u001b[0m\n\u001b[1;32m    296\u001b[0m             \u001b[0mself\u001b[0m\u001b[0;34m.\u001b[0m\u001b[0mExpectation\u001b[0m\u001b[0;34m(\u001b[0m\u001b[0;34m)\u001b[0m\u001b[0;34m\u001b[0m\u001b[0;34m\u001b[0m\u001b[0m\n\u001b[1;32m    297\u001b[0m             \u001b[0mself\u001b[0m\u001b[0;34m.\u001b[0m\u001b[0mQ_Function\u001b[0m\u001b[0;34m(\u001b[0m\u001b[0;34m)\u001b[0m\u001b[0;34m\u001b[0m\u001b[0;34m\u001b[0m\u001b[0m\n\u001b[0;32m--> 298\u001b[0;31m             \u001b[0mself\u001b[0m\u001b[0;34m.\u001b[0m\u001b[0mMaximization\u001b[0m\u001b[0;34m(\u001b[0m\u001b[0mratio\u001b[0m\u001b[0;34m)\u001b[0m\u001b[0;34m\u001b[0m\u001b[0;34m\u001b[0m\u001b[0m\n\u001b[0m\u001b[1;32m    299\u001b[0m             \u001b[0;32mif\u001b[0m \u001b[0mi\u001b[0m \u001b[0;34m%\u001b[0m \u001b[0;36m100\u001b[0m \u001b[0;34m==\u001b[0m \u001b[0;36m99\u001b[0m\u001b[0;34m:\u001b[0m\u001b[0;34m\u001b[0m\u001b[0;34m\u001b[0m\u001b[0m\n\u001b[1;32m    300\u001b[0m                 \u001b[0mratio\u001b[0m \u001b[0;34m=\u001b[0m \u001b[0mratio\u001b[0m \u001b[0;34m/\u001b[0m\u001b[0;36m5\u001b[0m\u001b[0;34m\u001b[0m\u001b[0;34m\u001b[0m\u001b[0m\n",
      "\u001b[0;32m<ipython-input-20-444c393fad6a>\u001b[0m in \u001b[0;36mMaximization\u001b[0;34m(self, ratio)\u001b[0m\n\u001b[1;32m    202\u001b[0m \u001b[0;34m\u001b[0m\u001b[0m\n\u001b[1;32m    203\u001b[0m         \u001b[0mself\u001b[0m\u001b[0;34m.\u001b[0m\u001b[0mQ_Function\u001b[0m\u001b[0;34m(\u001b[0m\u001b[0;34m)\u001b[0m\u001b[0;34m\u001b[0m\u001b[0;34m\u001b[0m\u001b[0m\n\u001b[0;32m--> 204\u001b[0;31m         \u001b[0mself\u001b[0m\u001b[0;34m.\u001b[0m\u001b[0mQ\u001b[0m\u001b[0;34m.\u001b[0m\u001b[0mbackward\u001b[0m\u001b[0;34m(\u001b[0m\u001b[0;34m)\u001b[0m\u001b[0;34m\u001b[0m\u001b[0;34m\u001b[0m\u001b[0m\n\u001b[0m\u001b[1;32m    205\u001b[0m         \u001b[0mlr\u001b[0m \u001b[0;34m=\u001b[0m \u001b[0mtorch\u001b[0m\u001b[0;34m.\u001b[0m\u001b[0mmean\u001b[0m\u001b[0;34m(\u001b[0m\u001b[0mtorch\u001b[0m\u001b[0;34m.\u001b[0m\u001b[0mabs\u001b[0m\u001b[0;34m(\u001b[0m\u001b[0mself\u001b[0m\u001b[0;34m.\u001b[0m\u001b[0mU2\u001b[0m\u001b[0;34m)\u001b[0m\u001b[0;34m)\u001b[0m \u001b[0;34m/\u001b[0m  \u001b[0mtorch\u001b[0m\u001b[0;34m.\u001b[0m\u001b[0mmean\u001b[0m\u001b[0;34m(\u001b[0m\u001b[0mtorch\u001b[0m\u001b[0;34m.\u001b[0m\u001b[0mabs\u001b[0m\u001b[0;34m(\u001b[0m\u001b[0mself\u001b[0m\u001b[0;34m.\u001b[0m\u001b[0mU2\u001b[0m\u001b[0;34m.\u001b[0m\u001b[0mgrad\u001b[0m\u001b[0;34m)\u001b[0m\u001b[0;34m)\u001b[0m\u001b[0;34m*\u001b[0m \u001b[0mratio\u001b[0m\u001b[0;31m#0.01\u001b[0m\u001b[0;34m\u001b[0m\u001b[0;34m\u001b[0m\u001b[0m\n\u001b[1;32m    206\u001b[0m         \u001b[0mself\u001b[0m\u001b[0;34m.\u001b[0m\u001b[0mU2\u001b[0m\u001b[0;34m.\u001b[0m\u001b[0mdata\u001b[0m \u001b[0;34m+=\u001b[0m \u001b[0mlr\u001b[0m \u001b[0;34m*\u001b[0m \u001b[0mself\u001b[0m\u001b[0;34m.\u001b[0m\u001b[0mU2\u001b[0m\u001b[0;34m.\u001b[0m\u001b[0mgrad\u001b[0m\u001b[0;34m.\u001b[0m\u001b[0mdata\u001b[0m\u001b[0;34m\u001b[0m\u001b[0;34m\u001b[0m\u001b[0m\n",
      "\u001b[0;32m~/.conda/envs/protein_reconstruction/lib/python3.6/site-packages/torch/_tensor.py\u001b[0m in \u001b[0;36mbackward\u001b[0;34m(self, gradient, retain_graph, create_graph, inputs)\u001b[0m\n\u001b[1;32m    305\u001b[0m                 \u001b[0mcreate_graph\u001b[0m\u001b[0;34m=\u001b[0m\u001b[0mcreate_graph\u001b[0m\u001b[0;34m,\u001b[0m\u001b[0;34m\u001b[0m\u001b[0;34m\u001b[0m\u001b[0m\n\u001b[1;32m    306\u001b[0m                 inputs=inputs)\n\u001b[0;32m--> 307\u001b[0;31m         \u001b[0mtorch\u001b[0m\u001b[0;34m.\u001b[0m\u001b[0mautograd\u001b[0m\u001b[0;34m.\u001b[0m\u001b[0mbackward\u001b[0m\u001b[0;34m(\u001b[0m\u001b[0mself\u001b[0m\u001b[0;34m,\u001b[0m \u001b[0mgradient\u001b[0m\u001b[0;34m,\u001b[0m \u001b[0mretain_graph\u001b[0m\u001b[0;34m,\u001b[0m \u001b[0mcreate_graph\u001b[0m\u001b[0;34m,\u001b[0m \u001b[0minputs\u001b[0m\u001b[0;34m=\u001b[0m\u001b[0minputs\u001b[0m\u001b[0;34m)\u001b[0m\u001b[0;34m\u001b[0m\u001b[0;34m\u001b[0m\u001b[0m\n\u001b[0m\u001b[1;32m    308\u001b[0m \u001b[0;34m\u001b[0m\u001b[0m\n\u001b[1;32m    309\u001b[0m     \u001b[0;32mdef\u001b[0m \u001b[0mregister_hook\u001b[0m\u001b[0;34m(\u001b[0m\u001b[0mself\u001b[0m\u001b[0;34m,\u001b[0m \u001b[0mhook\u001b[0m\u001b[0;34m)\u001b[0m\u001b[0;34m:\u001b[0m\u001b[0;34m\u001b[0m\u001b[0;34m\u001b[0m\u001b[0m\n",
      "\u001b[0;32m~/.conda/envs/protein_reconstruction/lib/python3.6/site-packages/torch/autograd/__init__.py\u001b[0m in \u001b[0;36mbackward\u001b[0;34m(tensors, grad_tensors, retain_graph, create_graph, grad_variables, inputs)\u001b[0m\n\u001b[1;32m    154\u001b[0m     Variable._execution_engine.run_backward(\n\u001b[1;32m    155\u001b[0m         \u001b[0mtensors\u001b[0m\u001b[0;34m,\u001b[0m \u001b[0mgrad_tensors_\u001b[0m\u001b[0;34m,\u001b[0m \u001b[0mretain_graph\u001b[0m\u001b[0;34m,\u001b[0m \u001b[0mcreate_graph\u001b[0m\u001b[0;34m,\u001b[0m \u001b[0minputs\u001b[0m\u001b[0;34m,\u001b[0m\u001b[0;34m\u001b[0m\u001b[0;34m\u001b[0m\u001b[0m\n\u001b[0;32m--> 156\u001b[0;31m         allow_unreachable=True, accumulate_grad=True)  # allow_unreachable flag\n\u001b[0m\u001b[1;32m    157\u001b[0m \u001b[0;34m\u001b[0m\u001b[0m\n\u001b[1;32m    158\u001b[0m \u001b[0;34m\u001b[0m\u001b[0m\n",
      "\u001b[0;32m~/.conda/envs/protein_reconstruction/lib/python3.6/site-packages/torch/autograd/function.py\u001b[0m in \u001b[0;36mapply\u001b[0;34m(self, *args)\u001b[0m\n\u001b[1;32m    187\u001b[0m \u001b[0;34m\u001b[0m\u001b[0m\n\u001b[1;32m    188\u001b[0m \u001b[0;32mclass\u001b[0m \u001b[0mBackwardCFunction\u001b[0m\u001b[0;34m(\u001b[0m\u001b[0m_C\u001b[0m\u001b[0;34m.\u001b[0m\u001b[0m_FunctionBase\u001b[0m\u001b[0;34m,\u001b[0m \u001b[0mFunctionCtx\u001b[0m\u001b[0;34m,\u001b[0m \u001b[0m_HookMixin\u001b[0m\u001b[0;34m)\u001b[0m\u001b[0;34m:\u001b[0m\u001b[0;34m\u001b[0m\u001b[0;34m\u001b[0m\u001b[0m\n\u001b[0;32m--> 189\u001b[0;31m     \u001b[0;32mdef\u001b[0m \u001b[0mapply\u001b[0m\u001b[0;34m(\u001b[0m\u001b[0mself\u001b[0m\u001b[0;34m,\u001b[0m \u001b[0;34m*\u001b[0m\u001b[0margs\u001b[0m\u001b[0;34m)\u001b[0m\u001b[0;34m:\u001b[0m\u001b[0;34m\u001b[0m\u001b[0;34m\u001b[0m\u001b[0m\n\u001b[0m\u001b[1;32m    190\u001b[0m         \u001b[0;31m# _forward_cls is defined by derived class\u001b[0m\u001b[0;34m\u001b[0m\u001b[0;34m\u001b[0m\u001b[0;34m\u001b[0m\u001b[0m\n\u001b[1;32m    191\u001b[0m         \u001b[0;31m# The user should define either backward or vjp but never both.\u001b[0m\u001b[0;34m\u001b[0m\u001b[0;34m\u001b[0m\u001b[0;34m\u001b[0m\u001b[0m\n",
      "\u001b[0;31mKeyboardInterrupt\u001b[0m: "
     ]
    }
   ],
   "source": [
    "\n",
    "\n",
    "ProjSize, num_image, n_component = 43, 5000, 4\n",
    "\n",
    "Vol_geom = astra.create_vol_geom(43, 43, 43)\n",
    "#Images = torch.ones(num_image, 48, 48) # fake images for computing purpose\n",
    "vg = ts.from_astra(Vol_geom)\n",
    "pg = ts.from_astra(Proj_geom)\n",
    "op = ts.operator(vg, pg)\n",
    "MP3 = MPCA_3d_recon(ProjSize, num_image, n_component, op , Images)\n",
    "MP3.fit(start_ratio = 0.1)\n",
    "\"\"\"\n",
    "MP3.A_pro_All_U()\n",
    "\n",
    "MP3.Plot_temp()\n",
    "MP3.Q_Function()\n",
    "\n",
    "MP3.Expectation()\n",
    "MP3.Q_Function()\n",
    "MP3.Maximization()\n",
    "MP3.Plot_temp()\n",
    "MP3.Q_Function()\n",
    "print(MP3.All_U.shape)\n",
    "\"\"\"\n"
   ]
  },
  {
   "cell_type": "code",
   "execution_count": null,
   "metadata": {},
   "outputs": [],
   "source": [
    "c = 0\n",
    "im_cs = [i for i in range(10)]\n",
    "\n",
    "for c in im_cs:\n",
    "    fig = plt.figure()\n",
    "    gs = fig.add_gridspec(1, 2, hspace=0, wspace=0)\n",
    "    (ax1, ax2) = gs.subplots(sharex='col', sharey='row')\n",
    "    \n",
    "    \n",
    "    print('generated')\n",
    "    est_I = MP3.AU @ MP3.mu\n",
    "    AU = est_I.detach().numpy()\n",
    "    #print(AU.shape)\n",
    "    image = AU[c].reshape(MP3.ProjSize,MP3.ProjSize, order = 'F')\n",
    "    ax1.imshow(image)\n",
    "    #plt.imshow(image) # quarter rotation\n",
    "    #plt.show()\n",
    "    #MP3.Q_Function()\n",
    "\n",
    "    #MP3.Maximization()\n",
    "    print('real')\n",
    "    #plt.imshow(Images[c])\n",
    "    ax2.imshow(Images[c])\n",
    "    plt.show()"
   ]
  },
  {
   "cell_type": "code",
   "execution_count": null,
   "metadata": {},
   "outputs": [],
   "source": []
  },
  {
   "cell_type": "code",
   "execution_count": null,
   "metadata": {},
   "outputs": [],
   "source": [
    "MP3.fit()\n"
   ]
  },
  {
   "cell_type": "code",
   "execution_count": null,
   "metadata": {},
   "outputs": [],
   "source": [
    "c =250\n",
    "AU = MP3.AU.detach().numpy()\n",
    "print(AU.shape)\n",
    "image = AU[c].reshape(48,48, order = 'F')\n",
    "plt.imshow(image) # quarter rotation\n",
    "plt.show()\n",
    "#MP3.Q_Function()\n",
    "\n",
    "#MP3.Maximization()\n",
    "plt.imshow(Images[c])\n",
    "plt.show()"
   ]
  },
  {
   "cell_type": "code",
   "execution_count": null,
   "metadata": {},
   "outputs": [],
   "source": [
    "MP3.Q.backward()"
   ]
  },
  {
   "cell_type": "code",
   "execution_count": null,
   "metadata": {},
   "outputs": [],
   "source": [
    "MP3.U1.grad\n",
    "lr = torch.mean(torch.abs(MP3.U1)) /  torch.mean(torch.abs(MP3.U1.grad))\n",
    "print(lr)\n",
    "MP3.U1 = MP3.U1 + lr * MP3.U1.grad\n",
    "\n",
    "MP3.U1.grad.data.zero_()"
   ]
  },
  {
   "cell_type": "code",
   "execution_count": null,
   "metadata": {},
   "outputs": [],
   "source": [
    "#print(MP3.U1.grad)\n",
    "#MP3.U1.grad.data.zero_()"
   ]
  },
  {
   "cell_type": "code",
   "execution_count": null,
   "metadata": {},
   "outputs": [],
   "source": []
  },
  {
   "cell_type": "code",
   "execution_count": null,
   "metadata": {},
   "outputs": [],
   "source": [
    "t_list = [] \n",
    "for i in range(5):\n",
    "    t_list.append(torch.eye(ProjSize, requires_grad = True))\n",
    "loss = 0\n",
    "for i in range(5):\n",
    "    loss = loss + t_list[i]\n",
    "\n",
    "loss = torch.sum(loss)\n",
    "print(loss)\n",
    "loss.backward()"
   ]
  },
  {
   "cell_type": "code",
   "execution_count": null,
   "metadata": {},
   "outputs": [],
   "source": [
    "t_list[0].grad"
   ]
  },
  {
   "cell_type": "code",
   "execution_count": null,
   "metadata": {},
   "outputs": [],
   "source": []
  }
 ],
 "metadata": {
  "kernelspec": {
   "display_name": "Python 3",
   "language": "python",
   "name": "python3"
  },
  "language_info": {
   "codemirror_mode": {
    "name": "ipython",
    "version": 3
   },
   "file_extension": ".py",
   "mimetype": "text/x-python",
   "name": "python",
   "nbconvert_exporter": "python",
   "pygments_lexer": "ipython3",
   "version": "3.6.9"
  }
 },
 "nbformat": 4,
 "nbformat_minor": 5
}
