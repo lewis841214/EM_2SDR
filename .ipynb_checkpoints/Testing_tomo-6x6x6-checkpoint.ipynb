{
 "cells": [
  {
   "cell_type": "code",
   "execution_count": 1,
   "id": "fd6138fc",
   "metadata": {},
   "outputs": [],
   "source": [
    "import tomosipo as ts\n",
    "import numpy as np"
   ]
  },
  {
   "cell_type": "code",
   "execution_count": 2,
   "id": "eb5054b5",
   "metadata": {},
   "outputs": [],
   "source": [
    "vg = ts.volume(shape=(32, 32, 32), size=(1, 1, 1))\n",
    "pg = ts.parallel(angles=32, shape=(48, 48), size=(1.5, 1.5))"
   ]
  },
  {
   "cell_type": "code",
   "execution_count": 3,
   "id": "3da5d3ad",
   "metadata": {},
   "outputs": [],
   "source": [
    "svg = ts.svg(vg, pg)\n",
    "svg.save(\"./doc/img/intro_forward_projection_geometries.svg\")"
   ]
  },
  {
   "cell_type": "code",
   "execution_count": 4,
   "id": "6f737835",
   "metadata": {},
   "outputs": [],
   "source": [
    "A = ts.operator(vg, pg)\n"
   ]
  },
  {
   "cell_type": "code",
   "execution_count": 5,
   "id": "ac326e2d",
   "metadata": {},
   "outputs": [],
   "source": [
    "x = np.ones(A.domain_shape, dtype=np.float32)"
   ]
  },
  {
   "cell_type": "code",
   "execution_count": 6,
   "id": "f1b7738e",
   "metadata": {},
   "outputs": [],
   "source": [
    "y = A(x)"
   ]
  },
  {
   "cell_type": "code",
   "execution_count": 7,
   "id": "9c1dd36b",
   "metadata": {},
   "outputs": [
    {
     "data": {
      "image/png": "[encoded data removed]",
      "text/plain": [
       "<Figure size 432x288 with 1 Axes>"
      ]
     },
     "metadata": {
      "needs_background": "light"
     },
     "output_type": "display_data"
    },
    {
     "data": {
      "image/png": "[encoded data removed]",
      "text/plain": [
       "<Figure size 432x288 with 1 Axes>"
      ]
     },
     "metadata": {
      "needs_background": "light"
     },
     "output_type": "display_data"
    }
   ],
   "source": [
    "import matplotlib.pyplot as plt\n",
    "plt.imshow(y[:, 0, :]) # first projection\n",
    "plt.show()\n",
    "plt.imshow(y[:, 8, :]) # quarter rotation\n",
    "plt.show()"
   ]
  },
  {
   "cell_type": "code",
   "execution_count": 8,
   "id": "90007efc",
   "metadata": {},
   "outputs": [
    {
     "name": "stdout",
     "output_type": "stream",
     "text": [
      "(69, 57, 75)\n"
     ]
    }
   ],
   "source": [
    "import mrcfile\n",
    "import numpy as np\n",
    "import matplotlib.pyplot as plt\n",
    "file_name = './data/5j0n.mrc'\n",
    "with mrcfile.open(file_name) as mrcVol:\n",
    "    Vol1      = np.array(mrcVol.data) \n",
    "    ProjSize1 = int(np.sqrt(np.sum(np.square(Vol1.shape))))\n",
    "print(Vol1.shape)\n"
   ]
  },
  {
   "cell_type": "code",
   "execution_count": 9,
   "id": "ef98a55a",
   "metadata": {},
   "outputs": [
    {
     "data": {
      "image/png": "[encoded data removed]",
      "text/plain": [
       "<Figure size 432x288 with 1 Axes>"
      ]
     },
     "metadata": {
      "needs_background": "light"
     },
     "output_type": "display_data"
    },
    {
     "data": {
      "image/png": "[encoded data removed]",
      "text/plain": [
       "<Figure size 432x288 with 1 Axes>"
      ]
     },
     "metadata": {
      "needs_background": "light"
     },
     "output_type": "display_data"
    }
   ],
   "source": [
    "vg = ts.volume(shape=(32, 32, 32), size=(1, 1, 1))\n",
    "pg = ts.parallel(angles=50, shape=(48, 48), size=(1.5, 1.5))\n",
    "svg = ts.svg(vg, pg)\n",
    "svg.save(\"./doc/img/intro_forward_projection_geometries.svg\")\n",
    "A = ts.operator(vg, pg)\n",
    "from scipy.ndimage import zoom\n",
    "x = zoom(Vol1, (32/69, 32/57, 32/75))\n",
    "y = A(x)\n",
    "plt.imshow(y[:, 0, :]) # first projection\n",
    "plt.show()\n",
    "plt.imshow(y[:, 8, :]) # quarter rotation\n",
    "plt.show()"
   ]
  },
  {
   "cell_type": "code",
   "execution_count": 10,
   "id": "b65ae1ed",
   "metadata": {},
   "outputs": [
    {
     "name": "stdout",
     "output_type": "stream",
     "text": [
      "[[ 0.         -1.          0.        ]\n",
      " [ 0.         -0.99802673  0.06279052]\n",
      " [ 0.         -0.9921147   0.12533323]\n",
      " [ 0.         -0.98228725  0.18738131]\n",
      " [ 0.         -0.96858316  0.24868989]]\n"
     ]
    }
   ],
   "source": [
    "print(pg.ray_dir[:5])\n",
    "#print(pg._det_vec)\n"
   ]
  },
  {
   "cell_type": "code",
   "execution_count": 11,
   "id": "99ffbb45",
   "metadata": {},
   "outputs": [
    {
     "name": "stdout",
     "output_type": "stream",
     "text": [
      "[[0.        0.        0.       ]\n",
      " [1.8860662 2.0739784 3.6501303]\n",
      " [3.948796  1.4204998 2.6239626]\n",
      " [1.0760686 0.9697671 3.369385 ]]\n"
     ]
    }
   ],
   "source": [
    "#Then load the angle data:\n",
    "import pickle\n",
    "file_angle = './data/angle_data.pkl'\n",
    "with open(file_angle, 'rb') as f:\n",
    "    angles2 = pickle.load(f)\n",
    "print(angles2[:4])"
   ]
  },
  {
   "cell_type": "code",
   "execution_count": 12,
   "id": "0e42163d",
   "metadata": {},
   "outputs": [
    {
     "name": "stdout",
     "output_type": "stream",
     "text": [
      "(5000, 12)\n"
     ]
    }
   ],
   "source": [
    "import astra\n",
    "ProjSize = 25\n",
    "with open('/home/users/lewis841214/Desktop/1project/CryoEMCode/protein-reconstruction/cryoem/Orientation_Vectors.pkl', 'rb') as handle:\n",
    "    Orientation_Vectors = pickle.load(handle  )\n",
    "Orientation_Vectors = Orientation_Vectors\n",
    "print(Orientation_Vectors.shape)\n",
    "Proj_geom = astra.create_proj_geom('parallel3d_vec', ProjSize, ProjSize, Orientation_Vectors)\n"
   ]
  },
  {
   "cell_type": "code",
   "execution_count": 13,
   "id": "aa270e93",
   "metadata": {},
   "outputs": [],
   "source": [
    "from tomosipo.geometry.parallel_vec import *\n",
    "#pg = ParallelVectorGeometry.from_astra(Proj_geom)\n",
    "pg = ts.from_astra(Proj_geom)"
   ]
  },
  {
   "cell_type": "code",
   "execution_count": 14,
   "id": "facc60d4",
   "metadata": {},
   "outputs": [
    {
     "name": "stdout",
     "output_type": "stream",
     "text": [
      "(25, 25, 25)\n"
     ]
    },
    {
     "data": {
      "image/png": "[encoded data removed]",
      "text/plain": [
       "<Figure size 432x288 with 1 Axes>"
      ]
     },
     "metadata": {
      "needs_background": "light"
     },
     "output_type": "display_data"
    },
    {
     "data": {
      "image/png": "[encoded data removed]",
      "text/plain": [
       "<Figure size 432x288 with 1 Axes>"
      ]
     },
     "metadata": {
      "needs_background": "light"
     },
     "output_type": "display_data"
    }
   ],
   "source": [
    "#vg = ts.volume(shape=(32, 32, 32), size=(1, 1, 1))\n",
    "#pg = ts.parallel(angles=50, shape=(48, 48), size=(1.5, 1.5))\n",
    "Vol_geom = astra.create_vol_geom(25, 25, 25)\n",
    "vg = ts.from_astra(Vol_geom)\n",
    "pg = ts.from_astra(Proj_geom)\n",
    "A = ts.operator(vg, pg)\n",
    "from scipy.ndimage import zoom\n",
    "x = zoom(Vol1, (25/69, 25/57, 25/75))\n",
    "print(x.shape)\n",
    "y = A(x)\n",
    "plt.imshow(y[:, 0, :]) # first projection\n",
    "plt.show()\n",
    "plt.imshow(y[:, 1, :]) # quarter rotation\n",
    "plt.show()"
   ]
  },
  {
   "cell_type": "code",
   "execution_count": 15,
   "id": "de9b7bc9",
   "metadata": {},
   "outputs": [
    {
     "name": "stdout",
     "output_type": "stream",
     "text": [
      "(5000, 25, 25)\n"
     ]
    },
    {
     "data": {
      "image/png": "[encoded data removed]",
      "text/plain": [
       "<Figure size 432x288 with 1 Axes>"
      ]
     },
     "metadata": {
      "needs_background": "light"
     },
     "output_type": "display_data"
    },
    {
     "name": "stdout",
     "output_type": "stream",
     "text": [
      "(25, 25, 25)\n"
     ]
    }
   ],
   "source": [
    "\n",
    "\n",
    "y = A(x)\n",
    "y = y.transpose(1,0,2)\n",
    "Images = y\n",
    "print(y.shape)\n",
    "plt.imshow(y[0, :, :]) # quarter rotation\n",
    "plt.show()\n",
    "print(x.shape)"
   ]
  },
  {
   "cell_type": "code",
   "execution_count": 16,
   "id": "1d19b8cf",
   "metadata": {},
   "outputs": [
    {
     "name": "stdout",
     "output_type": "stream",
     "text": [
      "[[ 1.          0.          0.        ]\n",
      " [-0.48221567 -0.42655036  0.76519465]\n",
      " [ 0.14973132  0.48924381  0.85919797]\n",
      " [ 0.56549162 -0.18625212  0.80344844]\n",
      " [-0.29202196 -0.69853699 -0.65327579]]\n",
      "[[ 0.          1.          0.        ]\n",
      " [ 0.83287436  0.04761682  0.55141002]\n",
      " [-0.71421278  0.65444767 -0.24819013]\n",
      " [ 0.72586441 -0.35013524 -0.59205252]\n",
      " [ 0.35168427 -0.71362162  0.60585678]]\n",
      "[[ 0.          0.          1.        ]\n",
      " [-0.2716403   0.90320951  0.33230126]\n",
      " [-0.6837256  -0.57648826  0.44741547]\n",
      " [ 0.39158666  0.91799539 -0.06280477]\n",
      " [-0.88940507 -0.05282335  0.45405763]]\n"
     ]
    }
   ],
   "source": [
    "print(pg.ray_dir[:5])\n",
    "print(pg.det_v[:5])\n",
    "print(pg.det_u[:5])\n"
   ]
  },
  {
   "cell_type": "code",
   "execution_count": 17,
   "id": "9d56fcfe",
   "metadata": {},
   "outputs": [
    {
     "name": "stdout",
     "output_type": "stream",
     "text": [
      "[[ 0.          0.          1.          0.          0.          0.\n",
      "   1.          0.          0.          0.          1.          0.        ]\n",
      " [ 0.76519465 -0.42655036 -0.48221567  0.          0.          0.\n",
      "   0.33230126  0.90320951 -0.2716403   0.55141002  0.04761682  0.83287436]\n",
      " [ 0.85919797  0.48924381  0.14973132  0.          0.          0.\n",
      "   0.44741547 -0.57648826 -0.6837256  -0.24819013  0.65444767 -0.71421278]\n",
      " [ 0.80344844 -0.18625212  0.56549162  0.          0.          0.\n",
      "  -0.06280477  0.91799539  0.39158666 -0.59205252 -0.35013524  0.72586441]\n",
      " [-0.65327579 -0.69853699 -0.29202196  0.          0.          0.\n",
      "   0.45405763 -0.05282335 -0.88940507  0.60585678 -0.71362162  0.35168427]]\n",
      "ts.parallel_vec(\n",
      "    shape=(25, 25),\n",
      "    ray_dir=array([[ 1.        ,  0.        ,  0.        ],\n",
      "       [-0.48221567, -0.42655036,  0.76519465],\n",
      "       [ 0.14973132,  0.48924381,  0.85919797],\n",
      "       [ 0.56549162, -0.18625212,  0.80344844],\n",
      "       [-0.29202196, -0.69853699, -0.65327579]]),\n",
      "    det_pos=array([[0., 0., 0.],\n",
      "       [0., 0., 0.],\n",
      "       [0., 0., 0.],\n",
      "       [0., 0., 0.],\n",
      "       [0., 0., 0.]]),\n",
      "    det_v=array([[ 0.        ,  1.        ,  0.        ],\n",
      "       [ 0.83287436,  0.04761682,  0.55141002],\n",
      "       [-0.71421278,  0.65444767, -0.24819013],\n",
      "       [ 0.72586441, -0.35013524, -0.59205252],\n",
      "       [ 0.35168427, -0.71362162,  0.60585678]]),\n",
      "    det_u=array([[ 0.        ,  0.        ,  1.        ],\n",
      "       [-0.2716403 ,  0.90320951,  0.33230126],\n",
      "       [-0.6837256 , -0.57648826,  0.44741547],\n",
      "       [ 0.39158666,  0.91799539, -0.06280477],\n",
      "       [-0.88940507, -0.05282335,  0.45405763]]),\n",
      ")\n"
     ]
    }
   ],
   "source": [
    "print(Orientation_Vectors[:5])\n",
    "print(pg[:5])"
   ]
  },
  {
   "cell_type": "code",
   "execution_count": 18,
   "id": "4e45a0ff",
   "metadata": {},
   "outputs": [],
   "source": [
    "from tomosipo.torch_support import to_autograd\n",
    "\"\"\"\n",
    "First step. write out the\n",
    "1. Expectation\n",
    "2. likelihood\n",
    "Then use .backward solve it\n",
    "\n",
    "\n",
    "For AU with U with batch n^3, to_autograd take batch input, which is actually what I want!!!!, so no need for one by one concatenate!!!\n",
    "\n",
    "\"\"\"\n",
    "def reshape_fortran(x, shape):\n",
    "    if len(x.shape) > 0:\n",
    "        x = x.permute(*reversed(range(len(x.shape))))\n",
    "    return x.reshape(*reversed(shape)).permute(*reversed(range(len(shape))))\n",
    "def Trace_bradcast(a):\n",
    "    b = torch.einsum('bii->b', a)\n",
    "    return b\n",
    "import torch\n",
    "class MPCA_3d_recon():\n",
    "    def __init__(self, ProjSize, num_image, n_component, op, Images):\n",
    "        #init\n",
    "        self.ProjSize  = ProjSize\n",
    "        self.z_size = n_component # First set 1 for simplicity\n",
    "        self.num_image = num_image\n",
    "        self.n_component = n_component\n",
    "        \n",
    "        \"\"\"\n",
    "        projection operator and images\n",
    "        \"\"\"\n",
    "        self.op = to_autograd(op)\n",
    "        Images = torch.tensor(Images)\n",
    "        self.I = reshape_fortran(Images, (self.num_image, self.ProjSize*self.ProjSize , 1)) # N x D^2 x 1\n",
    "        \"\"\"\n",
    "        paramters we want to find\n",
    "        \"\"\"\n",
    "        self.U1 = torch.eye(self.ProjSize)[:, :self.z_size] +1\n",
    "        self.U2 = torch.eye(self.ProjSize)[:, :self.z_size] +1 \n",
    "        self.U3 = torch.eye(self.ProjSize)[:, :self.z_size] +1\n",
    "        #print('self.U1',self.U1.shape)\n",
    "        self.U1.data = torch.qr(self.U1.data)[0]\n",
    "        self.U2.data = torch.qr(self.U2.data)[0]\n",
    "        self.U3.data = torch.qr(self.U3.data)[0]\n",
    "        #print('ortho_U1',ortho_U1.shape)\n",
    "        #print(ortho_U1.T@ortho_U1)\n",
    "        \n",
    "        self.U1.requires_grad =True\n",
    "        self.U2.requires_grad =True\n",
    "        self.U3.requires_grad =True\n",
    "        self.All_U = torch.kron(self.U1, torch.kron(self.U2, self.U3))\n",
    "        self.Sigma_Z_inv = torch.eye(self.n_component ** 3) # size: p1 x p2 x p3 \n",
    "        self.sigma = torch.ones(self.num_image).reshape(-1, 1 ,1) * 1\n",
    "        \n",
    "        \"\"\"\n",
    "        Expectation term\n",
    "        or so called missing data\n",
    "        \"\"\"\n",
    "        self.mu = torch.abs(torch.ones((num_image, n_component **3,1)))\n",
    "        self.BigSigma_I = torch.abs(torch.ones((self.num_image, self.n_component**3, self.n_component**3 )))\n",
    "\n",
    "       \n",
    "\n",
    "    def A_pro_All_U(self):\n",
    "        #self.All_U # shape = Ps ^3 x n  ^3: which we should make it Ps x Ps x Ps x n ^3 to process\n",
    "        #A: Ps x Ps x Ps x 1 ->  Ps x Ps x 1\n",
    "        \n",
    "        #So overal, we have Mu = N x D^3 x n^3\n",
    "        #AMu = N x D^2 x n^3\n",
    "        \"\"\"\n",
    "        for i in range(self.n_component**3):\n",
    "            Vol_i = self.All_U[:, i].reshape(self.ProjSize, self.ProjSize,self.ProjSize)\n",
    "            Proj_i = self.op(Vol_i).permute(1, 0, 2)\n",
    "            Proj_i = reshape_fortran(Proj_i, (self.num_image, self.ProjSize*self.ProjSize ,1))\n",
    "            \n",
    "            #print(Proj_i.shape)\n",
    "            if i == 0:\n",
    "                self.AU = Proj_i\n",
    "            else:\n",
    "                self.AU = torch.cat((self.AU, Proj_i), 2)\n",
    "        #print('self.AU',self.AU.shape)\n",
    "        \n",
    "        #Broad cast: torch.matmul\n",
    "        # (AU).T(AU) = torch.matmul(self.AU.permute(0,2,1), self.AU.permute(0,2,1))\n",
    "        #torch.matmul(self.AU.permute(0,2,1), self.AU)\n",
    "        \"\"\"\n",
    "        self.All_U = torch.kron(self.U1, torch.kron(self.U2, self.U3))\n",
    "        self.All_U = reshape_fortran(self.All_U, (self.ProjSize, self.ProjSize, self.ProjSize, self.n_component**3)) #D^3 x n^3 -> D xD x D x n^3\n",
    "        self.All_U = self.All_U.permute(3, 0, 1, 2) # make it n x Dx Dx D\n",
    "        #print(self.All_U.shape)\n",
    "        self.AU = self.op( self.All_U) # n x Dx Dx D -> n x D x N x D\n",
    "        #print('self.AU',self.AU.shape)\n",
    "        self.AU = self.AU.permute(2, 0, 1, 3) # N x n x D x D\n",
    "        self.AU = reshape_fortran(self.AU, (self.num_image, self.n_component**3, self.ProjSize**2))\n",
    "        self.AU = self.AU.permute(0, 2, 1) # N x n x D x D\n",
    "        \n",
    "        #print('self.AU',self.AU.shape)\n",
    "        \n",
    "    def Expectation(self):\n",
    "        \n",
    "        \"\"\"\n",
    "        First, get all projection information\n",
    "        \n",
    "        ro_j = 1/sigma^2 * (Sigmz_Z_inv + 1/sigma^2 * (Au)^TAu)^(-1)(Au)^TI\n",
    "        \n",
    "        #We expect to get a n_image x n_component matrix for ro\n",
    "        \n",
    "        BigSigma = I - 1 / sigma^2 * (I + 1/sigma^2 * (Au)^TAu)^(-1) (Au)^TAu9htu\n",
    "        \n",
    "        Here, the shape of All_U is PS^3 x n_component^3, but A can only process a 3d volume PS^3 at once\n",
    "        \n",
    "        \"\"\"\n",
    "        #print(torch.unsqueeze(self.Sigma_Z_inv,0  ).shape)\n",
    "        #print((1 / self.sigma **2).shape)\n",
    "        \n",
    "        UTATAU = torch.matmul(self.AU.permute(0,2,1), self.AU)\n",
    "        #print(UTAAU.shape)\n",
    "        #print((1 / self.sigma **2 * UTAAU ).shape)\n",
    "        self.mu = torch.inverse(torch.unsqueeze(self.Sigma_Z_inv,0  ) + 1 / self.sigma **2 * UTATAU ) * 1 / self.sigma **2 \n",
    "        self.mu = torch.matmul(self.mu , self.AU.permute(0,2,1))\n",
    "        self.mu = torch.matmul(self.mu, self.I)\n",
    "        #print('self.mu.shape',self.mu.shape)\n",
    "        \n",
    "        \n",
    "        \"\"\"\n",
    "        So we found Mu\n",
    "        Then we found Sigma_I\n",
    "        torch.inverse can broadcast through batch, so just use it\n",
    "        \"\"\"\n",
    "        self.BigSigma_I = torch.inverse((torch.unsqueeze(self.Sigma_Z_inv,0  ) + 1 / self.sigma **2 * UTATAU )) + torch.matmul(self.mu, self.mu.permute(0,2,1))\n",
    "        #print('self.BigSigma_I', self.BigSigma_I.shape)\n",
    "        \n",
    "    def Q_Function(self, ):\n",
    "        \"\"\"\n",
    "        #left term\n",
    "        #print('self.AU', torch.mean(self.AU))\n",
    "        print('in Q')\n",
    "        print('self.mu ', torch.mean(self.mu ))\n",
    "        print('self.BigSigma_I', torch.mean(self.BigSigma_I))\n",
    "        #print('self.sigma', torch.mean(self.sigma))\n",
    "        print('self.Sigma_Z_inv',torch.mean(self.Sigma_Z_inv))\n",
    "        print('self.U1', torch.mean(self.U1))\n",
    "        print('self.U2', torch.mean(self.U2))\n",
    "        print('self.U3', torch.mean(self.U3))\n",
    "        \n",
    "        try:\n",
    "            print('self.U1.grad.data',torch.mean(self.U1.grad.data))\n",
    "            print('self.U2.grad.data',torch.mean(self.U2.grad.data))\n",
    "            print('self.U3.grad.data',torch.mean(self.U3.grad.data))\n",
    "        \n",
    "        except:\n",
    "            pass\n",
    "        \"\"\"\n",
    "        \n",
    "        left = -2 * self.I.permute(0, 2, 1) @ self.AU @ self.mu \n",
    "        #UTATAU = torch.matmul(self.AU.permute(0,2,1), self.AU)\n",
    "        #print('self.AU', self.AU.shape)\n",
    "        #print('self.BigSigma_I', self.BigSigma_I.shape)\n",
    "        #print('self.AU.permute(0,2,1)', self.AU.permute(0,2,1).shape)\n",
    "        left = left + Trace_bradcast(self.AU @ self.BigSigma_I @ self.AU.permute(0,2,1))   #self.mu.permute(0, 2, 1) @  UTATAU @ self.mu\n",
    "        left = 1 / self.sigma **2 *left\n",
    "        \n",
    "        #middle term\n",
    "        #print('self.mu', self.mu.shape)\n",
    "        #print('torch.unsqueeze(self.Sigma_Z_inv,0  )', torch.unsqueeze(self.Sigma_Z_inv,0  ).shape)\n",
    "        #middle = self.mu.permute(0, 2, 1)  @torch.unsqueeze(self.Sigma_Z_inv,0  ) @self.mu\n",
    "        middle = Trace_bradcast( torch.unsqueeze(self.Sigma_Z_inv,0  ) @ self.BigSigma_I )\n",
    "        \n",
    "        \n",
    "        right = torch.log(torch.det(torch.inverse(self.Sigma_Z_inv)))\n",
    "        self.Q = -1/2 * torch.sum(left + middle + right)/100000000\n",
    "        print('self.Q',self.Q.shape,self.Q)\n",
    "        #print(self.Q)\n",
    "    def Maximization(self, ratio):\n",
    "        \"\"\"\n",
    "        Update U1, U2, U3 by gradient assent and use svd to make sure orthogonality\n",
    "        self.U1.grad.data.zero_() # conduct zero grad\n",
    "        self.Q.backward()\n",
    "        \n",
    "        \"\"\"\n",
    "        self.Sigma_Z_inv = torch.inverse(torch.mean(self.BigSigma_I, 0)).detach()\n",
    "        self.Q.backward()\n",
    "        \n",
    "        lr = torch.mean(torch.abs(self.U1)) /  torch.mean(torch.abs(self.U1.grad)) * ratio# 0.01\n",
    "        self.U1.data +=  lr * self.U1.grad.data\n",
    "        self.U1.data = torch.qr(self.U1.data)[0]\n",
    "        \n",
    "        self.U1.grad.data.zero_()\n",
    "        self.U2.grad.data.zero_()\n",
    "        self.U3.grad.data.zero_()\n",
    "        self.A_pro_All_U()\n",
    "        self.Expectation()\n",
    "        \n",
    "        \n",
    "        \n",
    "        \n",
    "        self.Q_Function()\n",
    "        self.Q.backward()\n",
    "        lr = torch.mean(torch.abs(self.U2)) /  torch.mean(torch.abs(self.U2.grad))* ratio#0.01\n",
    "        self.U2.data += lr * self.U2.grad.data\n",
    "        self.U2.data = torch.qr(self.U2.data)[0]\n",
    "        \n",
    "        self.U1.grad.data.zero_()\n",
    "        self.U2.grad.data.zero_()\n",
    "        self.U3.grad.data.zero_()\n",
    "        self.A_pro_All_U()\n",
    "        self.Expectation()\n",
    "        \n",
    "        \n",
    "        \n",
    "        self.Q_Function()\n",
    "        self.Q.backward()\n",
    "        \n",
    "        lr = torch.mean(torch.abs(self.U3)) /  torch.mean(torch.abs(self.U3.grad))* ratio#0.01\n",
    "        self.U3.data += lr * self.U3.grad.data\n",
    "        self.U3.data = torch.qr(self.U3.data)[0]\n",
    "        \n",
    "        self.U1.grad.data.zero_()\n",
    "        self.U2.grad.data.zero_()\n",
    "        self.U3.grad.data.zero_()\n",
    "        self.A_pro_All_U()\n",
    "        self.Expectation()\n",
    "        #lr = np.abs(np.mean(self.mu) / np.mean(DeltaMu) )*0.001\n",
    "        #self.mu = self.mu + lr * DeltaMu\n",
    "        \"\"\"\n",
    "        lr = torch.mean(torch.abs(self.U1)) /  torch.mean(torch.abs(self.U1.grad)) * ratio# 0.01\n",
    "        self.U1.data +=  lr * self.U1.grad.data\n",
    "        \n",
    "        lr = torch.mean(torch.abs(self.U2)) /  torch.mean(torch.abs(self.U2.grad))* ratio#0.01\n",
    "        self.U2.data += lr * self.U2.grad.data\n",
    "        \n",
    "        lr = torch.mean(torch.abs(self.U3)) /  torch.mean(torch.abs(self.U3.grad))* ratio#0.01\n",
    "        self.U3.data += lr * self.U3.grad.data\n",
    "        \n",
    "        self.U1.data = torch.qr(self.U1.data)[0]\n",
    "        self.U2.data = torch.qr(self.U2.data)[0]\n",
    "        self.U3.data = torch.qr(self.U3.data)[0]\n",
    "        #print('self.U1.grad.data',torch.mean(self.U1.grad.data))\n",
    "        ##print('self.U2.grad.data',torch.mean(self.U2.grad.data))\n",
    "        #print('self.U3.grad.data',torch.mean(self.U3.grad.data))\n",
    "        \n",
    "        self.U1.grad.data.zero_()\n",
    "        self.U2.grad.data.zero_()\n",
    "        self.U3.grad.data.zero_()\n",
    "        self.A_pro_All_U()\n",
    "        \"\"\"\n",
    "        \n",
    "    def Plot_temp(self):\n",
    "        c = 0\n",
    "        print('generated')\n",
    "        est_I = self.AU @ self.mu\n",
    "        AU = est_I.detach().numpy()\n",
    "        #print(AU.shape)\n",
    "        image = AU[c].reshape(self.ProjSize,self.ProjSize, order = 'F')\n",
    "        plt.imshow(image) # quarter rotation\n",
    "        plt.show()\n",
    "        #MP3.Q_Function()\n",
    "\n",
    "        #MP3.Maximization()\n",
    "        print('real')\n",
    "        plt.imshow(Images[c])\n",
    "        plt.show()\n",
    "        \n",
    "        c = 11\n",
    "        print('generated')\n",
    "        #AU = self.AU.detach().numpy()\n",
    "        #print(AU.shape)\n",
    "        image = AU[c].reshape(self.ProjSize,self.ProjSize, order = 'F')\n",
    "        plt.imshow(image) # quarter rotation\n",
    "        plt.show()\n",
    "        #MP3.Q_Function()\n",
    "\n",
    "        #MP3.Maximization()\n",
    "        print('real')\n",
    "        plt.imshow(Images[c])\n",
    "        plt.show()\n",
    "        \n",
    "        \n",
    "    def fit(self, start_ratio):\n",
    "        ratio = start_ratio\n",
    "        self.A_pro_All_U()\n",
    "        print('oritinal')\n",
    "        self.Plot_temp()\n",
    "        for i in range(100000):\n",
    "            self.A_pro_All_U()\n",
    "            #self.Q_Function()\n",
    "            #self.Plot_temp()\n",
    "            #self.Q_Function()\n",
    "            self.Expectation()\n",
    "            self.Q_Function()\n",
    "            self.Maximization(ratio)\n",
    "            if i % 100 == 99:\n",
    "                ratio = ratio /5\n",
    "            if i % 30 ==0:\n",
    "                print(f'the {i} th iter')\n",
    "                self.Plot_temp()\n",
    "            "
   ]
  },
  {
   "cell_type": "code",
   "execution_count": null,
   "id": "6ce3f017",
   "metadata": {},
   "outputs": [
    {
     "name": "stderr",
     "output_type": "stream",
     "text": [
      "/home/users/lewis841214/Desktop/1project/CryoEMCode/GPU_CryoEM/tomosipo/tomosipo/links/torch.py:63: UserWarning: The parameter initial_value should be contiguous. It has been automatically made contiguous. Use `ts.link(x.contiguous())' to inhibit this warning. \n",
      "  warnings.warn(\n"
     ]
    },
    {
     "name": "stdout",
     "output_type": "stream",
     "text": [
      "oritinal\n",
      "generated\n"
     ]
    },
    {
     "data": {
      "image/png": "[encoded data removed]",
      "text/plain": [
       "<Figure size 432x288 with 1 Axes>"
      ]
     },
     "metadata": {
      "needs_background": "light"
     },
     "output_type": "display_data"
    },
    {
     "name": "stdout",
     "output_type": "stream",
     "text": [
      "real\n"
     ]
    },
    {
     "data": {
      "image/png": "[encoded data removed]",
      "text/plain": [
       "<Figure size 432x288 with 1 Axes>"
      ]
     },
     "metadata": {
      "needs_background": "light"
     },
     "output_type": "display_data"
    },
    {
     "name": "stdout",
     "output_type": "stream",
     "text": [
      "generated\n"
     ]
    },
    {
     "data": {
      "image/png": "[encoded data removed]",
      "text/plain": [
       "<Figure size 432x288 with 1 Axes>"
      ]
     },
     "metadata": {
      "needs_background": "light"
     },
     "output_type": "display_data"
    },
    {
     "name": "stdout",
     "output_type": "stream",
     "text": [
      "real\n"
     ]
    },
    {
     "data": {
      "image/png": "[encoded data removed]",
      "text/plain": [
       "<Figure size 432x288 with 1 Axes>"
      ]
     },
     "metadata": {
      "needs_background": "light"
     },
     "output_type": "display_data"
    },
    {
     "name": "stdout",
     "output_type": "stream",
     "text": [
      "self.Q torch.Size([]) tensor(-6.6502, grad_fn=<DivBackward0>)\n"
     ]
    },
    {
     "name": "stderr",
     "output_type": "stream",
     "text": [
      "ERROR:root:Internal Python error in the inspect module.\n",
      "Below is the traceback from this internal error.\n",
      "\n",
      "ERROR:root:Internal Python error in the inspect module.\n",
      "Below is the traceback from this internal error.\n",
      "\n"
     ]
    },
    {
     "name": "stdout",
     "output_type": "stream",
     "text": [
      "Traceback (most recent call last):\n",
      "  File \"/home/users/lewis841214/.conda/envs/tomosipo/lib/python3.8/site-packages/IPython/core/interactiveshell.py\", line 3444, in run_code\n",
      "    exec(code_obj, self.user_global_ns, self.user_ns)\n",
      "  File \"/tmp/ipykernel_60987/1506376272.py\", line 9, in <module>\n",
      "    MP3.fit(0.01 * 5)\n",
      "  File \"/tmp/ipykernel_60987/3226514352.py\", line 290, in fit\n",
      "    self.Maximization(ratio)\n",
      "  File \"/tmp/ipykernel_60987/3226514352.py\", line 190, in Maximization\n",
      "    self.A_pro_All_U()\n",
      "  File \"/tmp/ipykernel_60987/3226514352.py\", line 90, in A_pro_All_U\n",
      "    self.AU = self.op( self.All_U) # n x Dx Dx D -> n x D x N x D\n",
      "  File \"/home/users/lewis841214/Desktop/1project/CryoEMCode/GPU_CryoEM/tomosipo/tomosipo/torch_support.py\", line 85, in f\n",
      "    return OperatorFunction.apply(x, operator)\n",
      "  File \"/home/users/lewis841214/Desktop/1project/CryoEMCode/GPU_CryoEM/tomosipo/tomosipo/torch_support.py\", line 35, in forward\n",
      "    operator(input[i], out=out[i])\n",
      "  File \"/home/users/lewis841214/Desktop/1project/CryoEMCode/GPU_CryoEM/tomosipo/tomosipo/Operator.py\", line 253, in __call__\n",
      "    return self._fp(volume, out)\n",
      "  File \"/home/users/lewis841214/Desktop/1project/CryoEMCode/GPU_CryoEM/tomosipo/tomosipo/Operator.py\", line 187, in _fp\n",
      "    direct_fp(self.astra_projector, vlink, plink, additive=self.additive)\n",
      "  File \"/home/users/lewis841214/Desktop/1project/CryoEMCode/GPU_CryoEM/tomosipo/tomosipo/astra.py\", line 178, in direct_fp\n",
      "    return direct_project(\n",
      "  File \"/home/users/lewis841214/Desktop/1project/CryoEMCode/GPU_CryoEM/tomosipo/tomosipo/astra.py\", line 147, in direct_project\n",
      "    astra.experimental.direct_FPBP3D(\n",
      "KeyboardInterrupt\n",
      "\n",
      "During handling of the above exception, another exception occurred:\n",
      "\n",
      "Traceback (most recent call last):\n",
      "  File \"/home/users/lewis841214/.conda/envs/tomosipo/lib/python3.8/site-packages/IPython/core/interactiveshell.py\", line 2064, in showtraceback\n",
      "    stb = value._render_traceback_()\n",
      "AttributeError: 'KeyboardInterrupt' object has no attribute '_render_traceback_'\n",
      "\n",
      "During handling of the above exception, another exception occurred:\n",
      "\n",
      "Traceback (most recent call last):\n",
      "  File \"/home/users/lewis841214/.conda/envs/tomosipo/lib/python3.8/site-packages/IPython/core/ultratb.py\", line 1101, in get_records\n",
      "    return _fixed_getinnerframes(etb, number_of_lines_of_context, tb_offset)\n",
      "  File \"/home/users/lewis841214/.conda/envs/tomosipo/lib/python3.8/site-packages/IPython/core/ultratb.py\", line 248, in wrapped\n",
      "    return f(*args, **kwargs)\n",
      "  File \"/home/users/lewis841214/.conda/envs/tomosipo/lib/python3.8/site-packages/IPython/core/ultratb.py\", line 281, in _fixed_getinnerframes\n",
      "    records = fix_frame_records_filenames(inspect.getinnerframes(etb, context))\n",
      "  File \"/home/users/lewis841214/.conda/envs/tomosipo/lib/python3.8/inspect.py\", line 1515, in getinnerframes\n",
      "    frameinfo = (tb.tb_frame,) + getframeinfo(tb, context)\n",
      "  File \"/home/users/lewis841214/.conda/envs/tomosipo/lib/python3.8/inspect.py\", line 1473, in getframeinfo\n",
      "    filename = getsourcefile(frame) or getfile(frame)\n",
      "  File \"/home/users/lewis841214/.conda/envs/tomosipo/lib/python3.8/inspect.py\", line 708, in getsourcefile\n",
      "    if getattr(getmodule(object, filename), '__loader__', None) is not None:\n",
      "  File \"/home/users/lewis841214/.conda/envs/tomosipo/lib/python3.8/inspect.py\", line 751, in getmodule\n",
      "    f = getabsfile(module)\n",
      "  File \"/home/users/lewis841214/.conda/envs/tomosipo/lib/python3.8/inspect.py\", line 720, in getabsfile\n",
      "    _filename = getsourcefile(object) or getfile(object)\n",
      "  File \"/home/users/lewis841214/.conda/envs/tomosipo/lib/python3.8/inspect.py\", line 705, in getsourcefile\n",
      "    if os.path.exists(filename):\n",
      "  File \"/home/users/lewis841214/.conda/envs/tomosipo/lib/python3.8/genericpath.py\", line 19, in exists\n",
      "    os.stat(path)\n",
      "KeyboardInterrupt\n",
      "Traceback (most recent call last):\n",
      "  File \"/home/users/lewis841214/.conda/envs/tomosipo/lib/python3.8/site-packages/IPython/core/interactiveshell.py\", line 3444, in run_code\n",
      "    exec(code_obj, self.user_global_ns, self.user_ns)\n",
      "  File \"/tmp/ipykernel_60987/1506376272.py\", line 9, in <module>\n",
      "    MP3.fit(0.01 * 5)\n",
      "  File \"/tmp/ipykernel_60987/3226514352.py\", line 290, in fit\n",
      "    self.Maximization(ratio)\n",
      "  File \"/tmp/ipykernel_60987/3226514352.py\", line 190, in Maximization\n",
      "    self.A_pro_All_U()\n",
      "  File \"/tmp/ipykernel_60987/3226514352.py\", line 90, in A_pro_All_U\n",
      "    self.AU = self.op( self.All_U) # n x Dx Dx D -> n x D x N x D\n",
      "  File \"/home/users/lewis841214/Desktop/1project/CryoEMCode/GPU_CryoEM/tomosipo/tomosipo/torch_support.py\", line 85, in f\n",
      "    return OperatorFunction.apply(x, operator)\n",
      "  File \"/home/users/lewis841214/Desktop/1project/CryoEMCode/GPU_CryoEM/tomosipo/tomosipo/torch_support.py\", line 35, in forward\n",
      "    operator(input[i], out=out[i])\n",
      "  File \"/home/users/lewis841214/Desktop/1project/CryoEMCode/GPU_CryoEM/tomosipo/tomosipo/Operator.py\", line 253, in __call__\n",
      "    return self._fp(volume, out)\n",
      "  File \"/home/users/lewis841214/Desktop/1project/CryoEMCode/GPU_CryoEM/tomosipo/tomosipo/Operator.py\", line 187, in _fp\n",
      "    direct_fp(self.astra_projector, vlink, plink, additive=self.additive)\n",
      "  File \"/home/users/lewis841214/Desktop/1project/CryoEMCode/GPU_CryoEM/tomosipo/tomosipo/astra.py\", line 178, in direct_fp\n",
      "    return direct_project(\n",
      "  File \"/home/users/lewis841214/Desktop/1project/CryoEMCode/GPU_CryoEM/tomosipo/tomosipo/astra.py\", line 147, in direct_project\n",
      "    astra.experimental.direct_FPBP3D(\n",
      "KeyboardInterrupt\n",
      "\n",
      "During handling of the above exception, another exception occurred:\n",
      "\n",
      "Traceback (most recent call last):\n",
      "  File \"/home/users/lewis841214/.conda/envs/tomosipo/lib/python3.8/site-packages/IPython/core/interactiveshell.py\", line 2064, in showtraceback\n",
      "    stb = value._render_traceback_()\n",
      "AttributeError: 'KeyboardInterrupt' object has no attribute '_render_traceback_'\n",
      "\n",
      "During handling of the above exception, another exception occurred:\n",
      "\n",
      "Traceback (most recent call last):\n",
      "  File \"/home/users/lewis841214/.conda/envs/tomosipo/lib/python3.8/site-packages/IPython/core/interactiveshell.py\", line 3364, in run_ast_nodes\n",
      "    if (await self.run_code(code, result,  async_=asy)):\n",
      "  File \"/home/users/lewis841214/.conda/envs/tomosipo/lib/python3.8/site-packages/IPython/core/interactiveshell.py\", line 3461, in run_code\n",
      "    self.showtraceback(running_compiled_code=True)\n",
      "  File \"/home/users/lewis841214/.conda/envs/tomosipo/lib/python3.8/site-packages/IPython/core/interactiveshell.py\", line 2066, in showtraceback\n",
      "    stb = self.InteractiveTB.structured_traceback(etype,\n",
      "  File \"/home/users/lewis841214/.conda/envs/tomosipo/lib/python3.8/site-packages/IPython/core/ultratb.py\", line 1367, in structured_traceback\n",
      "    return FormattedTB.structured_traceback(\n",
      "  File \"/home/users/lewis841214/.conda/envs/tomosipo/lib/python3.8/site-packages/IPython/core/ultratb.py\", line 1267, in structured_traceback\n",
      "    return VerboseTB.structured_traceback(\n",
      "  File \"/home/users/lewis841214/.conda/envs/tomosipo/lib/python3.8/site-packages/IPython/core/ultratb.py\", line 1124, in structured_traceback\n",
      "    formatted_exception = self.format_exception_as_a_whole(etype, evalue, etb, number_of_lines_of_context,\n",
      "  File \"/home/users/lewis841214/.conda/envs/tomosipo/lib/python3.8/site-packages/IPython/core/ultratb.py\", line 1082, in format_exception_as_a_whole\n",
      "    last_unique, recursion_repeat = find_recursion(orig_etype, evalue, records)\n",
      "  File \"/home/users/lewis841214/.conda/envs/tomosipo/lib/python3.8/site-packages/IPython/core/ultratb.py\", line 382, in find_recursion\n",
      "    return len(records), 0\n",
      "TypeError: object of type 'NoneType' has no len()\n",
      "\n",
      "During handling of the above exception, another exception occurred:\n",
      "\n",
      "Traceback (most recent call last):\n",
      "  File \"/home/users/lewis841214/.conda/envs/tomosipo/lib/python3.8/site-packages/IPython/core/interactiveshell.py\", line 2064, in showtraceback\n",
      "    stb = value._render_traceback_()\n",
      "AttributeError: 'TypeError' object has no attribute '_render_traceback_'\n",
      "\n",
      "During handling of the above exception, another exception occurred:\n",
      "\n",
      "Traceback (most recent call last):\n",
      "  File \"/home/users/lewis841214/.conda/envs/tomosipo/lib/python3.8/site-packages/IPython/core/ultratb.py\", line 1101, in get_records\n",
      "    return _fixed_getinnerframes(etb, number_of_lines_of_context, tb_offset)\n",
      "  File \"/home/users/lewis841214/.conda/envs/tomosipo/lib/python3.8/site-packages/IPython/core/ultratb.py\", line 248, in wrapped\n",
      "    return f(*args, **kwargs)\n",
      "  File \"/home/users/lewis841214/.conda/envs/tomosipo/lib/python3.8/site-packages/IPython/core/ultratb.py\", line 281, in _fixed_getinnerframes\n",
      "    records = fix_frame_records_filenames(inspect.getinnerframes(etb, context))\n",
      "  File \"/home/users/lewis841214/.conda/envs/tomosipo/lib/python3.8/inspect.py\", line 1515, in getinnerframes\n",
      "    frameinfo = (tb.tb_frame,) + getframeinfo(tb, context)\n",
      "  File \"/home/users/lewis841214/.conda/envs/tomosipo/lib/python3.8/inspect.py\", line 1473, in getframeinfo\n",
      "    filename = getsourcefile(frame) or getfile(frame)\n",
      "  File \"/home/users/lewis841214/.conda/envs/tomosipo/lib/python3.8/inspect.py\", line 708, in getsourcefile\n",
      "    if getattr(getmodule(object, filename), '__loader__', None) is not None:\n",
      "  File \"/home/users/lewis841214/.conda/envs/tomosipo/lib/python3.8/inspect.py\", line 751, in getmodule\n",
      "    f = getabsfile(module)\n",
      "  File \"/home/users/lewis841214/.conda/envs/tomosipo/lib/python3.8/inspect.py\", line 720, in getabsfile\n",
      "    _filename = getsourcefile(object) or getfile(object)\n",
      "  File \"/home/users/lewis841214/.conda/envs/tomosipo/lib/python3.8/inspect.py\", line 705, in getsourcefile\n",
      "    if os.path.exists(filename):\n",
      "  File \"/home/users/lewis841214/.conda/envs/tomosipo/lib/python3.8/genericpath.py\", line 19, in exists\n",
      "    os.stat(path)\n",
      "KeyboardInterrupt\n"
     ]
    },
    {
     "name": "stderr",
     "output_type": "stream",
     "text": [
      "ERROR:root:Internal Python error in the inspect module.\n",
      "Below is the traceback from this internal error.\n",
      "\n"
     ]
    },
    {
     "name": "stdout",
     "output_type": "stream",
     "text": [
      "Traceback (most recent call last):\n",
      "  File \"/home/users/lewis841214/.conda/envs/tomosipo/lib/python3.8/site-packages/IPython/core/interactiveshell.py\", line 3444, in run_code\n",
      "    exec(code_obj, self.user_global_ns, self.user_ns)\n",
      "  File \"/tmp/ipykernel_60987/1506376272.py\", line 9, in <module>\n",
      "    MP3.fit(0.01 * 5)\n",
      "  File \"/tmp/ipykernel_60987/3226514352.py\", line 290, in fit\n",
      "    self.Maximization(ratio)\n",
      "  File \"/tmp/ipykernel_60987/3226514352.py\", line 190, in Maximization\n",
      "    self.A_pro_All_U()\n",
      "  File \"/tmp/ipykernel_60987/3226514352.py\", line 90, in A_pro_All_U\n",
      "    self.AU = self.op( self.All_U) # n x Dx Dx D -> n x D x N x D\n",
      "  File \"/home/users/lewis841214/Desktop/1project/CryoEMCode/GPU_CryoEM/tomosipo/tomosipo/torch_support.py\", line 85, in f\n",
      "    return OperatorFunction.apply(x, operator)\n",
      "  File \"/home/users/lewis841214/Desktop/1project/CryoEMCode/GPU_CryoEM/tomosipo/tomosipo/torch_support.py\", line 35, in forward\n",
      "    operator(input[i], out=out[i])\n",
      "  File \"/home/users/lewis841214/Desktop/1project/CryoEMCode/GPU_CryoEM/tomosipo/tomosipo/Operator.py\", line 253, in __call__\n",
      "    return self._fp(volume, out)\n",
      "  File \"/home/users/lewis841214/Desktop/1project/CryoEMCode/GPU_CryoEM/tomosipo/tomosipo/Operator.py\", line 187, in _fp\n",
      "    direct_fp(self.astra_projector, vlink, plink, additive=self.additive)\n",
      "  File \"/home/users/lewis841214/Desktop/1project/CryoEMCode/GPU_CryoEM/tomosipo/tomosipo/astra.py\", line 178, in direct_fp\n",
      "    return direct_project(\n",
      "  File \"/home/users/lewis841214/Desktop/1project/CryoEMCode/GPU_CryoEM/tomosipo/tomosipo/astra.py\", line 147, in direct_project\n",
      "    astra.experimental.direct_FPBP3D(\n",
      "KeyboardInterrupt\n",
      "\n",
      "During handling of the above exception, another exception occurred:\n",
      "\n",
      "Traceback (most recent call last):\n",
      "  File \"/home/users/lewis841214/.conda/envs/tomosipo/lib/python3.8/site-packages/IPython/core/interactiveshell.py\", line 2064, in showtraceback\n",
      "    stb = value._render_traceback_()\n",
      "AttributeError: 'KeyboardInterrupt' object has no attribute '_render_traceback_'\n",
      "\n",
      "During handling of the above exception, another exception occurred:\n",
      "\n",
      "Traceback (most recent call last):\n",
      "  File \"/home/users/lewis841214/.conda/envs/tomosipo/lib/python3.8/site-packages/IPython/core/interactiveshell.py\", line 3364, in run_ast_nodes\n",
      "    if (await self.run_code(code, result,  async_=asy)):\n",
      "  File \"/home/users/lewis841214/.conda/envs/tomosipo/lib/python3.8/site-packages/IPython/core/interactiveshell.py\", line 3461, in run_code\n",
      "    self.showtraceback(running_compiled_code=True)\n",
      "  File \"/home/users/lewis841214/.conda/envs/tomosipo/lib/python3.8/site-packages/IPython/core/interactiveshell.py\", line 2066, in showtraceback\n",
      "    stb = self.InteractiveTB.structured_traceback(etype,\n",
      "  File \"/home/users/lewis841214/.conda/envs/tomosipo/lib/python3.8/site-packages/IPython/core/ultratb.py\", line 1367, in structured_traceback\n",
      "    return FormattedTB.structured_traceback(\n",
      "  File \"/home/users/lewis841214/.conda/envs/tomosipo/lib/python3.8/site-packages/IPython/core/ultratb.py\", line 1267, in structured_traceback\n",
      "    return VerboseTB.structured_traceback(\n",
      "  File \"/home/users/lewis841214/.conda/envs/tomosipo/lib/python3.8/site-packages/IPython/core/ultratb.py\", line 1124, in structured_traceback\n",
      "    formatted_exception = self.format_exception_as_a_whole(etype, evalue, etb, number_of_lines_of_context,\n",
      "  File \"/home/users/lewis841214/.conda/envs/tomosipo/lib/python3.8/site-packages/IPython/core/ultratb.py\", line 1082, in format_exception_as_a_whole\n",
      "    last_unique, recursion_repeat = find_recursion(orig_etype, evalue, records)\n",
      "  File \"/home/users/lewis841214/.conda/envs/tomosipo/lib/python3.8/site-packages/IPython/core/ultratb.py\", line 382, in find_recursion\n",
      "    return len(records), 0\n",
      "TypeError: object of type 'NoneType' has no len()\n",
      "\n",
      "During handling of the above exception, another exception occurred:\n",
      "\n",
      "Traceback (most recent call last):\n",
      "  File \"/home/users/lewis841214/.conda/envs/tomosipo/lib/python3.8/site-packages/IPython/core/interactiveshell.py\", line 2064, in showtraceback\n",
      "    stb = value._render_traceback_()\n",
      "AttributeError: 'TypeError' object has no attribute '_render_traceback_'\n",
      "\n",
      "During handling of the above exception, another exception occurred:\n",
      "\n",
      "Traceback (most recent call last):\n",
      "  File \"/home/users/lewis841214/.conda/envs/tomosipo/lib/python3.8/site-packages/IPython/core/interactiveshell.py\", line 2947, in _run_cell\n",
      "    return runner(coro)\n",
      "  File \"/home/users/lewis841214/.conda/envs/tomosipo/lib/python3.8/site-packages/IPython/core/async_helpers.py\", line 68, in _pseudo_sync_runner\n",
      "    coro.send(None)\n",
      "  File \"/home/users/lewis841214/.conda/envs/tomosipo/lib/python3.8/site-packages/IPython/core/interactiveshell.py\", line 3172, in run_cell_async\n",
      "    has_raised = await self.run_ast_nodes(code_ast.body, cell_name,\n",
      "  File \"/home/users/lewis841214/.conda/envs/tomosipo/lib/python3.8/site-packages/IPython/core/interactiveshell.py\", line 3383, in run_ast_nodes\n",
      "    self.showtraceback()\n",
      "  File \"/home/users/lewis841214/.conda/envs/tomosipo/lib/python3.8/site-packages/IPython/core/interactiveshell.py\", line 2066, in showtraceback\n",
      "    stb = self.InteractiveTB.structured_traceback(etype,\n",
      "  File \"/home/users/lewis841214/.conda/envs/tomosipo/lib/python3.8/site-packages/IPython/core/ultratb.py\", line 1367, in structured_traceback\n",
      "    return FormattedTB.structured_traceback(\n",
      "  File \"/home/users/lewis841214/.conda/envs/tomosipo/lib/python3.8/site-packages/IPython/core/ultratb.py\", line 1267, in structured_traceback\n",
      "    return VerboseTB.structured_traceback(\n",
      "  File \"/home/users/lewis841214/.conda/envs/tomosipo/lib/python3.8/site-packages/IPython/core/ultratb.py\", line 1142, in structured_traceback\n",
      "    formatted_exceptions += self.format_exception_as_a_whole(etype, evalue, etb, lines_of_context,\n",
      "  File \"/home/users/lewis841214/.conda/envs/tomosipo/lib/python3.8/site-packages/IPython/core/ultratb.py\", line 1082, in format_exception_as_a_whole\n",
      "    last_unique, recursion_repeat = find_recursion(orig_etype, evalue, records)\n",
      "  File \"/home/users/lewis841214/.conda/envs/tomosipo/lib/python3.8/site-packages/IPython/core/ultratb.py\", line 382, in find_recursion\n",
      "    return len(records), 0\n",
      "TypeError: object of type 'NoneType' has no len()\n",
      "\n",
      "During handling of the above exception, another exception occurred:\n",
      "\n",
      "Traceback (most recent call last):\n",
      "  File \"/home/users/lewis841214/.conda/envs/tomosipo/lib/python3.8/site-packages/IPython/core/interactiveshell.py\", line 2064, in showtraceback\n",
      "    stb = value._render_traceback_()\n",
      "AttributeError: 'TypeError' object has no attribute '_render_traceback_'\n",
      "\n",
      "During handling of the above exception, another exception occurred:\n",
      "\n",
      "Traceback (most recent call last):\n",
      "  File \"/home/users/lewis841214/.conda/envs/tomosipo/lib/python3.8/site-packages/IPython/core/ultratb.py\", line 1101, in get_records\n",
      "    return _fixed_getinnerframes(etb, number_of_lines_of_context, tb_offset)\n",
      "  File \"/home/users/lewis841214/.conda/envs/tomosipo/lib/python3.8/site-packages/IPython/core/ultratb.py\", line 248, in wrapped\n",
      "    return f(*args, **kwargs)\n",
      "  File \"/home/users/lewis841214/.conda/envs/tomosipo/lib/python3.8/site-packages/IPython/core/ultratb.py\", line 281, in _fixed_getinnerframes\n",
      "    records = fix_frame_records_filenames(inspect.getinnerframes(etb, context))\n",
      "  File \"/home/users/lewis841214/.conda/envs/tomosipo/lib/python3.8/inspect.py\", line 1515, in getinnerframes\n",
      "    frameinfo = (tb.tb_frame,) + getframeinfo(tb, context)\n",
      "  File \"/home/users/lewis841214/.conda/envs/tomosipo/lib/python3.8/inspect.py\", line 1473, in getframeinfo\n",
      "    filename = getsourcefile(frame) or getfile(frame)\n",
      "  File \"/home/users/lewis841214/.conda/envs/tomosipo/lib/python3.8/inspect.py\", line 708, in getsourcefile\n",
      "    if getattr(getmodule(object, filename), '__loader__', None) is not None:\n",
      "  File \"/home/users/lewis841214/.conda/envs/tomosipo/lib/python3.8/inspect.py\", line 751, in getmodule\n",
      "    f = getabsfile(module)\n",
      "  File \"/home/users/lewis841214/.conda/envs/tomosipo/lib/python3.8/inspect.py\", line 720, in getabsfile\n",
      "    _filename = getsourcefile(object) or getfile(object)\n",
      "  File \"/home/users/lewis841214/.conda/envs/tomosipo/lib/python3.8/inspect.py\", line 705, in getsourcefile\n",
      "    if os.path.exists(filename):\n",
      "  File \"/home/users/lewis841214/.conda/envs/tomosipo/lib/python3.8/genericpath.py\", line 19, in exists\n",
      "    os.stat(path)\n",
      "KeyboardInterrupt\n"
     ]
    }
   ],
   "source": [
    "ProjSize, num_image, n_component = 25, 5000, 5\n",
    "\n",
    "Vol_geom = astra.create_vol_geom(25, 25, 25)\n",
    "#Images = torch.ones(num_image, 48, 48) # fake images for computing purpose\n",
    "vg = ts.from_astra(Vol_geom)\n",
    "pg = ts.from_astra(Proj_geom)\n",
    "op = ts.operator(vg, pg)\n",
    "MP3 = MPCA_3d_recon(ProjSize, num_image, n_component, op , Images)\n",
    "MP3.fit(0.01 * 5)\n",
    "\"\"\"\n",
    "MP3.A_pro_All_U()\n",
    "\n",
    "MP3.Plot_temp()\n",
    "MP3.Q_Function()\n",
    "\n",
    "MP3.Expectation()\n",
    "MP3.Q_Function()\n",
    "MP3.Maximization()\n",
    "MP3.Plot_temp()\n",
    "MP3.Q_Function()\n",
    "print(MP3.All_U.shape)\n",
    "\"\"\"\n"
   ]
  },
  {
   "cell_type": "code",
   "execution_count": null,
   "id": "31b13731",
   "metadata": {},
   "outputs": [
    {
     "name": "stdout",
     "output_type": "stream",
     "text": [
      "oritinal\n",
      "generated\n"
     ]
    },
    {
     "data": {
      "image/png": "[encoded data removed]",
      "text/plain": [
       "<Figure size 432x288 with 1 Axes>"
      ]
     },
     "metadata": {
      "needs_background": "light"
     },
     "output_type": "display_data"
    },
    {
     "name": "stdout",
     "output_type": "stream",
     "text": [
      "real\n"
     ]
    },
    {
     "data": {
      "image/png": "[encoded data removed]",
      "text/plain": [
       "<Figure size 432x288 with 1 Axes>"
      ]
     },
     "metadata": {
      "needs_background": "light"
     },
     "output_type": "display_data"
    },
    {
     "name": "stdout",
     "output_type": "stream",
     "text": [
      "self.Q torch.Size([]) tensor(inf, grad_fn=<MulBackward0>)\n",
      "the 0 th iter\n",
      "generated\n"
     ]
    },
    {
     "data": {
      "image/png": "[encoded data removed]",
      "text/plain": [
       "<Figure size 432x288 with 1 Axes>"
      ]
     },
     "metadata": {
      "needs_background": "light"
     },
     "output_type": "display_data"
    },
    {
     "name": "stdout",
     "output_type": "stream",
     "text": [
      "real\n"
     ]
    },
    {
     "data": {
      "image/png": "[encoded data removed]",
      "text/plain": [
       "<Figure size 432x288 with 1 Axes>"
      ]
     },
     "metadata": {
      "needs_background": "light"
     },
     "output_type": "display_data"
    },
    {
     "name": "stdout",
     "output_type": "stream",
     "text": [
      "self.Q torch.Size([]) tensor(inf, grad_fn=<MulBackward0>)\n",
      "self.Q torch.Size([]) tensor(inf, grad_fn=<MulBackward0>)\n",
      "self.Q torch.Size([]) tensor(inf, grad_fn=<MulBackward0>)\n",
      "the 3 th iter\n",
      "generated\n"
     ]
    },
    {
     "data": {
      "image/png": "[encoded data removed]",
      "text/plain": [
       "<Figure size 432x288 with 1 Axes>"
      ]
     },
     "metadata": {
      "needs_background": "light"
     },
     "output_type": "display_data"
    },
    {
     "name": "stdout",
     "output_type": "stream",
     "text": [
      "real\n"
     ]
    },
    {
     "data": {
      "image/png": "[encoded data removed]",
      "text/plain": [
       "<Figure size 432x288 with 1 Axes>"
      ]
     },
     "metadata": {
      "needs_background": "light"
     },
     "output_type": "display_data"
    },
    {
     "name": "stdout",
     "output_type": "stream",
     "text": [
      "self.Q torch.Size([]) tensor(inf, grad_fn=<MulBackward0>)\n",
      "self.Q torch.Size([]) tensor(inf, grad_fn=<MulBackward0>)\n",
      "self.Q torch.Size([]) tensor(inf, grad_fn=<MulBackward0>)\n",
      "the 6 th iter\n",
      "generated\n"
     ]
    },
    {
     "data": {
      "image/png": "[encoded data removed]",
      "text/plain": [
       "<Figure size 432x288 with 1 Axes>"
      ]
     },
     "metadata": {
      "needs_background": "light"
     },
     "output_type": "display_data"
    },
    {
     "name": "stdout",
     "output_type": "stream",
     "text": [
      "real\n"
     ]
    },
    {
     "data": {
      "image/png": "[encoded data removed]",
      "text/plain": [
       "<Figure size 432x288 with 1 Axes>"
      ]
     },
     "metadata": {
      "needs_background": "light"
     },
     "output_type": "display_data"
    },
    {
     "name": "stdout",
     "output_type": "stream",
     "text": [
      "self.Q torch.Size([]) tensor(inf, grad_fn=<MulBackward0>)\n",
      "self.Q torch.Size([]) tensor(inf, grad_fn=<MulBackward0>)\n"
     ]
    }
   ],
   "source": [
    "#iter = 237 save U1, U2, U3\n",
    "temp = [[]] \n",
    "temp[0].append(MP3.U1)\n",
    "temp[0].append(MP3.U2)\n",
    "temp[0].append(MP3.U3)\n",
    "MP3.fit()\n"
   ]
  },
  {
   "cell_type": "code",
   "execution_count": 63,
   "id": "deb3b55c",
   "metadata": {},
   "outputs": [
    {
     "name": "stdout",
     "output_type": "stream",
     "text": [
      "generated\n"
     ]
    },
    {
     "data": {
      "image/png": "[encoded data removed]",
      "text/plain": [
       "<Figure size 432x288 with 1 Axes>"
      ]
     },
     "metadata": {
      "needs_background": "light"
     },
     "output_type": "display_data"
    },
    {
     "name": "stdout",
     "output_type": "stream",
     "text": [
      "real\n"
     ]
    },
    {
     "data": {
      "image/png": "[encoded data removed]",
      "text/plain": [
       "<Figure size 432x288 with 1 Axes>"
      ]
     },
     "metadata": {
      "needs_background": "light"
     },
     "output_type": "display_data"
    }
   ],
   "source": [
    "c = 11\n",
    "print('generated')\n",
    "est_I = MP3.AU @ MP3.mu\n",
    "AU = est_I.detach().numpy()\n",
    "#print(AU.shape)\n",
    "image = AU[c].reshape(48,48, order = 'F')\n",
    "plt.imshow(image) # quarter rotation\n",
    "plt.show()\n",
    "#MP3.Q_Function()\n",
    "\n",
    "#MP3.Maximization()\n",
    "print('real')\n",
    "plt.imshow(Images[c])\n",
    "plt.show()"
   ]
  },
  {
   "cell_type": "code",
   "execution_count": null,
   "id": "91f7c5aa",
   "metadata": {},
   "outputs": [],
   "source": [
    "MP3.fit()\n"
   ]
  },
  {
   "cell_type": "code",
   "execution_count": null,
   "id": "7603a233",
   "metadata": {},
   "outputs": [],
   "source": [
    "c =250\n",
    "AU = MP3.AU.detach().numpy()\n",
    "print(AU.shape)\n",
    "image = AU[c].reshape(48,48, order = 'F')\n",
    "plt.imshow(image) # quarter rotation\n",
    "plt.show()\n",
    "#MP3.Q_Function()\n",
    "\n",
    "#MP3.Maximization()\n",
    "plt.imshow(Images[c])\n",
    "plt.show()"
   ]
  },
  {
   "cell_type": "code",
   "execution_count": null,
   "id": "dbe453b5",
   "metadata": {},
   "outputs": [],
   "source": [
    "MP3.Q.backward()"
   ]
  },
  {
   "cell_type": "code",
   "execution_count": null,
   "id": "3b6cb9fc",
   "metadata": {},
   "outputs": [],
   "source": [
    "MP3.U1.grad\n",
    "lr = torch.mean(torch.abs(MP3.U1)) /  torch.mean(torch.abs(MP3.U1.grad))\n",
    "print(lr)\n",
    "MP3.U1 = MP3.U1 + lr * MP3.U1.grad\n",
    "\n",
    "MP3.U1.grad.data.zero_()"
   ]
  },
  {
   "cell_type": "code",
   "execution_count": null,
   "id": "b4fb9b22",
   "metadata": {},
   "outputs": [],
   "source": [
    "#print(MP3.U1.grad)\n",
    "#MP3.U1.grad.data.zero_()"
   ]
  },
  {
   "cell_type": "code",
   "execution_count": null,
   "id": "b0867fcb",
   "metadata": {},
   "outputs": [],
   "source": []
  },
  {
   "cell_type": "code",
   "execution_count": null,
   "id": "68dc656c",
   "metadata": {},
   "outputs": [],
   "source": [
    "t_list = [] \n",
    "for i in range(5):\n",
    "    t_list.append(torch.eye(ProjSize, requires_grad = True))\n",
    "loss = 0\n",
    "for i in range(5):\n",
    "    loss = loss + t_list[i]\n",
    "\n",
    "loss = torch.sum(loss)\n",
    "print(loss)\n",
    "loss.backward()"
   ]
  },
  {
   "cell_type": "code",
   "execution_count": null,
   "id": "27375222",
   "metadata": {},
   "outputs": [],
   "source": [
    "t_list[0].grad"
   ]
  },
  {
   "cell_type": "code",
   "execution_count": null,
   "id": "62a0b737",
   "metadata": {},
   "outputs": [],
   "source": []
  }
 ],
 "metadata": {
  "kernelspec": {
   "display_name": "Python 3 (ipykernel)",
   "language": "python",
   "name": "python3"
  },
  "language_info": {
   "codemirror_mode": {
    "name": "ipython",
    "version": 3
   },
   "file_extension": ".py",
   "mimetype": "text/x-python",
   "name": "python",
   "nbconvert_exporter": "python",
   "pygments_lexer": "ipython3",
   "version": "3.8.12"
  }
 },
 "nbformat": 4,
 "nbformat_minor": 5
}
