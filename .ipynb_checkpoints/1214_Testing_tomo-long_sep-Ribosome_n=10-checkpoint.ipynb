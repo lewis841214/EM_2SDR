{
 "cells": [
  {
   "cell_type": "code",
   "execution_count": 12,
   "metadata": {},
   "outputs": [],
   "source": [
    "import tomosipo as ts\n",
    "import numpy as np\n",
    "import pickle"
   ]
  },
  {
   "cell_type": "code",
   "execution_count": 13,
   "metadata": {},
   "outputs": [],
   "source": [
    "vg = ts.volume(shape=(32, 32, 32), size=(1, 1, 1))\n",
    "pg = ts.parallel(angles=32, shape=(48, 48), size=(1.5, 1.5))"
   ]
  },
  {
   "cell_type": "code",
   "execution_count": 14,
   "metadata": {},
   "outputs": [],
   "source": [
    "svg = ts.svg(vg, pg)\n",
    "svg.save(\"./doc/img/intro_forward_projection_geometries.svg\")"
   ]
  },
  {
   "cell_type": "code",
   "execution_count": 15,
   "metadata": {},
   "outputs": [],
   "source": [
    "A = ts.operator(vg, pg)\n"
   ]
  },
  {
   "cell_type": "code",
   "execution_count": 16,
   "metadata": {},
   "outputs": [],
   "source": [
    "x = np.ones(A.domain_shape, dtype=np.float32)"
   ]
  },
  {
   "cell_type": "code",
   "execution_count": 17,
   "metadata": {},
   "outputs": [],
   "source": [
    "y = A(x)"
   ]
  },
  {
   "cell_type": "code",
   "execution_count": 18,
   "metadata": {},
   "outputs": [
    {
     "data": {
      "image/png": "[encoded data removed]",
      "text/plain": [
       "<Figure size 432x288 with 1 Axes>"
      ]
     },
     "metadata": {
      "needs_background": "light"
     },
     "output_type": "display_data"
    },
    {
     "data": {
      "image/png": "[encoded data removed]",
      "text/plain": [
       "<Figure size 432x288 with 1 Axes>"
      ]
     },
     "metadata": {
      "needs_background": "light"
     },
     "output_type": "display_data"
    }
   ],
   "source": [
    "import matplotlib.pyplot as plt\n",
    "plt.imshow(y[:, 0, :]) # first projection\n",
    "plt.show()\n",
    "plt.imshow(y[:, 8, :]) # quarter rotation\n",
    "plt.show()"
   ]
  },
  {
   "cell_type": "code",
   "execution_count": 19,
   "metadata": {},
   "outputs": [
    {
     "name": "stdout",
     "output_type": "stream",
     "text": [
      "(75, 75, 75)\n",
      "(75, 75, 75)\n",
      "(75, 75, 75)\n",
      "(75, 75, 75)\n",
      "(75, 75, 75)\n",
      "54.881203\n",
      "53.561424\n",
      "54.165997\n",
      "55.659084\n",
      "52.785446\n",
      "34\n"
     ]
    }
   ],
   "source": [
    "import mrcfile\n",
    "import numpy as np\n",
    "from scipy.ndimage import zoom\n",
    "\n",
    "Vol_list = [] \n",
    "side_size = 20\n",
    "for i in range(5):\n",
    "\n",
    "    file_name = f'./data/grp{i}.mrc'\n",
    "    with mrcfile.open(file_name) as mrcVol:\n",
    "        Vol_list.append(np.array(mrcVol.data) )\n",
    "        #ProjSize1 = int(np.sqrt(np.sum(np.square(Vol1.shape))))\n",
    "    print(Vol_list[i].shape)\n",
    "    \n",
    "    #Then reshape\n",
    "    h, w, l = Vol_list[i].shape[0], Vol_list[i].shape[1], Vol_list[i].shape[2]\n",
    "    Vol_list[i] = zoom(Vol_list[i], (side_size/h, side_size/w, side_size/l))\n",
    "for i in range(5):\n",
    "    #print(Vol_list[i].shape)\n",
    "    print(np.var(Vol_list[i]))\n",
    "ProjSize = int(np.sqrt(np.sum(np.square(Vol_list[0].shape))))\n",
    "print(ProjSize)"
   ]
  },
  {
   "cell_type": "code",
   "execution_count": 20,
   "metadata": {},
   "outputs": [
    {
     "name": "stdout",
     "output_type": "stream",
     "text": [
      "[[3.4465488  2.20993514 3.785354  ]\n",
      " [3.42186639 1.30909333 4.05621503]\n",
      " [2.74804769 2.75557857 6.05180214]\n",
      " [2.40801274 2.44643037 3.3214601 ]\n",
      " [3.56731984 2.86009361 0.44610645]\n",
      " [0.547172   0.06247485 5.22885263]\n",
      " [4.8868244  2.68833754 6.14572319]\n",
      " [5.01871578 1.42597123 4.90172323]\n",
      " [0.74276339 1.97735596 0.90025864]\n",
      " [5.9325208  1.61251131 2.60407698]\n",
      " [1.66140924 2.3923821  2.86462409]\n",
      " [3.5697652  0.05806048 3.87875092]\n",
      " [3.84396114 1.90632605 5.92673793]\n",
      " [4.28183148 1.11087941 2.74456067]\n",
      " [4.38112391 0.18609671 4.18729497]\n",
      " [4.21160582 0.65008211 0.80965715]\n",
      " [1.98089004 1.12386628 3.58083572]\n",
      " [2.7544175  3.05407516 0.64084141]\n",
      " [1.31174603 0.49844641 4.10152028]\n",
      " [1.59067126 1.44090029 1.53499272]]\n"
     ]
    }
   ],
   "source": [
    "import numpy as np\n",
    "num_angle = 15000\n",
    "np.random.seed(0)\n",
    "random_angles = np.random.rand(num_angle, 3)\n",
    "random_angles[:,0] = random_angles[:,0] * 6.28\n",
    "random_angles[:,1] = random_angles[:,1] * 3.09\n",
    "random_angles[:,2] = random_angles[:,2] * 6.28\n",
    "\n",
    "print(random_angles[:20])\n",
    "angles2 = random_angles"
   ]
  },
  {
   "cell_type": "code",
   "execution_count": 21,
   "metadata": {},
   "outputs": [],
   "source": [
    "with open('Ribosome.pkl', 'rb') as f:\n",
    "    new_projection = pickle.load(f)"
   ]
  },
  {
   "cell_type": "code",
   "execution_count": 22,
   "metadata": {},
   "outputs": [
    {
     "name": "stdout",
     "output_type": "stream",
     "text": [
      "(15000, 34, 34)\n"
     ]
    }
   ],
   "source": [
    "print(new_projection.shape)"
   ]
  },
  {
   "cell_type": "code",
   "execution_count": 23,
   "metadata": {},
   "outputs": [
    {
     "name": "stdout",
     "output_type": "stream",
     "text": [
      "(5000, 12)\n"
     ]
    }
   ],
   "source": [
    "import astra\n",
    "ProjSize = 34\n",
    "with open('/home/users/lewis841214/Desktop/1project/CryoEMCode/protein-reconstruction/cryoem/Orientation_Vectors.pkl', 'rb') as handle:\n",
    "    Orientation_Vectors = pickle.load(handle  )\n",
    "Orientation_Vectors = Orientation_Vectors\n",
    "print(Orientation_Vectors.shape)\n",
    "Proj_geom = astra.create_proj_geom('parallel3d_vec', ProjSize, ProjSize, Orientation_Vectors)\n"
   ]
  },
  {
   "cell_type": "code",
   "execution_count": 24,
   "metadata": {},
   "outputs": [],
   "source": [
    "from tomosipo.geometry.parallel_vec import *\n",
    "#pg = ParallelVectorGeometry.from_astra(Proj_geom)\n",
    "pg = ts.from_astra(Proj_geom)"
   ]
  },
  {
   "cell_type": "code",
   "execution_count": 25,
   "metadata": {},
   "outputs": [],
   "source": [
    "#vg = ts.volume(shape=(32, 32, 32), size=(1, 1, 1))\n",
    "#pg = ts.parallel(angles=50, shape=(48, 48), size=(1.5, 1.5))\n",
    "Vol_geom = astra.create_vol_geom(32, 32, 32)\n",
    "vg = ts.from_astra(Vol_geom)\n",
    "pg = ts.from_astra(Proj_geom)\n",
    "A = ts.operator(vg, pg)\n",
    "from scipy.ndimage import zoom\n"
   ]
  },
  {
   "cell_type": "code",
   "execution_count": null,
   "metadata": {},
   "outputs": [],
   "source": []
  },
  {
   "cell_type": "code",
   "execution_count": 26,
   "metadata": {},
   "outputs": [
    {
     "name": "stdout",
     "output_type": "stream",
     "text": [
      "[[-0.59650447 -0.48173293  0.64196246]\n",
      " [ 0.25872594 -0.76535396  0.58931673]\n",
      " [-0.92641711 -0.08634023 -0.36646515]\n",
      " [-0.76794977 -0.11458671  0.63017699]\n",
      " [-0.96064009  0.11985684 -0.25060917]]\n",
      "[[-0.24098466  0.87043718  0.42926159]\n",
      " [-0.26720006  0.52957799  0.80507843]\n",
      " [ 0.14437403 -0.98040985 -0.13398753]\n",
      " [ 0.42884264  0.63881513  0.638756  ]\n",
      " [-0.11472507 -0.99277904 -0.03504201]]\n",
      "[[-0.76557744  0.10135335 -0.63530991]\n",
      " [-0.92825913 -0.36576014 -0.06748706]\n",
      " [-0.34771753 -0.17703639  0.92073375]\n",
      " [-0.47575954  0.76077928 -0.44143826]\n",
      " [-0.25299956 -0.00491161  0.96745393]]\n"
     ]
    }
   ],
   "source": [
    "print(pg.ray_dir[:5])\n",
    "print(pg.det_v[:5])\n",
    "print(pg.det_u[:5])\n"
   ]
  },
  {
   "cell_type": "code",
   "execution_count": 27,
   "metadata": {},
   "outputs": [
    {
     "name": "stdout",
     "output_type": "stream",
     "text": [
      "[[ 0.64196246 -0.48173293 -0.59650447  0.          0.          0.\n",
      "  -0.63530991  0.10135335 -0.76557744  0.42926159  0.87043718 -0.24098466]\n",
      " [ 0.58931673 -0.76535396  0.25872594  0.          0.          0.\n",
      "  -0.06748706 -0.36576014 -0.92825913  0.80507843  0.52957799 -0.26720006]\n",
      " [-0.36646515 -0.08634023 -0.92641711  0.          0.          0.\n",
      "   0.92073375 -0.17703639 -0.34771753 -0.13398753 -0.98040985  0.14437403]\n",
      " [ 0.63017699 -0.11458671 -0.76794977  0.          0.          0.\n",
      "  -0.44143826  0.76077928 -0.47575954  0.638756    0.63881513  0.42884264]\n",
      " [-0.25060917  0.11985684 -0.96064009  0.          0.          0.\n",
      "   0.96745393 -0.00491161 -0.25299956 -0.03504201 -0.99277904 -0.11472507]]\n",
      "ts.parallel_vec(\n",
      "    shape=(34, 34),\n",
      "    ray_dir=array([[-0.59650447, -0.48173293,  0.64196246],\n",
      "       [ 0.25872594, -0.76535396,  0.58931673],\n",
      "       [-0.92641711, -0.08634023, -0.36646515],\n",
      "       [-0.76794977, -0.11458671,  0.63017699],\n",
      "       [-0.96064009,  0.11985684, -0.25060917]]),\n",
      "    det_pos=array([[ 1.77635684e-15,  0.00000000e+00, -8.88178420e-16],\n",
      "       [ 0.00000000e+00,  0.00000000e+00,  0.00000000e+00],\n",
      "       [ 2.22044605e-16, -1.77635684e-15,  0.00000000e+00],\n",
      "       [ 0.00000000e+00,  1.77635684e-15,  4.44089210e-16],\n",
      "       [ 0.00000000e+00,  1.77635684e-15,  8.88178420e-16]]),\n",
      "    det_v=array([[-0.24098466,  0.87043718,  0.42926159],\n",
      "       [-0.26720006,  0.52957799,  0.80507843],\n",
      "       [ 0.14437403, -0.98040985, -0.13398753],\n",
      "       [ 0.42884264,  0.63881513,  0.638756  ],\n",
      "       [-0.11472507, -0.99277904, -0.03504201]]),\n",
      "    det_u=array([[-0.76557744,  0.10135335, -0.63530991],\n",
      "       [-0.92825913, -0.36576014, -0.06748706],\n",
      "       [-0.34771753, -0.17703639,  0.92073375],\n",
      "       [-0.47575954,  0.76077928, -0.44143826],\n",
      "       [-0.25299956, -0.00491161,  0.96745393]]),\n",
      ")\n"
     ]
    }
   ],
   "source": [
    "print(Orientation_Vectors[:5])\n",
    "print(pg[:5])"
   ]
  },
  {
   "cell_type": "code",
   "execution_count": 66,
   "metadata": {},
   "outputs": [],
   "source": [
    "from tomosipo.torch_support import to_autograd\n",
    "import time\n",
    "\"\"\"\n",
    "First step. write out the\n",
    "1. Expectation\n",
    "2. likelihood\n",
    "Then use .backward solve it\n",
    "\n",
    "\n",
    "For AU with U with batch n^3, to_autograd take batch input, which is actually what I want!!!!, so no need for one by one concatenate!!!\n",
    "\n",
    "\"\"\"\n",
    "def reshape_fortran(x, shape):\n",
    "    if len(x.shape) > 0:\n",
    "        x = x.permute(*reversed(range(len(x.shape))))\n",
    "    return x.reshape(*reversed(shape)).permute(*reversed(range(len(shape))))\n",
    "def Trace_bradcast(a):\n",
    "    b = torch.einsum('bii->b', a)\n",
    "    return b\n",
    "import torch\n",
    "\n",
    "\n",
    "class MPCA_3d_recon():\n",
    "    def __init__(self, ProjSize, num_image, n_component, op, Images, exp_name):\n",
    "        #init\n",
    "        self.exp_name = exp_name\n",
    "        self.ProjSize  = ProjSize\n",
    "        self.z_size = n_component # First set 1 for simplicity\n",
    "        self.num_image = num_image\n",
    "        self.n_component = n_component\n",
    "        \n",
    "        \"\"\"\n",
    "        projection operator and images\n",
    "        \"\"\"\n",
    "        self.op = to_autograd(op)\n",
    "        Images = torch.tensor(Images)\n",
    "        self.I = reshape_fortran(Images, (self.num_image, self.ProjSize*self.ProjSize , 1)).float() # N x D^2 x 1\n",
    "        \"\"\"\n",
    "        paramters we want to find\n",
    "        \"\"\"\n",
    "        self.U1 = torch.eye(self.ProjSize)[:, :self.z_size] +1\n",
    "        self.U2 = torch.eye(self.ProjSize)[:, :self.z_size] +1 \n",
    "        self.U3 = torch.eye(self.ProjSize)[:, :self.z_size] +1\n",
    "        #print('self.U1',self.U1.shape)\n",
    "        self.U1.data = torch.qr(self.U1.data)[0]\n",
    "        self.U2.data = torch.qr(self.U2.data)[0]\n",
    "        self.U3.data = torch.qr(self.U3.data)[0]\n",
    "        #print('ortho_U1',ortho_U1.shape)\n",
    "        #print(ortho_U1.T@ortho_U1)\n",
    "        \n",
    "        self.U1.requires_grad =True\n",
    "        self.U2.requires_grad =True\n",
    "        self.U3.requires_grad =True\n",
    "        self.All_U = torch.kron(self.U1, torch.kron(self.U2, self.U3))\n",
    "        self.Sigma_Z_inv = torch.eye(self.n_component ** 3) # size: p1 x p2 x p3 \n",
    "        self.sigma = torch.ones(self.num_image).reshape(-1, 1 ,1) * 1\n",
    "        \n",
    "        \"\"\"\n",
    "        Expectation term\n",
    "        or so called missing data\n",
    "        \"\"\"\n",
    "        self.mu = torch.abs(torch.ones((num_image, n_component **3,1)))\n",
    "        self.BigSigma_I = torch.abs(torch.ones((self.num_image, self.n_component**3, self.n_component**3 )))\n",
    "\n",
    "       \n",
    "\n",
    "    def A_pro_All_U(self, detach_list = []):\n",
    "        print('in A por U')\n",
    "        #self.All_U # shape = Ps ^3 x n  ^3: which we should make it Ps x Ps x Ps x n ^3 to process\n",
    "        #A: Ps x Ps x Ps x 1 ->  Ps x Ps x 1\n",
    "        \n",
    "        #So overal, we have Mu = N x D^3 x n^3\n",
    "        #AMu = N x D^2 x n^3\n",
    "        \"\"\"\n",
    "        for i in range(self.n_component**3):\n",
    "            Vol_i = self.All_U[:, i].reshape(self.ProjSize, self.ProjSize,self.ProjSize)\n",
    "            Proj_i = self.op(Vol_i).permute(1, 0, 2)\n",
    "            Proj_i = reshape_fortran(Proj_i, (self.num_image, self.ProjSize*self.ProjSize ,1))\n",
    "            \n",
    "            #print(Proj_i.shape)\n",
    "            if i == 0:\n",
    "                self.AU = Proj_i\n",
    "            else:\n",
    "                self.AU = torch.cat((self.AU, Proj_i), 2)\n",
    "        #print('self.AU',self.AU.shape)\n",
    "        \n",
    "        #Broad cast: torch.matmul\n",
    "        # (AU).T(AU) = torch.matmul(self.AU.permute(0,2,1), self.AU.permute(0,2,1))\n",
    "        #torch.matmul(self.AU.permute(0,2,1), self.AU)\n",
    "        \"\"\"\n",
    "        U1 , U2, U3 = self.U1, self.U2, self.U3\n",
    "        if 1 in detach_list:\n",
    "            U1 = U1.detach()\n",
    "        if 2 in detach_list:\n",
    "            U2 = U2.detach()\n",
    "        if 3 in detach_list:\n",
    "            U3 = U3.detach()\n",
    "        \n",
    "        \n",
    "        self.All_U = torch.kron(U1, torch.kron(U2, U3))\n",
    "        self.All_U = reshape_fortran(self.All_U, (self.ProjSize, self.ProjSize, self.ProjSize, self.n_component**3)) #D^3 x n^3 -> D xD x D x n^3\n",
    "        self.All_U = self.All_U.permute(3, 0, 1, 2) # make it n x Dx Dx D\n",
    "        #print(self.All_U.shape)\n",
    "        self.AU = self.op( self.All_U) # n x Dx Dx D -> n x D x N x D\n",
    "        #print('self.AU',self.AU.shape)\n",
    "        self.AU = self.AU.permute(2, 0, 1, 3) # N x n x D x D\n",
    "        self.AU = reshape_fortran(self.AU, (self.num_image, self.n_component**3, self.ProjSize**2))\n",
    "        self.AU = self.AU.permute(0, 2, 1) # N x n x D x D\n",
    "        \n",
    "        #print('self.AU',self.AU.shape)\n",
    "        \n",
    "    def Expectation(self):\n",
    "        print('in Exp')\n",
    "        \n",
    "        \"\"\"\n",
    "        First, get all projection information\n",
    "        \n",
    "        ro_j = 1/sigma^2 * (Sigmz_Z_inv + 1/sigma^2 * (Au)^TAu)^(-1)(Au)^TI\n",
    "        \n",
    "        #We expect to get a n_image x n_component matrix for ro\n",
    "        \n",
    "        BigSigma = I - 1 / sigma^2 * (I + 1/sigma^2 * (Au)^TAu)^(-1) (Au)^TAu9htu\n",
    "        \n",
    "        Here, the shape of All_U is PS^3 x n_component^3, but A can only process a 3d volume PS^3 at once\n",
    "        \n",
    "        \"\"\"\n",
    "        #print(torch.unsqueeze(self.Sigma_Z_inv,0  ).shape)\n",
    "        #print((1 / self.sigma **2).shape)\n",
    "        \n",
    "        UTATAU = torch.matmul(self.AU.permute(0,2,1), self.AU)\n",
    "        #print(UTAAU.shape)\n",
    "        #print((1 / self.sigma **2 * UTAAU ).shape)\n",
    "        self.mu = torch.inverse(torch.unsqueeze(self.Sigma_Z_inv,0  ) + 1 / self.sigma **2 * UTATAU ) * 1 / self.sigma **2 \n",
    "        self.mu = torch.matmul(self.mu , self.AU.permute(0,2,1))\n",
    "        self.mu = torch.matmul(self.mu, self.I)\n",
    "        #print('self.mu.shape',self.mu.shape)\n",
    "        \n",
    "        \n",
    "        \"\"\"\n",
    "        So we found Mu\n",
    "        Then we found Sigma_I\n",
    "        torch.inverse can broadcast through batch, so just use it\n",
    "        \"\"\"\n",
    "        self.BigSigma_I = torch.inverse((torch.unsqueeze(self.Sigma_Z_inv,0  ) + 1 / self.sigma **2 * UTATAU )) + torch.matmul(self.mu, self.mu.permute(0,2,1))\n",
    "        #print('self.BigSigma_I', self.BigSigma_I.shape)\n",
    "        self.mu = self.mu.detach()\n",
    "        self.BigSigma_I = self.BigSigma_I.detach()\n",
    "        \n",
    "    def Q_Function(self, ):\n",
    "        print('in Q')\n",
    "        \"\"\"\n",
    "        #left term\n",
    "        #print('self.AU', torch.mean(self.AU))\n",
    "        print('in Q')\n",
    "        print('self.mu ', torch.mean(self.mu ))\n",
    "        print('self.BigSigma_I', torch.mean(self.BigSigma_I))\n",
    "        #print('self.sigma', torch.mean(self.sigma))\n",
    "        print('self.Sigma_Z_inv',torch.mean(self.Sigma_Z_inv))\n",
    "        print('self.U1', torch.mean(self.U1))\n",
    "        print('self.U2', torch.mean(self.U2))\n",
    "        print('self.U3', torch.mean(self.U3))\n",
    "        \n",
    "        try:\n",
    "            print('self.U1.grad.data',torch.mean(self.U1.grad.data))\n",
    "            print('self.U2.grad.data',torch.mean(self.U2.grad.data))\n",
    "            print('self.U3.grad.data',torch.mean(self.U3.grad.data))\n",
    "        \n",
    "        except:\n",
    "            pass\n",
    "        \"\"\"\n",
    "        \n",
    "        left = -2 * self.I.permute(0, 2, 1) @ self.AU @ self.mu \n",
    "        #UTATAU = torch.matmul(self.AU.permute(0,2,1), self.AU)\n",
    "        #print('self.AU', self.AU.shape)\n",
    "        #print('self.BigSigma_I', self.BigSigma_I.shape)\n",
    "        #print('self.AU.permute(0,2,1)', self.AU.permute(0,2,1).shape)\n",
    "        left = left + Trace_bradcast(self.AU @ self.BigSigma_I @ self.AU.permute(0,2,1))   #self.mu.permute(0, 2, 1) @  UTATAU @ self.mu\n",
    "        left = 1 / self.sigma **2 *left\n",
    "        \n",
    "        #middle term\n",
    "        #print('self.mu', self.mu.shape)\n",
    "        #print('torch.unsqueeze(self.Sigma_Z_inv,0  )', torch.unsqueeze(self.Sigma_Z_inv,0  ).shape)\n",
    "        #middle = self.mu.permute(0, 2, 1)  @torch.unsqueeze(self.Sigma_Z_inv,0  ) @self.mu\n",
    "        middle = Trace_bradcast( torch.unsqueeze(self.Sigma_Z_inv,0  ) @ self.BigSigma_I )\n",
    "        \n",
    "        \n",
    "        right = torch.log(torch.det(torch.inverse(self.Sigma_Z_inv)))\n",
    "        self.Q = -1/2 * torch.sum(left + middle + right)/100000000\n",
    "        print('self.Q',self.Q.shape,self.Q)\n",
    "        #print(self.Q)\n",
    "    def Maximization(self, ratio):\n",
    "        print('in max')\n",
    "        \"\"\"\n",
    "        Update U1, U2, U3 by gradient assent and use svd to make sure orthogonality\n",
    "        self.U1.grad.data.zero_() # conduct zero grad\n",
    "        self.Q.backward()\n",
    "        \n",
    "        \"\"\"\n",
    "        self.Sigma_Z_inv = torch.inverse(torch.mean(self.BigSigma_I, 0)).detach()\n",
    "        start = time.time()\n",
    "        \n",
    "        self.A_pro_All_U([2,3])\n",
    "        self.Q_Function()\n",
    "        print('q fun ction time', time.time()- start)\n",
    "        self.Q.backward()\n",
    "        print('backward time', time.time()- start)\n",
    "        \n",
    "        lr = torch.mean(torch.abs(self.U1)) /  torch.mean(torch.abs(self.U1.grad)) * ratio# 0.01\n",
    "        self.U1.data +=  lr * self.U1.grad.data\n",
    "        self.U1.data = torch.qr(self.U1.data)[0]\n",
    "        \n",
    "        self.U1.grad.data.zero_()\n",
    "\n",
    "        print('update time', time.time()- start)\n",
    "        \n",
    "        self.A_pro_All_U()\n",
    "        print('AU time', time.time()- start)\n",
    "        ##self.Expectation()\n",
    "        print('expectation time', time.time()- start)\n",
    "        \n",
    "        \n",
    "        self.A_pro_All_U([1,3])\n",
    "        self.Q_Function()\n",
    "        self.Q.backward()\n",
    "        lr = torch.mean(torch.abs(self.U2)) /  torch.mean(torch.abs(self.U2.grad))* ratio#0.01\n",
    "        self.U2.data += lr * self.U2.grad.data\n",
    "        self.U2.data = torch.qr(self.U2.data)[0]\n",
    "        \n",
    "        self.U2.grad.data.zero_()\n",
    "        self.A_pro_All_U()\n",
    "        #self.Expectation()\n",
    "        \n",
    "        \n",
    "        self.A_pro_All_U([1,2])\n",
    "        self.Q_Function()\n",
    "        self.Q.backward()\n",
    "        \n",
    "        lr = torch.mean(torch.abs(self.U3)) /  torch.mean(torch.abs(self.U3.grad))* ratio#0.01\n",
    "        self.U3.data += lr * self.U3.grad.data\n",
    "        self.U3.data = torch.qr(self.U3.data)[0]\n",
    "        \n",
    "        self.U3.grad.data.zero_()\n",
    "        self.A_pro_All_U()\n",
    "        #self.Expectation()\n",
    "        print(time.time()-start, 'sec')\n",
    "        #lr = np.abs(np.mean(self.mu) / np.mean(DeltaMu) )*0.001\n",
    "        #self.mu = self.mu + lr * DeltaMu\n",
    "        \"\"\"\n",
    "        lr = torch.mean(torch.abs(self.U1)) /  torch.mean(torch.abs(self.U1.grad)) * ratio# 0.01\n",
    "        self.U1.data +=  lr * self.U1.grad.data\n",
    "        \n",
    "        lr = torch.mean(torch.abs(self.U2)) /  torch.mean(torch.abs(self.U2.grad))* ratio#0.01\n",
    "        self.U2.data += lr * self.U2.grad.data\n",
    "        \n",
    "        lr = torch.mean(torch.abs(self.U3)) /  torch.mean(torch.abs(self.U3.grad))* ratio#0.01\n",
    "        self.U3.data += lr * self.U3.grad.data\n",
    "        \n",
    "        self.U1.data = torch.qr(self.U1.data)[0]\n",
    "        self.U2.data = torch.qr(self.U2.data)[0]\n",
    "        self.U3.data = torch.qr(self.U3.data)[0]\n",
    "        #print('self.U1.grad.data',torch.mean(self.U1.grad.data))\n",
    "        ##print('self.U2.grad.data',torch.mean(self.U2.grad.data))\n",
    "        #print('self.U3.grad.data',torch.mean(self.U3.grad.data))\n",
    "        \n",
    "        self.U1.grad.data.zero_()\n",
    "        self.U2.grad.data.zero_()\n",
    "        self.U3.grad.data.zero_()\n",
    "        self.A_pro_All_U()\n",
    "        \"\"\"\n",
    "        \n",
    "    def Plot_temp(self, num = 10):\n",
    "        fig,axes=plt.subplots(1,num)\n",
    "        print('generated')\n",
    "        for i in range(num):\n",
    "            est_I = self.AU @ self.mu\n",
    "            AU = est_I.detach().numpy()\n",
    "            image = AU[i].reshape(self.ProjSize,self.ProjSize, order = 'F')\n",
    "            axes[i].imshow(image)\n",
    "        plt.show()\n",
    "        fig,axes=plt.subplots(1,num)\n",
    "        print('real')\n",
    "        for i in range(num):\n",
    "            est_I = self.AU @ self.mu\n",
    "            AU = est_I.detach().numpy()\n",
    "            axes[ i].imshow(Images[i])\n",
    "        plt.show()\n",
    "        \n",
    "        \"\"\"\n",
    "        c = 0\n",
    "        print('generated')\n",
    "        est_I = self.AU @ self.mu\n",
    "        AU = est_I.detach().numpy()\n",
    "        #print(AU.shape)\n",
    "        image = AU[c].reshape(self.ProjSize,self.ProjSize, order = 'F')\n",
    "        plt.imshow(image) # quarter rotation\n",
    "        plt.show()\n",
    "        #MP3.Q_Function()\n",
    "\n",
    "        #MP3.Maximization()\n",
    "        print('real')\n",
    "        plt.imshow(Images[c])\n",
    "        plt.show()\n",
    "        \n",
    "        c = 11\n",
    "        print('generated')\n",
    "        #AU = self.AU.detach().numpy()\n",
    "        #print(AU.shape)\n",
    "        image = AU[c].reshape(self.ProjSize,self.ProjSize, order = 'F')\n",
    "        plt.imshow(image) # quarter rotation\n",
    "        plt.show()\n",
    "        #MP3.Q_Function()\n",
    "\n",
    "        #MP3.Maximization()\n",
    "        print('real')\n",
    "        plt.imshow(Images[c])\n",
    "        plt.show()\n",
    "        \"\"\"\n",
    "        \n",
    "        \n",
    "        \n",
    "    def fit(self, start_ratio):\n",
    "        \n",
    "        \"\"\"\n",
    "        If doing SGD, set self.I as part of the images, then the following code run aotumatically.\n",
    "        Use np.random.permutation(5000)\n",
    "        \n",
    "        \"\"\"\n",
    "        ratio = start_ratio\n",
    "        self.A_pro_All_U()\n",
    "        self.Expectation()\n",
    "        print('oritinal')\n",
    "        self.Plot_temp()\n",
    "        temp = []\n",
    "        for i in range(100000):\n",
    "            self.A_pro_All_U()\n",
    "            #self.Q_Function()\n",
    "            #self.Plot_temp()\n",
    "            #self.Q_Function()\n",
    "            self.Expectation()\n",
    "            self.Q_Function()\n",
    "            self.Maximization(ratio)\n",
    "            if i % 10 == 9:\n",
    "                ratio = ratio /5\n",
    "            if i % 3 ==0:\n",
    "                print(f'the {i} th iter')\n",
    "                self.Plot_temp()\n",
    "            temp.append([self.U1.data, self.U2.data, self.U3.data])\n",
    "            with open(f'./snap_shot/{self.exp_name}_MPCA.pkl', 'wb') as f:\n",
    "                pickle.dump(temp, f)\n",
    "            torch.save(self.U1, f'./snap_shot/{self.exp_name}_{i}th_U1.pt')\n",
    "            torch.save(self.U2, f'./snap_shot/{self.exp_name}_{i}th_U3.pt')\n",
    "            torch.save(self.U3, f'./snap_shot/{self.exp_name}_{i}th_U3.pt')\n",
    "                #use torch save to save torch tensor\n",
    "            "
   ]
  },
  {
   "cell_type": "code",
   "execution_count": 67,
   "metadata": {},
   "outputs": [
    {
     "name": "stdout",
     "output_type": "stream",
     "text": [
      "(5000, 34, 34)\n",
      "in A por U\n",
      "in Exp\n"
     ]
    },
    {
     "ename": "KeyboardInterrupt",
     "evalue": "",
     "output_type": "error",
     "traceback": [
      "\u001b[0;31m---------------------------------------------------------------------------\u001b[0m",
      "\u001b[0;31mKeyboardInterrupt\u001b[0m                         Traceback (most recent call last)",
      "\u001b[0;32m<ipython-input-67-e493c122e0e8>\u001b[0m in \u001b[0;36m<module>\u001b[0;34m\u001b[0m\n\u001b[1;32m     10\u001b[0m \u001b[0mop\u001b[0m \u001b[0;34m=\u001b[0m \u001b[0mts\u001b[0m\u001b[0;34m.\u001b[0m\u001b[0moperator\u001b[0m\u001b[0;34m(\u001b[0m\u001b[0mvg\u001b[0m\u001b[0;34m,\u001b[0m \u001b[0mpg\u001b[0m\u001b[0;34m)\u001b[0m\u001b[0;34m\u001b[0m\u001b[0;34m\u001b[0m\u001b[0m\n\u001b[1;32m     11\u001b[0m \u001b[0mMP3\u001b[0m \u001b[0;34m=\u001b[0m \u001b[0mMPCA_3d_recon\u001b[0m\u001b[0;34m(\u001b[0m\u001b[0mProjSize\u001b[0m\u001b[0;34m,\u001b[0m \u001b[0mnum_image\u001b[0m\u001b[0;34m,\u001b[0m \u001b[0mn_component\u001b[0m\u001b[0;34m,\u001b[0m \u001b[0mop\u001b[0m \u001b[0;34m,\u001b[0m \u001b[0mImages\u001b[0m\u001b[0;34m,\u001b[0m \u001b[0mexp_name\u001b[0m\u001b[0;34m)\u001b[0m\u001b[0;34m\u001b[0m\u001b[0;34m\u001b[0m\u001b[0m\n\u001b[0;32m---> 12\u001b[0;31m \u001b[0mMP3\u001b[0m\u001b[0;34m.\u001b[0m\u001b[0mfit\u001b[0m\u001b[0;34m(\u001b[0m\u001b[0mstart_ratio\u001b[0m \u001b[0;34m=\u001b[0m \u001b[0;36m0.1\u001b[0m\u001b[0;34m)\u001b[0m\u001b[0;34m\u001b[0m\u001b[0;34m\u001b[0m\u001b[0m\n\u001b[0m\u001b[1;32m     13\u001b[0m \"\"\"\n\u001b[1;32m     14\u001b[0m \u001b[0mMP3\u001b[0m\u001b[0;34m.\u001b[0m\u001b[0mA_pro_All_U\u001b[0m\u001b[0;34m(\u001b[0m\u001b[0;34m)\u001b[0m\u001b[0;34m\u001b[0m\u001b[0;34m\u001b[0m\u001b[0m\n",
      "\u001b[0;32m<ipython-input-66-42d177d68a1b>\u001b[0m in \u001b[0;36mfit\u001b[0;34m(self, start_ratio)\u001b[0m\n\u001b[1;32m    322\u001b[0m         \u001b[0mratio\u001b[0m \u001b[0;34m=\u001b[0m \u001b[0mstart_ratio\u001b[0m\u001b[0;34m\u001b[0m\u001b[0;34m\u001b[0m\u001b[0m\n\u001b[1;32m    323\u001b[0m         \u001b[0mself\u001b[0m\u001b[0;34m.\u001b[0m\u001b[0mA_pro_All_U\u001b[0m\u001b[0;34m(\u001b[0m\u001b[0;34m)\u001b[0m\u001b[0;34m\u001b[0m\u001b[0;34m\u001b[0m\u001b[0m\n\u001b[0;32m--> 324\u001b[0;31m         \u001b[0mself\u001b[0m\u001b[0;34m.\u001b[0m\u001b[0mExpectation\u001b[0m\u001b[0;34m(\u001b[0m\u001b[0;34m)\u001b[0m\u001b[0;34m\u001b[0m\u001b[0;34m\u001b[0m\u001b[0m\n\u001b[0m\u001b[1;32m    325\u001b[0m         \u001b[0mprint\u001b[0m\u001b[0;34m(\u001b[0m\u001b[0;34m'oritinal'\u001b[0m\u001b[0;34m)\u001b[0m\u001b[0;34m\u001b[0m\u001b[0;34m\u001b[0m\u001b[0m\n\u001b[1;32m    326\u001b[0m         \u001b[0mself\u001b[0m\u001b[0;34m.\u001b[0m\u001b[0mPlot_temp\u001b[0m\u001b[0;34m(\u001b[0m\u001b[0;34m)\u001b[0m\u001b[0;34m\u001b[0m\u001b[0;34m\u001b[0m\u001b[0m\n",
      "\u001b[0;32m<ipython-input-66-42d177d68a1b>\u001b[0m in \u001b[0;36mExpectation\u001b[0;34m(self)\u001b[0m\n\u001b[1;32m    142\u001b[0m         \u001b[0mtorch\u001b[0m\u001b[0;34m.\u001b[0m\u001b[0minverse\u001b[0m \u001b[0mcan\u001b[0m \u001b[0mbroadcast\u001b[0m \u001b[0mthrough\u001b[0m \u001b[0mbatch\u001b[0m\u001b[0;34m,\u001b[0m \u001b[0mso\u001b[0m \u001b[0mjust\u001b[0m \u001b[0muse\u001b[0m \u001b[0mit\u001b[0m\u001b[0;34m\u001b[0m\u001b[0;34m\u001b[0m\u001b[0m\n\u001b[1;32m    143\u001b[0m         \"\"\"\n\u001b[0;32m--> 144\u001b[0;31m         \u001b[0mself\u001b[0m\u001b[0;34m.\u001b[0m\u001b[0mBigSigma_I\u001b[0m \u001b[0;34m=\u001b[0m \u001b[0mtorch\u001b[0m\u001b[0;34m.\u001b[0m\u001b[0minverse\u001b[0m\u001b[0;34m(\u001b[0m\u001b[0;34m(\u001b[0m\u001b[0mtorch\u001b[0m\u001b[0;34m.\u001b[0m\u001b[0munsqueeze\u001b[0m\u001b[0;34m(\u001b[0m\u001b[0mself\u001b[0m\u001b[0;34m.\u001b[0m\u001b[0mSigma_Z_inv\u001b[0m\u001b[0;34m,\u001b[0m\u001b[0;36m0\u001b[0m  \u001b[0;34m)\u001b[0m \u001b[0;34m+\u001b[0m \u001b[0;36m1\u001b[0m \u001b[0;34m/\u001b[0m \u001b[0mself\u001b[0m\u001b[0;34m.\u001b[0m\u001b[0msigma\u001b[0m \u001b[0;34m**\u001b[0m\u001b[0;36m2\u001b[0m \u001b[0;34m*\u001b[0m \u001b[0mUTATAU\u001b[0m \u001b[0;34m)\u001b[0m\u001b[0;34m)\u001b[0m \u001b[0;34m+\u001b[0m \u001b[0mtorch\u001b[0m\u001b[0;34m.\u001b[0m\u001b[0mmatmul\u001b[0m\u001b[0;34m(\u001b[0m\u001b[0mself\u001b[0m\u001b[0;34m.\u001b[0m\u001b[0mmu\u001b[0m\u001b[0;34m,\u001b[0m \u001b[0mself\u001b[0m\u001b[0;34m.\u001b[0m\u001b[0mmu\u001b[0m\u001b[0;34m.\u001b[0m\u001b[0mpermute\u001b[0m\u001b[0;34m(\u001b[0m\u001b[0;36m0\u001b[0m\u001b[0;34m,\u001b[0m\u001b[0;36m2\u001b[0m\u001b[0;34m,\u001b[0m\u001b[0;36m1\u001b[0m\u001b[0;34m)\u001b[0m\u001b[0;34m)\u001b[0m\u001b[0;34m\u001b[0m\u001b[0;34m\u001b[0m\u001b[0m\n\u001b[0m\u001b[1;32m    145\u001b[0m         \u001b[0;31m#print('self.BigSigma_I', self.BigSigma_I.shape)\u001b[0m\u001b[0;34m\u001b[0m\u001b[0;34m\u001b[0m\u001b[0;34m\u001b[0m\u001b[0m\n\u001b[1;32m    146\u001b[0m         \u001b[0mself\u001b[0m\u001b[0;34m.\u001b[0m\u001b[0mmu\u001b[0m \u001b[0;34m=\u001b[0m \u001b[0mself\u001b[0m\u001b[0;34m.\u001b[0m\u001b[0mmu\u001b[0m\u001b[0;34m.\u001b[0m\u001b[0mdetach\u001b[0m\u001b[0;34m(\u001b[0m\u001b[0;34m)\u001b[0m\u001b[0;34m\u001b[0m\u001b[0;34m\u001b[0m\u001b[0m\n",
      "\u001b[0;31mKeyboardInterrupt\u001b[0m: "
     ]
    }
   ],
   "source": [
    "Images = new_projection[:5000]\n",
    "print(Images.shape)\n",
    "exp_name = '1216_n_10_MPCA'\n",
    "ProjSize, num_image, n_component = 34, 5000, 10\n",
    "\n",
    "Vol_geom = astra.create_vol_geom(34, 34, 34)\n",
    "#Images = torch.ones(num_image, 48, 48) # fake images for computing purpose\n",
    "vg = ts.from_astra(Vol_geom)\n",
    "pg = ts.from_astra(Proj_geom)\n",
    "op = ts.operator(vg, pg)\n",
    "MP3 = MPCA_3d_recon(ProjSize, num_image, n_component, op , Images, exp_name)\n",
    "MP3.fit(start_ratio = 0.1)\n",
    "\"\"\"\n",
    "MP3.A_pro_All_U()\n",
    "\n",
    "MP3.Plot_temp()\n",
    "MP3.Q_Function()\n",
    "\n",
    "MP3.Expectation()\n",
    "MP3.Q_Function()\n",
    "MP3.Maximization()\n",
    "MP3.Plot_temp()\n",
    "MP3.Q_Function()\n",
    "print(MP3.All_U.shape)\n",
    "\"\"\"\n"
   ]
  },
  {
   "cell_type": "code",
   "execution_count": 61,
   "metadata": {},
   "outputs": [
    {
     "name": "stdout",
     "output_type": "stream",
     "text": [
      "(5000, 34, 34)\n",
      "in A por U\n",
      "in Exp\n",
      "oritinal\n",
      "generated\n"
     ]
    },
    {
     "data": {
      "image/png": "[encoded data removed]",
      "text/plain": [
       "<Figure size 432x288 with 5 Axes>"
      ]
     },
     "metadata": {
      "needs_background": "light"
     },
     "output_type": "display_data"
    },
    {
     "name": "stdout",
     "output_type": "stream",
     "text": [
      "real\n"
     ]
    },
    {
     "data": {
      "image/png": "[encoded data removed]",
      "text/plain": [
       "<Figure size 432x288 with 5 Axes>"
      ]
     },
     "metadata": {
      "needs_background": "light"
     },
     "output_type": "display_data"
    },
    {
     "name": "stdout",
     "output_type": "stream",
     "text": [
      "in A por U\n",
      "in Exp\n",
      "in Q\n",
      "self.Q torch.Size([]) tensor(83.3796, grad_fn=<DivBackward0>)\n",
      "in max\n",
      "in A por U\n",
      "in Q\n",
      "self.Q torch.Size([]) tensor(-inf, grad_fn=<DivBackward0>)\n",
      "q fun ction time 324.36617279052734\n",
      "backward time 414.16405868530273\n",
      "update time 414.17223715782166\n",
      "in A por U\n",
      "AU time 626.9520637989044\n",
      "expectation time 626.9523115158081\n",
      "in A por U\n",
      "in Q\n",
      "self.Q torch.Size([]) tensor(-inf, grad_fn=<DivBackward0>)\n",
      "in A por U\n",
      "in A por U\n",
      "in Q\n",
      "self.Q torch.Size([]) tensor(-inf, grad_fn=<DivBackward0>)\n"
     ]
    },
    {
     "ename": "KeyboardInterrupt",
     "evalue": "",
     "output_type": "error",
     "traceback": [
      "\u001b[0;31m---------------------------------------------------------------------------\u001b[0m",
      "\u001b[0;31mKeyboardInterrupt\u001b[0m                         Traceback (most recent call last)",
      "\u001b[0;32m<ipython-input-61-3083d7461335>\u001b[0m in \u001b[0;36m<module>\u001b[0;34m\u001b[0m\n\u001b[1;32m     24\u001b[0m \u001b[0mMP3\u001b[0m\u001b[0;34m.\u001b[0m\u001b[0mU1\u001b[0m\u001b[0;34m.\u001b[0m\u001b[0mdata\u001b[0m \u001b[0;34m=\u001b[0m \u001b[0mUs\u001b[0m\u001b[0;34m[\u001b[0m\u001b[0;36m2\u001b[0m\u001b[0;34m]\u001b[0m\u001b[0;34m\u001b[0m\u001b[0;34m\u001b[0m\u001b[0m\n\u001b[1;32m     25\u001b[0m \u001b[0;31m#MP3\u001b[0m\u001b[0;34m\u001b[0m\u001b[0;34m\u001b[0m\u001b[0;34m\u001b[0m\u001b[0m\n\u001b[0;32m---> 26\u001b[0;31m \u001b[0mMP3\u001b[0m\u001b[0;34m.\u001b[0m\u001b[0mfit\u001b[0m\u001b[0;34m(\u001b[0m\u001b[0mstart_ratio\u001b[0m \u001b[0;34m=\u001b[0m \u001b[0;36m0.01\u001b[0m\u001b[0;34m)\u001b[0m\u001b[0;34m\u001b[0m\u001b[0;34m\u001b[0m\u001b[0m\n\u001b[0m\u001b[1;32m     27\u001b[0m \"\"\"\n\u001b[1;32m     28\u001b[0m \u001b[0mMP3\u001b[0m\u001b[0;34m.\u001b[0m\u001b[0mA_pro_All_U\u001b[0m\u001b[0;34m(\u001b[0m\u001b[0;34m)\u001b[0m\u001b[0;34m\u001b[0m\u001b[0;34m\u001b[0m\u001b[0m\n",
      "\u001b[0;32m<ipython-input-60-9c13bcd354d7>\u001b[0m in \u001b[0;36mfit\u001b[0;34m(self, start_ratio)\u001b[0m\n\u001b[1;32m    333\u001b[0m             \u001b[0mself\u001b[0m\u001b[0;34m.\u001b[0m\u001b[0mExpectation\u001b[0m\u001b[0;34m(\u001b[0m\u001b[0;34m)\u001b[0m\u001b[0;34m\u001b[0m\u001b[0;34m\u001b[0m\u001b[0m\n\u001b[1;32m    334\u001b[0m             \u001b[0mself\u001b[0m\u001b[0;34m.\u001b[0m\u001b[0mQ_Function\u001b[0m\u001b[0;34m(\u001b[0m\u001b[0;34m)\u001b[0m\u001b[0;34m\u001b[0m\u001b[0;34m\u001b[0m\u001b[0m\n\u001b[0;32m--> 335\u001b[0;31m             \u001b[0mself\u001b[0m\u001b[0;34m.\u001b[0m\u001b[0mMaximization\u001b[0m\u001b[0;34m(\u001b[0m\u001b[0mratio\u001b[0m\u001b[0;34m)\u001b[0m\u001b[0;34m\u001b[0m\u001b[0;34m\u001b[0m\u001b[0m\n\u001b[0m\u001b[1;32m    336\u001b[0m             \u001b[0;32mif\u001b[0m \u001b[0mi\u001b[0m \u001b[0;34m%\u001b[0m \u001b[0;36m10\u001b[0m \u001b[0;34m==\u001b[0m \u001b[0;36m9\u001b[0m\u001b[0;34m:\u001b[0m\u001b[0;34m\u001b[0m\u001b[0;34m\u001b[0m\u001b[0m\n\u001b[1;32m    337\u001b[0m                 \u001b[0mratio\u001b[0m \u001b[0;34m=\u001b[0m \u001b[0mratio\u001b[0m \u001b[0;34m/\u001b[0m\u001b[0;36m5\u001b[0m\u001b[0;34m\u001b[0m\u001b[0;34m\u001b[0m\u001b[0m\n",
      "\u001b[0;32m<ipython-input-60-9c13bcd354d7>\u001b[0m in \u001b[0;36mMaximization\u001b[0;34m(self, ratio)\u001b[0m\n\u001b[1;32m    234\u001b[0m         \u001b[0mself\u001b[0m\u001b[0;34m.\u001b[0m\u001b[0mA_pro_All_U\u001b[0m\u001b[0;34m(\u001b[0m\u001b[0;34m[\u001b[0m\u001b[0;36m1\u001b[0m\u001b[0;34m,\u001b[0m\u001b[0;36m2\u001b[0m\u001b[0;34m]\u001b[0m\u001b[0;34m)\u001b[0m\u001b[0;34m\u001b[0m\u001b[0;34m\u001b[0m\u001b[0m\n\u001b[1;32m    235\u001b[0m         \u001b[0mself\u001b[0m\u001b[0;34m.\u001b[0m\u001b[0mQ_Function\u001b[0m\u001b[0;34m(\u001b[0m\u001b[0;34m)\u001b[0m\u001b[0;34m\u001b[0m\u001b[0;34m\u001b[0m\u001b[0m\n\u001b[0;32m--> 236\u001b[0;31m         \u001b[0mself\u001b[0m\u001b[0;34m.\u001b[0m\u001b[0mQ\u001b[0m\u001b[0;34m.\u001b[0m\u001b[0mbackward\u001b[0m\u001b[0;34m(\u001b[0m\u001b[0;34m)\u001b[0m\u001b[0;34m\u001b[0m\u001b[0;34m\u001b[0m\u001b[0m\n\u001b[0m\u001b[1;32m    237\u001b[0m \u001b[0;34m\u001b[0m\u001b[0m\n\u001b[1;32m    238\u001b[0m         \u001b[0mlr\u001b[0m \u001b[0;34m=\u001b[0m \u001b[0mtorch\u001b[0m\u001b[0;34m.\u001b[0m\u001b[0mmean\u001b[0m\u001b[0;34m(\u001b[0m\u001b[0mtorch\u001b[0m\u001b[0;34m.\u001b[0m\u001b[0mabs\u001b[0m\u001b[0;34m(\u001b[0m\u001b[0mself\u001b[0m\u001b[0;34m.\u001b[0m\u001b[0mU3\u001b[0m\u001b[0;34m)\u001b[0m\u001b[0;34m)\u001b[0m \u001b[0;34m/\u001b[0m  \u001b[0mtorch\u001b[0m\u001b[0;34m.\u001b[0m\u001b[0mmean\u001b[0m\u001b[0;34m(\u001b[0m\u001b[0mtorch\u001b[0m\u001b[0;34m.\u001b[0m\u001b[0mabs\u001b[0m\u001b[0;34m(\u001b[0m\u001b[0mself\u001b[0m\u001b[0;34m.\u001b[0m\u001b[0mU3\u001b[0m\u001b[0;34m.\u001b[0m\u001b[0mgrad\u001b[0m\u001b[0;34m)\u001b[0m\u001b[0;34m)\u001b[0m\u001b[0;34m*\u001b[0m \u001b[0mratio\u001b[0m\u001b[0;31m#0.01\u001b[0m\u001b[0;34m\u001b[0m\u001b[0;34m\u001b[0m\u001b[0m\n",
      "\u001b[0;32m~/.conda/envs/protein_reconstruction/lib/python3.6/site-packages/torch/_tensor.py\u001b[0m in \u001b[0;36mbackward\u001b[0;34m(self, gradient, retain_graph, create_graph, inputs)\u001b[0m\n\u001b[1;32m    305\u001b[0m                 \u001b[0mcreate_graph\u001b[0m\u001b[0;34m=\u001b[0m\u001b[0mcreate_graph\u001b[0m\u001b[0;34m,\u001b[0m\u001b[0;34m\u001b[0m\u001b[0;34m\u001b[0m\u001b[0m\n\u001b[1;32m    306\u001b[0m                 inputs=inputs)\n\u001b[0;32m--> 307\u001b[0;31m         \u001b[0mtorch\u001b[0m\u001b[0;34m.\u001b[0m\u001b[0mautograd\u001b[0m\u001b[0;34m.\u001b[0m\u001b[0mbackward\u001b[0m\u001b[0;34m(\u001b[0m\u001b[0mself\u001b[0m\u001b[0;34m,\u001b[0m \u001b[0mgradient\u001b[0m\u001b[0;34m,\u001b[0m \u001b[0mretain_graph\u001b[0m\u001b[0;34m,\u001b[0m \u001b[0mcreate_graph\u001b[0m\u001b[0;34m,\u001b[0m \u001b[0minputs\u001b[0m\u001b[0;34m=\u001b[0m\u001b[0minputs\u001b[0m\u001b[0;34m)\u001b[0m\u001b[0;34m\u001b[0m\u001b[0;34m\u001b[0m\u001b[0m\n\u001b[0m\u001b[1;32m    308\u001b[0m \u001b[0;34m\u001b[0m\u001b[0m\n\u001b[1;32m    309\u001b[0m     \u001b[0;32mdef\u001b[0m \u001b[0mregister_hook\u001b[0m\u001b[0;34m(\u001b[0m\u001b[0mself\u001b[0m\u001b[0;34m,\u001b[0m \u001b[0mhook\u001b[0m\u001b[0;34m)\u001b[0m\u001b[0;34m:\u001b[0m\u001b[0;34m\u001b[0m\u001b[0;34m\u001b[0m\u001b[0m\n",
      "\u001b[0;32m~/.conda/envs/protein_reconstruction/lib/python3.6/site-packages/torch/autograd/__init__.py\u001b[0m in \u001b[0;36mbackward\u001b[0;34m(tensors, grad_tensors, retain_graph, create_graph, grad_variables, inputs)\u001b[0m\n\u001b[1;32m    154\u001b[0m     Variable._execution_engine.run_backward(\n\u001b[1;32m    155\u001b[0m         \u001b[0mtensors\u001b[0m\u001b[0;34m,\u001b[0m \u001b[0mgrad_tensors_\u001b[0m\u001b[0;34m,\u001b[0m \u001b[0mretain_graph\u001b[0m\u001b[0;34m,\u001b[0m \u001b[0mcreate_graph\u001b[0m\u001b[0;34m,\u001b[0m \u001b[0minputs\u001b[0m\u001b[0;34m,\u001b[0m\u001b[0;34m\u001b[0m\u001b[0;34m\u001b[0m\u001b[0m\n\u001b[0;32m--> 156\u001b[0;31m         allow_unreachable=True, accumulate_grad=True)  # allow_unreachable flag\n\u001b[0m\u001b[1;32m    157\u001b[0m \u001b[0;34m\u001b[0m\u001b[0m\n\u001b[1;32m    158\u001b[0m \u001b[0;34m\u001b[0m\u001b[0m\n",
      "\u001b[0;32m~/.conda/envs/protein_reconstruction/lib/python3.6/site-packages/torch/autograd/function.py\u001b[0m in \u001b[0;36mapply\u001b[0;34m(self, *args)\u001b[0m\n\u001b[1;32m    187\u001b[0m \u001b[0;34m\u001b[0m\u001b[0m\n\u001b[1;32m    188\u001b[0m \u001b[0;32mclass\u001b[0m \u001b[0mBackwardCFunction\u001b[0m\u001b[0;34m(\u001b[0m\u001b[0m_C\u001b[0m\u001b[0;34m.\u001b[0m\u001b[0m_FunctionBase\u001b[0m\u001b[0;34m,\u001b[0m \u001b[0mFunctionCtx\u001b[0m\u001b[0;34m,\u001b[0m \u001b[0m_HookMixin\u001b[0m\u001b[0;34m)\u001b[0m\u001b[0;34m:\u001b[0m\u001b[0;34m\u001b[0m\u001b[0;34m\u001b[0m\u001b[0m\n\u001b[0;32m--> 189\u001b[0;31m     \u001b[0;32mdef\u001b[0m \u001b[0mapply\u001b[0m\u001b[0;34m(\u001b[0m\u001b[0mself\u001b[0m\u001b[0;34m,\u001b[0m \u001b[0;34m*\u001b[0m\u001b[0margs\u001b[0m\u001b[0;34m)\u001b[0m\u001b[0;34m:\u001b[0m\u001b[0;34m\u001b[0m\u001b[0;34m\u001b[0m\u001b[0m\n\u001b[0m\u001b[1;32m    190\u001b[0m         \u001b[0;31m# _forward_cls is defined by derived class\u001b[0m\u001b[0;34m\u001b[0m\u001b[0;34m\u001b[0m\u001b[0;34m\u001b[0m\u001b[0m\n\u001b[1;32m    191\u001b[0m         \u001b[0;31m# The user should define either backward or vjp but never both.\u001b[0m\u001b[0;34m\u001b[0m\u001b[0;34m\u001b[0m\u001b[0;34m\u001b[0m\u001b[0m\n",
      "\u001b[0;31mKeyboardInterrupt\u001b[0m: "
     ]
    }
   ],
   "source": [
    "\"\"\"\n",
    "load data\n",
    "\"\"\"\n",
    "Images = new_projection[:5000]\n",
    "print(Images.shape)\n",
    "exp_name = '1216_n_10_MPCA'\n",
    "ProjSize, num_image, n_component = 34, 5000, 10\n",
    "\n",
    "Vol_geom = astra.create_vol_geom(34, 34, 34)\n",
    "#Images = torch.ones(num_image, 48, 48) # fake images for computing purpose\n",
    "vg = ts.from_astra(Vol_geom)\n",
    "pg = ts.from_astra(Proj_geom)\n",
    "op = ts.operator(vg, pg)\n",
    "MP3 = MPCA_3d_recon(ProjSize, num_image, n_component, op , Images, exp_name)\n",
    "\n",
    "\"\"\"\n",
    "load\n",
    "\"\"\"\n",
    "with open('./snap_shot/1214_n_10_MPCA_MPCA.pkl', 'rb') as f:\n",
    "    Us = pickle.load(f)\n",
    "\n",
    "MP3.U1.data = Us[0]\n",
    "MP3.U1.data = Us[1]\n",
    "MP3.U1.data = Us[2]\n",
    "#MP3\n",
    "MP3.fit(start_ratio = 0.01)\n",
    "\"\"\"\n",
    "MP3.A_pro_All_U()\n",
    "\n",
    "MP3.Plot_temp()\n",
    "MP3.Q_Function()\n",
    "\n",
    "MP3.Expectation()\n",
    "MP3.Q_Function()\n",
    "MP3.Maximization()\n",
    "MP3.Plot_temp()\n",
    "MP3.Q_Function()\n",
    "print(MP3.All_U.shape)\n",
    "\"\"\"\n"
   ]
  },
  {
   "cell_type": "code",
   "execution_count": 58,
   "metadata": {},
   "outputs": [
    {
     "data": {
      "text/plain": [
       "\"\\nc = 0\\nim_cs = [i for i in range(10)]\\n\\nfor c in im_cs:\\n    fig = plt.figure()\\n    gs = fig.add_gridspec(1, 2, hspace=0, wspace=0)\\n    (ax1, ax2) = gs.subplots(sharex='col', sharey='row')\\n    \\n    \\n    print('generated')\\n    est_I = MP3.AU @ MP3.mu\\n    AU = est_I.detach().numpy()\\n    #print(AU.shape)\\n    image = AU[c].reshape(MP3.ProjSize,MP3.ProjSize, order = 'F')\\n    ax1.imshow(image)\\n    #plt.imshow(image) # quarter rotation\\n    #plt.show()\\n    #MP3.Q_Function()\\n\\n    #MP3.Maximization()\\n    print('real')\\n    #plt.imshow(Images[c])\\n    ax2.imshow(Images[c])\\n    plt.show()\\n\""
      ]
     },
     "execution_count": 58,
     "metadata": {},
     "output_type": "execute_result"
    }
   ],
   "source": [
    "\"\"\"\n",
    "c = 0\n",
    "im_cs = [i for i in range(10)]\n",
    "\n",
    "for c in im_cs:\n",
    "    fig = plt.figure()\n",
    "    gs = fig.add_gridspec(1, 2, hspace=0, wspace=0)\n",
    "    (ax1, ax2) = gs.subplots(sharex='col', sharey='row')\n",
    "    \n",
    "    \n",
    "    print('generated')\n",
    "    est_I = MP3.AU @ MP3.mu\n",
    "    AU = est_I.detach().numpy()\n",
    "    #print(AU.shape)\n",
    "    image = AU[c].reshape(MP3.ProjSize,MP3.ProjSize, order = 'F')\n",
    "    ax1.imshow(image)\n",
    "    #plt.imshow(image) # quarter rotation\n",
    "    #plt.show()\n",
    "    #MP3.Q_Function()\n",
    "\n",
    "    #MP3.Maximization()\n",
    "    print('real')\n",
    "    #plt.imshow(Images[c])\n",
    "    ax2.imshow(Images[c])\n",
    "    plt.show()\n",
    "\"\"\""
   ]
  },
  {
   "cell_type": "code",
   "execution_count": null,
   "metadata": {},
   "outputs": [],
   "source": []
  },
  {
   "cell_type": "code",
   "execution_count": null,
   "metadata": {},
   "outputs": [],
   "source": [
    "MP3.fit()\n"
   ]
  },
  {
   "cell_type": "code",
   "execution_count": null,
   "metadata": {},
   "outputs": [],
   "source": [
    "c =250\n",
    "AU = MP3.AU.detach().numpy()\n",
    "print(AU.shape)\n",
    "image = AU[c].reshape(48,48, order = 'F')\n",
    "plt.imshow(image) # quarter rotation\n",
    "plt.show()\n",
    "#MP3.Q_Function()\n",
    "\n",
    "#MP3.Maximization()\n",
    "plt.imshow(Images[c])\n",
    "plt.show()"
   ]
  },
  {
   "cell_type": "code",
   "execution_count": null,
   "metadata": {},
   "outputs": [],
   "source": [
    "MP3.Q.backward()"
   ]
  },
  {
   "cell_type": "code",
   "execution_count": null,
   "metadata": {},
   "outputs": [],
   "source": [
    "MP3.U1.grad\n",
    "lr = torch.mean(torch.abs(MP3.U1)) /  torch.mean(torch.abs(MP3.U1.grad))\n",
    "print(lr)\n",
    "MP3.U1 = MP3.U1 + lr * MP3.U1.grad\n",
    "\n",
    "MP3.U1.grad.data.zero_()"
   ]
  },
  {
   "cell_type": "code",
   "execution_count": null,
   "metadata": {},
   "outputs": [],
   "source": [
    "#print(MP3.U1.grad)\n",
    "#MP3.U1.grad.data.zero_()"
   ]
  },
  {
   "cell_type": "code",
   "execution_count": null,
   "metadata": {},
   "outputs": [],
   "source": []
  },
  {
   "cell_type": "code",
   "execution_count": null,
   "metadata": {},
   "outputs": [],
   "source": [
    "t_list = [] \n",
    "for i in range(5):\n",
    "    t_list.append(torch.eye(ProjSize, requires_grad = True))\n",
    "loss = 0\n",
    "for i in range(5):\n",
    "    loss = loss + t_list[i]\n",
    "\n",
    "loss = torch.sum(loss)\n",
    "print(loss)\n",
    "loss.backward()"
   ]
  },
  {
   "cell_type": "code",
   "execution_count": null,
   "metadata": {},
   "outputs": [],
   "source": [
    "t_list[0].grad"
   ]
  },
  {
   "cell_type": "code",
   "execution_count": null,
   "metadata": {},
   "outputs": [],
   "source": []
  }
 ],
 "metadata": {
  "kernelspec": {
   "display_name": "Python 3",
   "language": "python",
   "name": "python3"
  },
  "language_info": {
   "codemirror_mode": {
    "name": "ipython",
    "version": 3
   },
   "file_extension": ".py",
   "mimetype": "text/x-python",
   "name": "python",
   "nbconvert_exporter": "python",
   "pygments_lexer": "ipython3",
   "version": "3.6.9"
  }
 },
 "nbformat": 4,
 "nbformat_minor": 5
}
